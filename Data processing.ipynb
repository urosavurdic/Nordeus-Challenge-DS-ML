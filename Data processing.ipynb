{
 "cells": [
  {
   "cell_type": "markdown",
   "id": "c57816c0-41a2-4518-8288-f82662ec7d5e",
   "metadata": {},
   "source": [
    "# Nordeus Data Science Challenge\n",
    "\n",
    "This document presents a solution to the Nordeus Data Science Challenge from JobFair24, which focuses on predicting user activity after re-registration. Nordeus is a mobile gaming company founded in Serbia, best known for its game Top Eleven — a football management mobile game. The task involves predicting the number of `days_active_first_28_days_after_registration` for users who return to the app after a period of inactivity. Four CSV files are provided: two for training and two for testing. Each pair includes one file with information on users’ previous lives and one file with their most recent registration. The test set lacks the target variable, so we must train the model on the training data and generate predictions for the test users.\n",
    "\n",
    "Predicting post-registration activity is important for improving user retention strategies and personalize marketing. By identifying patterns in how returning users engage, Nordeus can choose features and interventions that maximize user engagement. Since the test labels are not available, I will split the training data into training and validation sets to evaluate model performance before submiting predictions for test set. This also helps improve generalization, keeping in mind the bias-variance tradeoff."
   ]
  },
  {
   "cell_type": "code",
   "execution_count": 2,
   "id": "8ef63f5e-52f5-4800-8c32-c8df1fb4def4",
   "metadata": {},
   "outputs": [],
   "source": [
    "import pandas as pd\n",
    "import matplotlib.pyplot as plt\n",
    "import seaborn as sns\n",
    "import numpy as np\n",
    "import optuna\n",
    "import random\n",
    "\n",
    "random.seed(42)\n",
    "np.random.seed(42)\n",
    "optuna.logging.set_verbosity(optuna.logging.INFO)\n",
    "\n",
    "rd = pd.read_csv('registration_data_training.csv')\n",
    "pl = pd.read_csv('previous_lives_training_data.csv')\n",
    "rdx = pd.read_csv('registration_data_test.csv')\n",
    "plx = pd.read_csv('previous_lives_test_data.csv')"
   ]
  },
  {
   "cell_type": "code",
   "execution_count": 3,
   "id": "7a4e7c5e-6b91-4ce1-96cd-af778b1ab355",
   "metadata": {},
   "outputs": [
    {
     "data": {
      "text/plain": [
       "count\n",
       "1    26893\n",
       "2    14388\n",
       "3     6152\n",
       "4     2081\n",
       "5      427\n",
       "6       56\n",
       "7        3\n",
       "Name: count, dtype: int64"
      ]
     },
     "execution_count": 3,
     "metadata": {},
     "output_type": "execute_result"
    }
   ],
   "source": [
    "pl['user_id'].value_counts().value_counts()"
   ]
  },
  {
   "cell_type": "markdown",
   "id": "a31b1b52-0350-41b2-8839-17df2889ed33",
   "metadata": {},
   "source": [
    "It is noticeable that the vast majority of users have only 1 or 2 previous lives, which makes it difficult to extract meaningful sequence trends from such limited data. Therefore, I will proceed with an aggregated approach for feature engineering. For users with 3 or more previous lives, a more advanced model could be introduced in future iterations to predict the days of activity based on temporal patterns. For now I will develop unified model: merging all relevant features into one table and training a single model. As a baseline, I will use a tree-based model, which performs well on tabular data and can handle non-linear relationships effectively."
   ]
  },
  {
   "cell_type": "markdown",
   "id": "37d9417c-1f32-49bb-9777-36032441c2ed",
   "metadata": {},
   "source": [
    "## Exploratory Data Analysis and Feature Engineering"
   ]
  },
  {
   "cell_type": "code",
   "execution_count": 6,
   "id": "98ecf0ec-061a-4eb9-a5e9-d69d31ccaa47",
   "metadata": {},
   "outputs": [
    {
     "name": "stdout",
     "output_type": "stream",
     "text": [
      "<class 'pandas.core.frame.DataFrame'>\n",
      "RangeIndex: 50000 entries, 0 to 49999\n",
      "Data columns (total 30 columns):\n",
      " #   Column                                        Non-Null Count  Dtype  \n",
      "---  ------                                        --------------  -----  \n",
      " 0   user_id                                       50000 non-null  int64  \n",
      " 1   registration_time_utc                         50000 non-null  object \n",
      " 2   registration_platform_specific                50000 non-null  object \n",
      " 3   registration_country                          50000 non-null  object \n",
      " 4   registration_store                            50000 non-null  object \n",
      " 5   registration_season_day                       50000 non-null  int64  \n",
      " 6   registration_channel_detailed                 50000 non-null  object \n",
      " 7   registration_device_type                      50000 non-null  object \n",
      " 8   registration_device_manufacturer              48187 non-null  object \n",
      " 9   session_count                                 50000 non-null  int64  \n",
      " 10  playtime                                      50000 non-null  int64  \n",
      " 11  number_of_devices_used                        50000 non-null  int64  \n",
      " 12  total_match_played_count                      50000 non-null  int64  \n",
      " 13  total_match_won_count                         50000 non-null  int64  \n",
      " 14  total_match_watched_count                     50000 non-null  int64  \n",
      " 15  transaction_count_iap                         50000 non-null  int64  \n",
      " 16  transaction_count_rewarded_video              50000 non-null  int64  \n",
      " 17  tokens_spent                                  50000 non-null  int64  \n",
      " 18  tokens_stash                                  50000 non-null  int64  \n",
      " 19  tokens_bought                                 50000 non-null  int64  \n",
      " 20  rests_stash                                   50000 non-null  int64  \n",
      " 21  rests_spent                                   50000 non-null  int64  \n",
      " 22  treatments_spent                              50000 non-null  int64  \n",
      " 23  morale_spent                                  50000 non-null  int64  \n",
      " 24  money_stash                                   50000 non-null  int64  \n",
      " 25  avg_stars_top_11_players                      50000 non-null  float64\n",
      " 26  avg_stars_top_3_players                       50000 non-null  float64\n",
      " 27  avg_age_top_11_players                        49997 non-null  float64\n",
      " 28  training_count                                50000 non-null  int64  \n",
      " 29  days_active_first_28_days_after_registration  50000 non-null  int64  \n",
      "dtypes: float64(3), int64(20), object(7)\n",
      "memory usage: 11.4+ MB\n"
     ]
    }
   ],
   "source": [
    "rd.info()"
   ]
  },
  {
   "cell_type": "code",
   "execution_count": 7,
   "id": "3b4e2276-b906-4e54-a0a6-1a0b075ab6e8",
   "metadata": {},
   "outputs": [],
   "source": [
    "def rd_fe(rd):\n",
    "    rd['win_rate'] = np.where(rd['total_match_played_count'] == 0, 0, rd['total_match_won_count'] / rd['total_match_played_count'])\n",
    "    rd['watch_to_play_ratio'] = np.where(rd['total_match_played_count'] == 0, 0, rd['total_match_watched_count'] / rd['total_match_played_count'])\n",
    "    rd['session_to_playtime_ratio'] = np.where(rd['session_count'] == 0, 0, rd['playtime'] / rd['session_count'])\n",
    "    rd['spend_per_session'] = np.where(rd['session_count'] == 0, 0, rd['tokens_spent'] / rd['session_count'])\n",
    "    rd['iap_per_session'] = np.where(rd['session_count'] == 0, 0, rd['transaction_count_iap'] / rd['session_count'])\n",
    "    rd['rewarded_video_per_session'] = np.where(rd['session_count'] == 0, 0, rd['transaction_count_rewarded_video'] / rd['session_count'])\n",
    "    rd['token_net_balance'] = rd['tokens_bought'] + rd['tokens_stash'] - rd['tokens_spent']\n",
    "    rd['resource_spent_total'] = rd['rests_spent'] + rd['treatments_spent'] + rd['morale_spent']\n",
    "    rd['star_gap_top_3_vs_11'] = rd['avg_stars_top_3_players'] - rd['avg_stars_top_11_players']\n",
    "    rd['training_per_session'] = np.where(rd['session_count'] == 0, 0, rd['training_count'] / rd['session_count'])\n",
    "    rd['session_count_times_training_per_session'] = rd['session_count'] * rd['training_per_session']\n",
    "    rd['win_rate_times_avg_stars_top_11_players'] = rd['win_rate'] * rd['avg_stars_top_11_players']\n",
    "    rd['max_possible_days'] = 29 - rd['registration_season_day']\n",
    "rd_fe(rd)"
   ]
  },
  {
   "cell_type": "code",
   "execution_count": 8,
   "id": "1fbcc71e-0f73-4284-af62-61cfa8f9ab09",
   "metadata": {},
   "outputs": [
    {
     "data": {
      "text/plain": [
       "<Axes: >"
      ]
     },
     "execution_count": 8,
     "metadata": {},
     "output_type": "execute_result"
    },
    {
     "data": {
      "image/png": "[encoded data removed]",
      "text/plain": [
       "<Figure size 640x480 with 1 Axes>"
      ]
     },
     "metadata": {},
     "output_type": "display_data"
    }
   ],
   "source": [
    "rd['avg_age_top_11_players'].dropna().hist(bins=9)"
   ]
  },
  {
   "cell_type": "code",
   "execution_count": 9,
   "id": "fe05ddba-1bf2-40ad-a807-7ebc509afb54",
   "metadata": {},
   "outputs": [
    {
     "name": "stderr",
     "output_type": "stream",
     "text": [
      "C:\\Users\\Uros\\AppData\\Local\\Temp\\ipykernel_216\\607107349.py:2: FutureWarning: A value is trying to be set on a copy of a DataFrame or Series through chained assignment using an inplace method.\n",
      "The behavior will change in pandas 3.0. This inplace method will never work because the intermediate object on which we are setting values always behaves as a copy.\n",
      "\n",
      "For example, when doing 'df[col].method(value, inplace=True)', try using 'df.method({col: value}, inplace=True)' or df[col] = df[col].method(value) instead, to perform the operation inplace on the original object.\n",
      "\n",
      "\n",
      "  rd['avg_age_top_11_players'].fillna(rd['avg_age_top_11_players'].median(), inplace=True)\n"
     ]
    }
   ],
   "source": [
    "# handling NaN values\n",
    "rd['avg_age_top_11_players'].fillna(rd['avg_age_top_11_players'].median(), inplace=True)"
   ]
  },
  {
   "cell_type": "code",
   "execution_count": 10,
   "id": "bc6dd9a0-aa32-4edb-9c20-eaa320807bc8",
   "metadata": {},
   "outputs": [
    {
     "data": {
      "text/plain": [
       "registration_device_manufacturer\n",
       "Apple      12068\n",
       "samsung    11815\n",
       "Xiaomi      9685\n",
       "OPPO        3119\n",
       "vivo        2298\n",
       "           ...  \n",
       "Droi           1\n",
       "iHunt          1\n",
       "iBRIT          1\n",
       "Kalley         1\n",
       "Samsung        1\n",
       "Name: count, Length: 165, dtype: int64"
      ]
     },
     "execution_count": 10,
     "metadata": {},
     "output_type": "execute_result"
    }
   ],
   "source": [
    "rd['registration_device_manufacturer'].value_counts()"
   ]
  },
  {
   "cell_type": "markdown",
   "id": "ad9f41d5-8177-406d-b500-0bc368f8d410",
   "metadata": {},
   "source": [
    "I see 'samsung' and 'Samsung'. I wil have to make sure for all cathegorical data to be consistent. When it comes to Nan values, I will write 'UNKNOWN'"
   ]
  },
  {
   "cell_type": "code",
   "execution_count": 12,
   "id": "5275409b-0519-43d2-adf7-5ae256737a9f",
   "metadata": {},
   "outputs": [],
   "source": [
    "def clean_cat_data(df):\n",
    "    for column in df.select_dtypes(include='object'):\n",
    "        df[column] = df[column].str.replace(r'\\s+', '', regex=True).str.upper() # deletes all spaces and uppers letters\n",
    "\n",
    "clean_cat_data(rd)\n",
    "clean_cat_data(pl)\n",
    "# handling left NaN values\n",
    "rd['registration_device_manufacturer'] = rd['registration_device_manufacturer'].fillna('UNKNOWN')"
   ]
  },
  {
   "cell_type": "markdown",
   "id": "2d78c54c-79d3-43b0-baf4-3ac4261e4dcf",
   "metadata": {},
   "source": [
    "Besides possible errors in the labeling of cathegories, In the case of `registration_device_manufacturer` also high cardinality is noticable which might make tree based models overfit, or make training time longer. So I would like to check that."
   ]
  },
  {
   "cell_type": "code",
   "execution_count": 14,
   "id": "b2decbc0-6de5-47db-87e1-757071827ace",
   "metadata": {},
   "outputs": [
    {
     "name": "stdout",
     "output_type": "stream",
     "text": [
      "registration_time_utc: 49410 unique values\n",
      "registration_platform_specific: 7 unique values\n",
      "registration_country: 184 unique values\n",
      "registration_store: 7 unique values\n",
      "registration_channel_detailed: 3 unique values\n",
      "registration_device_type: 3 unique values\n",
      "registration_device_manufacturer: 153 unique values\n",
      "registration_date: 699 unique values\n",
      "registration_country: 187 unique values\n",
      "registration_channel_detailed: 3 unique values\n",
      "registration_store: 6 unique values\n",
      "registration_platform_specific: 7 unique values\n"
     ]
    }
   ],
   "source": [
    "def cardinality(df):\n",
    "    # for all object tipes prints number of unique values\n",
    "    for col in df.select_dtypes(include='object').columns: \n",
    "        unique_vals = df[col].nunique()\n",
    "        print(f\"{col}: {unique_vals} unique values\")\n",
    "\n",
    "cardinality(rd)\n",
    "cardinality(pl)"
   ]
  },
  {
   "cell_type": "markdown",
   "id": "eff7970b-794b-4860-beab-84b4c37fa9e5",
   "metadata": {},
   "source": [
    "Date/time, location and manufacturer information are critical. From date/time I will take some features that might keep some trends (day of a week, month, year, local hour, for which I will need to use location information and probably some python library or make my own information of local time). This means that information for country needs to be saved for now, but later it will be processed like manufacturer info. \n",
    "\n",
    "I will also have to take care that initial categories stay consistent, since choosing category by decardinality might differ in test and train sets. So I will have to lower treshold to 0.5% to lower mistake in case some categories have to merge with 'OTHER' if their category don't match. For now I will just define this function and I will use it later for each model as it is the best to be used."
   ]
  },
  {
   "cell_type": "code",
   "execution_count": 16,
   "id": "9f0526ac-764b-4473-85a5-ee4a51c66aff",
   "metadata": {},
   "outputs": [],
   "source": [
    "def decardinality(series, threshold=None):\n",
    "    # makes all cathegories less then 1% as 'OTHER'\n",
    "    if threshold is None:\n",
    "        threshold = series.shape[0] / 100  # default 1% of total\n",
    "    else:\n",
    "        threshold = series.shape[0] * threshold / 100 \n",
    "    \n",
    "    counts = series.value_counts()\n",
    "    common = counts[counts > threshold].index\n",
    "    \n",
    "    return series.apply(lambda x: x if x in common else 'OTHER')"
   ]
  },
  {
   "cell_type": "markdown",
   "id": "f272fac4-7183-42f7-8cd3-cf354a7da7b8",
   "metadata": {},
   "source": [
    "### Date/Time feature engineering"
   ]
  },
  {
   "cell_type": "markdown",
   "id": "9451eae6-094b-4512-bf47-1e3937b08189",
   "metadata": {},
   "source": [
    "I am aware of the existence of certain geolocation libraries that can handle time and location operations. However, due to how the data is stored, the algorithmic complexity made these operations time-consuming, and in many cases, the output ended up being NaN or NaT. I also explored available datasets on Kaggle and GitHub, but the ones I found required significant exploration and data cleaning to make them suitable for my needs. Given these challenges, I generated a file using ChatGPT based on available online data. While this approach might have some mistakes, the output seems fine at first glance. The dataset is organized to store the UTC time zone for each country based on the location of its capital, as it's reasonable to assume that most citizens are concentrated there. While I recognize that some countries have multiple time zones, these cases are relatively rare."
   ]
  },
  {
   "cell_type": "code",
   "execution_count": 19,
   "id": "cc782187-2502-450d-872a-cd5d27938439",
   "metadata": {},
   "outputs": [
    {
     "data": {
      "text/html": [
       "<div>\n",
       "<style scoped>\n",
       "    .dataframe tbody tr th:only-of-type {\n",
       "        vertical-align: middle;\n",
       "    }\n",
       "\n",
       "    .dataframe tbody tr th {\n",
       "        vertical-align: top;\n",
       "    }\n",
       "\n",
       "    .dataframe thead th {\n",
       "        text-align: right;\n",
       "    }\n",
       "</style>\n",
       "<table border=\"1\" class=\"dataframe\">\n",
       "  <thead>\n",
       "    <tr style=\"text-align: right;\">\n",
       "      <th></th>\n",
       "      <th>Country</th>\n",
       "      <th>Capital</th>\n",
       "      <th>UTC_Offset</th>\n",
       "    </tr>\n",
       "  </thead>\n",
       "  <tbody>\n",
       "    <tr>\n",
       "      <th>0</th>\n",
       "      <td>AFGHANISTAN</td>\n",
       "      <td>KABUL</td>\n",
       "      <td>4.5</td>\n",
       "    </tr>\n",
       "    <tr>\n",
       "      <th>1</th>\n",
       "      <td>ALBANIA</td>\n",
       "      <td>TIRANA</td>\n",
       "      <td>1.0</td>\n",
       "    </tr>\n",
       "    <tr>\n",
       "      <th>2</th>\n",
       "      <td>ALGERIA</td>\n",
       "      <td>ALGIERS</td>\n",
       "      <td>1.0</td>\n",
       "    </tr>\n",
       "    <tr>\n",
       "      <th>3</th>\n",
       "      <td>ANDORRA</td>\n",
       "      <td>ANDORRALAVELLA</td>\n",
       "      <td>1.0</td>\n",
       "    </tr>\n",
       "    <tr>\n",
       "      <th>4</th>\n",
       "      <td>ANGOLA</td>\n",
       "      <td>LUANDA</td>\n",
       "      <td>1.0</td>\n",
       "    </tr>\n",
       "    <tr>\n",
       "      <th>...</th>\n",
       "      <td>...</td>\n",
       "      <td>...</td>\n",
       "      <td>...</td>\n",
       "    </tr>\n",
       "    <tr>\n",
       "      <th>216</th>\n",
       "      <td>ALANDISLANDS</td>\n",
       "      <td>MARIEHAMN</td>\n",
       "      <td>2.0</td>\n",
       "    </tr>\n",
       "    <tr>\n",
       "      <th>217</th>\n",
       "      <td>ARUBA</td>\n",
       "      <td>ORANJESTAD</td>\n",
       "      <td>-4.0</td>\n",
       "    </tr>\n",
       "    <tr>\n",
       "      <th>218</th>\n",
       "      <td>CAYMANISLANDS</td>\n",
       "      <td>GEORGETOWN</td>\n",
       "      <td>-5.0</td>\n",
       "    </tr>\n",
       "    <tr>\n",
       "      <th>219</th>\n",
       "      <td>MAYOTTE</td>\n",
       "      <td>MAMOUDZOU</td>\n",
       "      <td>3.0</td>\n",
       "    </tr>\n",
       "    <tr>\n",
       "      <th>220</th>\n",
       "      <td>FAROEISLANDS</td>\n",
       "      <td>TÓRSHAVN</td>\n",
       "      <td>0.0</td>\n",
       "    </tr>\n",
       "  </tbody>\n",
       "</table>\n",
       "<p>221 rows × 3 columns</p>\n",
       "</div>"
      ],
      "text/plain": [
       "           Country         Capital  UTC_Offset\n",
       "0      AFGHANISTAN           KABUL         4.5\n",
       "1          ALBANIA          TIRANA         1.0\n",
       "2          ALGERIA         ALGIERS         1.0\n",
       "3          ANDORRA  ANDORRALAVELLA         1.0\n",
       "4           ANGOLA          LUANDA         1.0\n",
       "..             ...             ...         ...\n",
       "216   ALANDISLANDS       MARIEHAMN         2.0\n",
       "217          ARUBA      ORANJESTAD        -4.0\n",
       "218  CAYMANISLANDS      GEORGETOWN        -5.0\n",
       "219        MAYOTTE       MAMOUDZOU         3.0\n",
       "220   FAROEISLANDS        TÓRSHAVN         0.0\n",
       "\n",
       "[221 rows x 3 columns]"
      ]
     },
     "execution_count": 19,
     "metadata": {},
     "output_type": "execute_result"
    }
   ],
   "source": [
    "tz = pd.read_csv('time_zones.csv')\n",
    "clean_cat_data(tz)\n",
    "tz"
   ]
  },
  {
   "cell_type": "code",
   "execution_count": 20,
   "id": "21513e8d-9e0c-49ed-a1ea-5992799422b2",
   "metadata": {},
   "outputs": [],
   "source": [
    "# divides variable into two columns\n",
    "rd['registration_time_utc'] = rd['registration_time_utc'].str[:10] + ' ' + rd['registration_time_utc'].str[10:]\n",
    "rd['registration_time_utc'] = pd.to_datetime(rd['registration_time_utc'])\n",
    "rd['registration_date'] = rd['registration_time_utc'].dt.strftime('%d-%m-%Y')\n",
    "rd['registration_time'] = rd['registration_time_utc'].dt.strftime('%H:%M:%S')\n",
    "rd.drop(['registration_time_utc'], axis=1, inplace=True)"
   ]
  },
  {
   "cell_type": "code",
   "execution_count": 21,
   "id": "28404427-2310-4a7b-baa9-a9bfc409df10",
   "metadata": {},
   "outputs": [],
   "source": [
    "# transforms registration hours in local time and float type\n",
    "\n",
    "rd['registration_time'] = pd.to_datetime(rd['registration_time'], format='%H:%M:%S')\n",
    "rd['registration_time_hours'] = rd['registration_time'].dt.hour + (rd['registration_time'].dt.minute / 60) + (rd['registration_time'].dt.second / 3600)\n",
    "rd = rd.merge(tz[['Country', 'UTC_Offset']], left_on='registration_country', right_on='Country', how='left')\n",
    "rd['local_time'] = rd['registration_time_hours'] + rd['UTC_Offset']\n",
    "rd['local_time'] = rd['local_time'] % 24\n",
    "rd['local_time'].round().value_counts()\n",
    "rd.drop(['Country', 'registration_time', 'UTC_Offset', 'registration_time_hours'], axis=1, inplace=True)"
   ]
  },
  {
   "cell_type": "markdown",
   "id": "701d83b1-1465-4d13-a9f3-4d8020f8523d",
   "metadata": {},
   "source": [
    "When it comes to previous lives data, idea is to percieve majority of tendencies even if learners are weak because that will serve well for tree based models. Later I will decide to terminate some if I notice that some make model harder to learn."
   ]
  },
  {
   "cell_type": "code",
   "execution_count": 23,
   "id": "9b98ec39-cab0-4eba-a481-01552a142368",
   "metadata": {},
   "outputs": [],
   "source": [
    "# this cell combines registration date from two tables to make new features\n",
    "\n",
    "pl['registration_date'] = pd.to_datetime(pl['registration_date'])\n",
    "history = pl.groupby('user_id')['registration_date'].apply(list).reset_index()\n",
    "rd_dates = rd[['user_id', 'registration_date']]\n",
    "combined = pd.merge(rd_dates, history, on='user_id', how='left')\n",
    "def add_current_to_history(row):\n",
    "    previous = row['registration_date_y'] if isinstance(row['registration_date_y'], list) else []\n",
    "    return previous + [row['registration_date_x']]\n",
    "\n",
    "combined['full_registration_history'] = combined.apply(add_current_to_history, axis=1)\n",
    "\n",
    "combined = combined[['user_id', 'full_registration_history']]"
   ]
  },
  {
   "cell_type": "code",
   "execution_count": 24,
   "id": "5aa27c90-5115-4118-853f-74d3b147d840",
   "metadata": {},
   "outputs": [
    {
     "data": {
      "text/html": [
       "<div>\n",
       "<style scoped>\n",
       "    .dataframe tbody tr th:only-of-type {\n",
       "        vertical-align: middle;\n",
       "    }\n",
       "\n",
       "    .dataframe tbody tr th {\n",
       "        vertical-align: top;\n",
       "    }\n",
       "\n",
       "    .dataframe thead th {\n",
       "        text-align: right;\n",
       "    }\n",
       "</style>\n",
       "<table border=\"1\" class=\"dataframe\">\n",
       "  <thead>\n",
       "    <tr style=\"text-align: right;\">\n",
       "      <th></th>\n",
       "      <th>user_id</th>\n",
       "      <th>full_registration_history</th>\n",
       "    </tr>\n",
       "  </thead>\n",
       "  <tbody>\n",
       "    <tr>\n",
       "      <th>0</th>\n",
       "      <td>5</td>\n",
       "      <td>[2022-04-21 00:00:00, 2023-05-07 00:00:00, 25-...</td>\n",
       "    </tr>\n",
       "    <tr>\n",
       "      <th>1</th>\n",
       "      <td>7</td>\n",
       "      <td>[2022-04-06 00:00:00, 2023-02-06 00:00:00, 202...</td>\n",
       "    </tr>\n",
       "    <tr>\n",
       "      <th>2</th>\n",
       "      <td>13</td>\n",
       "      <td>[2022-10-18 00:00:00, 2023-08-17 00:00:00, 31-...</td>\n",
       "    </tr>\n",
       "    <tr>\n",
       "      <th>3</th>\n",
       "      <td>23</td>\n",
       "      <td>[2023-08-30 00:00:00, 31-05-2024]</td>\n",
       "    </tr>\n",
       "    <tr>\n",
       "      <th>4</th>\n",
       "      <td>25</td>\n",
       "      <td>[2022-08-24 00:00:00, 2023-08-15 00:00:00, 15-...</td>\n",
       "    </tr>\n",
       "    <tr>\n",
       "      <th>...</th>\n",
       "      <td>...</td>\n",
       "      <td>...</td>\n",
       "    </tr>\n",
       "    <tr>\n",
       "      <th>49995</th>\n",
       "      <td>218943</td>\n",
       "      <td>[2022-08-30 00:00:00, 2022-12-19 00:00:00, 202...</td>\n",
       "    </tr>\n",
       "    <tr>\n",
       "      <th>49996</th>\n",
       "      <td>218947</td>\n",
       "      <td>[2022-05-30 00:00:00, 2023-01-20 00:00:00, 202...</td>\n",
       "    </tr>\n",
       "    <tr>\n",
       "      <th>49997</th>\n",
       "      <td>218948</td>\n",
       "      <td>[2023-11-10 00:00:00, 04-06-2024]</td>\n",
       "    </tr>\n",
       "    <tr>\n",
       "      <th>49998</th>\n",
       "      <td>218949</td>\n",
       "      <td>[2022-10-15 00:00:00, 27-05-2024]</td>\n",
       "    </tr>\n",
       "    <tr>\n",
       "      <th>49999</th>\n",
       "      <td>218956</td>\n",
       "      <td>[2022-04-18 00:00:00, 2023-02-06 00:00:00, 202...</td>\n",
       "    </tr>\n",
       "  </tbody>\n",
       "</table>\n",
       "<p>50000 rows × 2 columns</p>\n",
       "</div>"
      ],
      "text/plain": [
       "       user_id                          full_registration_history\n",
       "0            5  [2022-04-21 00:00:00, 2023-05-07 00:00:00, 25-...\n",
       "1            7  [2022-04-06 00:00:00, 2023-02-06 00:00:00, 202...\n",
       "2           13  [2022-10-18 00:00:00, 2023-08-17 00:00:00, 31-...\n",
       "3           23                  [2023-08-30 00:00:00, 31-05-2024]\n",
       "4           25  [2022-08-24 00:00:00, 2023-08-15 00:00:00, 15-...\n",
       "...        ...                                                ...\n",
       "49995   218943  [2022-08-30 00:00:00, 2022-12-19 00:00:00, 202...\n",
       "49996   218947  [2022-05-30 00:00:00, 2023-01-20 00:00:00, 202...\n",
       "49997   218948                  [2023-11-10 00:00:00, 04-06-2024]\n",
       "49998   218949                  [2022-10-15 00:00:00, 27-05-2024]\n",
       "49999   218956  [2022-04-18 00:00:00, 2023-02-06 00:00:00, 202...\n",
       "\n",
       "[50000 rows x 2 columns]"
      ]
     },
     "execution_count": 24,
     "metadata": {},
     "output_type": "execute_result"
    }
   ],
   "source": [
    "combined"
   ]
  },
  {
   "cell_type": "code",
   "execution_count": 25,
   "id": "7d4e64be-1043-49a9-8e05-2b11a4479e8a",
   "metadata": {},
   "outputs": [],
   "source": [
    "from scipy.stats import mode\n",
    "\n",
    "# creation of the new aggregated dataframe based on previous lives\n",
    "\n",
    "agg_pl = pl.groupby('user_id').agg({\n",
    "    # sum of all transactions\n",
    "    'transaction_count_iap_lifetime': 'sum', \n",
    "    # if user was ever a payer or watcher\n",
    "    'is_payer_lifetime': 'max',\n",
    "    'is_rewarded_video_watcher_lifetime': 'max',\n",
    "    # most frequent country, channel, store, platform from user in history\n",
    "    'registration_country': lambda x: x.iloc[0] if x.nunique() == 1 else 'MULTIPLE',\n",
    "    'registration_channel_detailed': lambda x: x.iloc[0] if x.nunique() == 1 else 'MULTIPLE',\n",
    "    'registration_store': lambda x: x.iloc[0] if x.nunique() == 1 else 'MULTIPLE',\n",
    "    'registration_platform_specific': lambda x: x.iloc[0] if x.nunique() == 1 else 'MULTIPLE',\n",
    "    # avg first registration day\n",
    "    'registration_season_day': 'mean',\n",
    "}).reset_index()\n",
    "\n",
    "life_stats = pl.groupby('user_id')['days_active_lifetime'].agg(\n",
    "    # from data about days active this should give a light insight in user behaviour\n",
    "    std_days_active='std',\n",
    "    mean_days_active= 'mean',\n",
    "    no_prev_lives= 'count'\n",
    ").reset_index()\n",
    "\n",
    "life_stats['std_days_active'] = life_stats['std_days_active'].fillna(0)\n",
    "\n",
    "agg_pl = agg_pl.merge(life_stats, on='user_id', how='left')\n",
    "\n"
   ]
  },
  {
   "cell_type": "code",
   "execution_count": 26,
   "id": "49d32438-fe83-4789-aa0b-632853f921e6",
   "metadata": {},
   "outputs": [],
   "source": [
    "# rename the newly created columns to desired names\n",
    "agg_pl = agg_pl.rename(columns={\n",
    "    'registration_country': 'pl_registration_country',\n",
    "    'registration_channel_detailed': 'pl_registration_channel_detailed',\n",
    "    'registration_store': 'pl_registration_store',\n",
    "    'registration_platform_specific': 'pl_registration_platform_specific',\n",
    "    'registration_season_day': 'mean_registration_season_day'\n",
    "})"
   ]
  },
  {
   "cell_type": "code",
   "execution_count": 27,
   "id": "d1abc579-31f5-4678-8ce7-4c9214b5fea8",
   "metadata": {},
   "outputs": [
    {
     "name": "stdout",
     "output_type": "stream",
     "text": [
      "All user_id match\n"
     ]
    }
   ],
   "source": [
    "if rd['user_id'].sort_values().reset_index(drop=True).equals(agg_pl['user_id'].sort_values().reset_index(drop=True)):\n",
    "    print('All user_id match')\n",
    "else:\n",
    "    print('There is mismatch between user_ids')"
   ]
  },
  {
   "cell_type": "code",
   "execution_count": 28,
   "id": "5d2348f4-5c97-487c-97da-e455eb0319ac",
   "metadata": {},
   "outputs": [],
   "source": [
    "# this cell takes insights from combined about overall behaviour of a user\n",
    "from datetime import datetime\n",
    "\n",
    "def time_features(row):\n",
    "    dates = row['full_registration_history']\n",
    "    \n",
    "    # convert to datetime.date\n",
    "    parsed_dates = []\n",
    "    for d in dates:\n",
    "        if isinstance(d, str):\n",
    "            d = datetime.strptime(d, \"%d-%m-%Y\")\n",
    "        elif isinstance(d, pd.Timestamp):\n",
    "            d = d.to_pydatetime()\n",
    "        parsed_dates.append(d)\n",
    "\n",
    "    parsed_dates.sort()\n",
    "\n",
    "    # day differences\n",
    "    diffs = [(parsed_dates[i+1] - parsed_dates[i]).days for i in range(len(parsed_dates) - 1)]\n",
    "\n",
    "    # features\n",
    "    avg_days = np.mean(diffs)\n",
    "    std_days = np.std(diffs) if len(diffs) > 1 else 0\n",
    "    last_two_diff = diffs[-1]\n",
    "\n",
    "    return pd.Series({\n",
    "        'avg_days_between_registrations': avg_days,\n",
    "        'std_days_between_registrations': std_days,\n",
    "        'days_between_last_two': last_two_diff\n",
    "    })\n",
    "\n",
    "features = combined.apply(time_features, axis=1)\n",
    "\n",
    "final = pd.concat([combined[['user_id']], features], axis=1)\n",
    "\n",
    "# merging final insights to agg_pl\n",
    "agg_pl = pd.merge(agg_pl, final, on='user_id', how='left')"
   ]
  },
  {
   "cell_type": "code",
   "execution_count": 29,
   "id": "d7242a3a-8688-41ba-a200-1966fb44e599",
   "metadata": {},
   "outputs": [],
   "source": [
    "from scipy.stats import entropy\n",
    "def safe_entropy(series):\n",
    "    counts = series.value_counts()\n",
    "    if len(counts) <= 1:\n",
    "        return 0.0\n",
    "    return entropy(counts)\n",
    "\n",
    "entropy_variance_stats = pl.groupby('user_id').agg({\n",
    "    'registration_country': safe_entropy,\n",
    "    'registration_channel_detailed': safe_entropy,\n",
    "    'registration_store': safe_entropy,\n",
    "    'registration_platform_specific': safe_entropy,\n",
    "    'registration_season_day': 'var',\n",
    "    'days_active_lifetime': 'var',\n",
    "    'transaction_count_iap_lifetime': 'var',\n",
    "}).reset_index().rename(columns={\n",
    "    'registration_country': 'entropy_country',\n",
    "    'registration_channel_detailed': 'entropy_channel',\n",
    "    'registration_store': 'entropy_store',\n",
    "    'registration_platform_specific': 'entropy_platform',\n",
    "    'registration_season_day': 'var_registration_season_day',\n",
    "    'days_active_lifetime': 'var_days_active_lifetime',\n",
    "    'transaction_count_iap_lifetime': 'var_transaction_count',\n",
    "})"
   ]
  },
  {
   "cell_type": "code",
   "execution_count": 30,
   "id": "42aef93a-0e17-48f9-adfc-c6c347b83666",
   "metadata": {},
   "outputs": [],
   "source": [
    "for col in ['var_registration_season_day', 'var_days_active_lifetime', 'var_transaction_count']:\n",
    "    entropy_variance_stats[col] = entropy_variance_stats[col].fillna(0)\n",
    "\n",
    "agg_pl = agg_pl.merge(entropy_variance_stats, on='user_id', how='left')"
   ]
  },
  {
   "cell_type": "code",
   "execution_count": 31,
   "id": "c8b8d34c-44cd-466a-a958-286f2bd8df2c",
   "metadata": {},
   "outputs": [],
   "source": [
    "unique_counts = pl.groupby('user_id').agg({\n",
    "    'registration_country': lambda x: x.nunique(),\n",
    "    'registration_store': lambda x: x.nunique()\n",
    "}).reset_index().rename(columns={\n",
    "    'registration_country': 'unique_country_count',\n",
    "    'registration_store': 'unique_store_count'\n",
    "})\n",
    "\n",
    "agg_pl = agg_pl.merge(unique_counts, on='user_id', how='left')"
   ]
  },
  {
   "cell_type": "markdown",
   "id": "b9f8bc69-aafc-4a62-9912-6d3da9e6078b",
   "metadata": {},
   "source": [
    "Initial idea was to have month year and weekday. Since year is only 2024 in rd and rdx and since only May and June are the data in rd and June and July in rdx, I will keep just weekdays as only trend that might give more insights."
   ]
  },
  {
   "cell_type": "code",
   "execution_count": 33,
   "id": "b77b2ea3-ad5d-469d-9034-2aeaa65aca09",
   "metadata": {},
   "outputs": [
    {
     "name": "stderr",
     "output_type": "stream",
     "text": [
      "C:\\Users\\Uros\\AppData\\Local\\Temp\\ipykernel_216\\778266404.py:1: UserWarning: Parsing dates in %d-%m-%Y format when dayfirst=False (the default) was specified. Pass `dayfirst=True` or specify a format to silence this warning.\n",
      "  rd['registration_date'] = pd.to_datetime(rd['registration_date'])\n"
     ]
    }
   ],
   "source": [
    "rd['registration_date'] = pd.to_datetime(rd['registration_date'])\n",
    "rd['registration_weekday'] = rd['registration_date'].dt.day_name()"
   ]
  },
  {
   "cell_type": "code",
   "execution_count": 34,
   "id": "c5b5e075-f1c7-4a25-879c-3aec9f30df1c",
   "metadata": {},
   "outputs": [],
   "source": [
    "rd.drop(['registration_date'], inplace=True, axis=1)"
   ]
  },
  {
   "cell_type": "code",
   "execution_count": 35,
   "id": "3e5b065a-9b64-4a1a-b299-3bdd62586c32",
   "metadata": {},
   "outputs": [
    {
     "name": "stdout",
     "output_type": "stream",
     "text": [
      "<class 'pandas.core.frame.DataFrame'>\n",
      "RangeIndex: 50000 entries, 0 to 49999\n",
      "Data columns (total 67 columns):\n",
      " #   Column                                        Non-Null Count  Dtype  \n",
      "---  ------                                        --------------  -----  \n",
      " 0   user_id                                       50000 non-null  int64  \n",
      " 1   registration_platform_specific                50000 non-null  object \n",
      " 2   registration_country                          50000 non-null  object \n",
      " 3   registration_store                            50000 non-null  object \n",
      " 4   registration_season_day                       50000 non-null  int64  \n",
      " 5   registration_channel_detailed                 50000 non-null  object \n",
      " 6   registration_device_type                      50000 non-null  object \n",
      " 7   registration_device_manufacturer              50000 non-null  object \n",
      " 8   session_count                                 50000 non-null  int64  \n",
      " 9   playtime                                      50000 non-null  int64  \n",
      " 10  number_of_devices_used                        50000 non-null  int64  \n",
      " 11  total_match_played_count                      50000 non-null  int64  \n",
      " 12  total_match_won_count                         50000 non-null  int64  \n",
      " 13  total_match_watched_count                     50000 non-null  int64  \n",
      " 14  transaction_count_iap                         50000 non-null  int64  \n",
      " 15  transaction_count_rewarded_video              50000 non-null  int64  \n",
      " 16  tokens_spent                                  50000 non-null  int64  \n",
      " 17  tokens_stash                                  50000 non-null  int64  \n",
      " 18  tokens_bought                                 50000 non-null  int64  \n",
      " 19  rests_stash                                   50000 non-null  int64  \n",
      " 20  rests_spent                                   50000 non-null  int64  \n",
      " 21  treatments_spent                              50000 non-null  int64  \n",
      " 22  morale_spent                                  50000 non-null  int64  \n",
      " 23  money_stash                                   50000 non-null  int64  \n",
      " 24  avg_stars_top_11_players                      50000 non-null  float64\n",
      " 25  avg_stars_top_3_players                       50000 non-null  float64\n",
      " 26  avg_age_top_11_players                        50000 non-null  float64\n",
      " 27  training_count                                50000 non-null  int64  \n",
      " 28  days_active_first_28_days_after_registration  50000 non-null  int64  \n",
      " 29  win_rate                                      50000 non-null  float64\n",
      " 30  watch_to_play_ratio                           50000 non-null  float64\n",
      " 31  session_to_playtime_ratio                     50000 non-null  float64\n",
      " 32  spend_per_session                             50000 non-null  float64\n",
      " 33  iap_per_session                               50000 non-null  float64\n",
      " 34  rewarded_video_per_session                    50000 non-null  float64\n",
      " 35  token_net_balance                             50000 non-null  int64  \n",
      " 36  resource_spent_total                          50000 non-null  int64  \n",
      " 37  star_gap_top_3_vs_11                          50000 non-null  float64\n",
      " 38  training_per_session                          50000 non-null  float64\n",
      " 39  session_count_times_training_per_session      50000 non-null  float64\n",
      " 40  win_rate_times_avg_stars_top_11_players       50000 non-null  float64\n",
      " 41  max_possible_days                             50000 non-null  int64  \n",
      " 42  local_time                                    50000 non-null  float64\n",
      " 43  registration_weekday                          50000 non-null  object \n",
      " 44  transaction_count_iap_lifetime                50000 non-null  int64  \n",
      " 45  is_payer_lifetime                             50000 non-null  bool   \n",
      " 46  is_rewarded_video_watcher_lifetime            50000 non-null  bool   \n",
      " 47  pl_registration_country                       50000 non-null  object \n",
      " 48  pl_registration_channel_detailed              50000 non-null  object \n",
      " 49  pl_registration_store                         50000 non-null  object \n",
      " 50  pl_registration_platform_specific             50000 non-null  object \n",
      " 51  mean_registration_season_day                  50000 non-null  float64\n",
      " 52  std_days_active                               50000 non-null  float64\n",
      " 53  mean_days_active                              50000 non-null  float64\n",
      " 54  no_prev_lives                                 50000 non-null  int64  \n",
      " 55  avg_days_between_registrations                50000 non-null  float64\n",
      " 56  std_days_between_registrations                50000 non-null  float64\n",
      " 57  days_between_last_two                         50000 non-null  float64\n",
      " 58  entropy_country                               50000 non-null  float64\n",
      " 59  entropy_channel                               50000 non-null  float64\n",
      " 60  entropy_store                                 50000 non-null  float64\n",
      " 61  entropy_platform                              50000 non-null  float64\n",
      " 62  var_registration_season_day                   50000 non-null  float64\n",
      " 63  var_days_active_lifetime                      50000 non-null  float64\n",
      " 64  var_transaction_count                         50000 non-null  float64\n",
      " 65  unique_country_count                          50000 non-null  int64  \n",
      " 66  unique_store_count                            50000 non-null  int64  \n",
      "dtypes: bool(2), float64(27), int64(27), object(11)\n",
      "memory usage: 24.9+ MB\n"
     ]
    }
   ],
   "source": [
    "um = rd.merge(agg_pl, on='user_id', how='left')\n",
    "um.info()"
   ]
  },
  {
   "cell_type": "code",
   "execution_count": 36,
   "id": "4ead4c5a-f027-4607-b856-7fc6389f50eb",
   "metadata": {},
   "outputs": [
    {
     "name": "stdout",
     "output_type": "stream",
     "text": [
      "registration_platform_specific: 7 unique values\n",
      "registration_country: 184 unique values\n",
      "registration_store: 7 unique values\n",
      "registration_channel_detailed: 3 unique values\n",
      "registration_device_type: 3 unique values\n",
      "registration_device_manufacturer: 153 unique values\n",
      "registration_weekday: 7 unique values\n",
      "pl_registration_country: 181 unique values\n",
      "pl_registration_channel_detailed: 4 unique values\n",
      "pl_registration_store: 7 unique values\n",
      "pl_registration_platform_specific: 8 unique values\n"
     ]
    }
   ],
   "source": [
    "cardinality(um)"
   ]
  },
  {
   "cell_type": "code",
   "execution_count": 37,
   "id": "bdf04441-ac09-4ff5-8627-2122b8c47891",
   "metadata": {},
   "outputs": [],
   "source": [
    "um['registration_country'] = decardinality(um['registration_country'], 0.5)\n",
    "um['pl_registration_country'] = decardinality(um['pl_registration_country'], 0.5)\n",
    "um['registration_device_manufacturer'] = decardinality(um['registration_device_manufacturer'], 0.5)"
   ]
  },
  {
   "cell_type": "code",
   "execution_count": 38,
   "id": "fb7dd1db-0020-45bf-8b6b-c50ac12dbc74",
   "metadata": {},
   "outputs": [],
   "source": [
    "# these variables need to store common countries and manufacturers because the other dataset might not be the same\n",
    "common_countries = np.unique(um['registration_country'].values)\n",
    "common_pl_countries = np.unique(um['pl_registration_country'].values)\n",
    "common_manufacturer = np.unique(um['registration_device_manufacturer'].values)"
   ]
  },
  {
   "cell_type": "markdown",
   "id": "927711d8-7bb1-4a8f-a415-d531c03a365f",
   "metadata": {},
   "source": [
    "Also I will have to possibly drop some of the features due to the higher correlation. Here is the function:"
   ]
  },
  {
   "cell_type": "code",
   "execution_count": 40,
   "id": "758bf510-bfec-4700-8f76-26669e3c225d",
   "metadata": {},
   "outputs": [],
   "source": [
    "from sklearn.preprocessing import LabelEncoder\n",
    "\n",
    "def drop_highly_correlated_features(df, target, high_thresh=0.9, plot=True):\n",
    "\n",
    "    df_encoded = df.copy()\n",
    "    cat_cols = df_encoded.select_dtypes(include=['object']).columns\n",
    "    le = LabelEncoder()\n",
    "    for col in cat_cols:\n",
    "        df_encoded[col] = le.fit_transform(df_encoded[col])\n",
    "\n",
    "    corr_matrix = df_encoded.corr().abs()\n",
    "    upper = corr_matrix.where(np.triu(np.ones(corr_matrix.shape), k=1).astype(bool))\n",
    "\n",
    "    to_drop = set()\n",
    "\n",
    "    for col in upper.columns:\n",
    "        for row in upper.index:\n",
    "            corr_value = upper.loc[row, col]\n",
    "            if pd.notnull(corr_value) and corr_value > high_thresh:\n",
    "                # drop the one with lower absolute correlation to target\n",
    "                if abs(corr_matrix.loc[row, target]) >= abs(corr_matrix.loc[col, target]):\n",
    "                    to_drop.add(col)\n",
    "                else:\n",
    "                    to_drop.add(row)\n",
    "\n",
    "    df_cleaned = df.drop(columns=list(to_drop))\n",
    "\n",
    "    if plot:\n",
    "        plt.figure(figsize=(12, 10))\n",
    "        sns.heatmap(corr_matrix, annot=False, cmap='coolwarm')\n",
    "        plt.title(\"Correlation Matrix Before Dropping\")\n",
    "        plt.show()\n",
    "\n",
    "    return df_cleaned, list(to_drop)"
   ]
  },
  {
   "cell_type": "code",
   "execution_count": 41,
   "id": "5e90d538-7590-44fa-aaa2-67a5d835c8bc",
   "metadata": {},
   "outputs": [
    {
     "data": {
      "image/png": "[encoded data removed]",
      "text/plain": [
       "<Figure size 1200x1000 with 2 Axes>"
      ]
     },
     "metadata": {},
     "output_type": "display_data"
    },
    {
     "name": "stdout",
     "output_type": "stream",
     "text": [
      "Dropped columns: ['total_match_played_count', 'max_possible_days', 'win_rate', 'resource_spent_total', 'session_count_times_training_per_session', 'days_between_last_two', 'unique_store_count', 'avg_stars_top_11_players', 'entropy_country', 'registration_country', 'tokens_stash']\n"
     ]
    }
   ],
   "source": [
    "clean_um, dropped_cols1 = drop_highly_correlated_features(um, 'days_active_first_28_days_after_registration')\n",
    "print(\"Dropped columns:\", dropped_cols1)"
   ]
  },
  {
   "cell_type": "markdown",
   "id": "9d10af9c-ddbe-4a32-b6ac-588865ca6c5a",
   "metadata": {},
   "source": [
    "Tree based models are normally fine with skews. But most of the vars turned to be extremly skewed so after using this method, MAE dropped for 5"
   ]
  },
  {
   "cell_type": "code",
   "execution_count": 43,
   "id": "14266cd0-5496-4eeb-8e77-68aac7ffc47a",
   "metadata": {},
   "outputs": [],
   "source": [
    "from scipy.stats import skew, boxcox, yeojohnson\n",
    "\n",
    "def transform_skewed_features(X, target_column=None, skew_thresh=0.75):\n",
    "    X_transformed = X.copy()\n",
    "    numeric_cols = X.select_dtypes(include=np.number).columns.drop(target_column, errors='ignore')\n",
    "    \n",
    "    skew_stats = []\n",
    "    transformations = {}\n",
    "\n",
    "    for col in numeric_cols:\n",
    "        original_skew = skew(X[col])\n",
    "        \n",
    "        if abs(original_skew) > skew_thresh:\n",
    "            if (X[col] <= 0).any():\n",
    "                transformed, _ = yeojohnson(X[col])\n",
    "                X_transformed[col] = transformed\n",
    "                method = 'yeojohnson'\n",
    "            else:\n",
    "                transformed, _ = boxcox(X[col])\n",
    "                X_transformed[col] = transformed\n",
    "                method = 'boxcox'\n",
    "\n",
    "            new_skew = skew(X_transformed[col])\n",
    "            transformations[col] = method\n",
    "        else:\n",
    "            new_skew = original_skew\n",
    "            method = 'none'\n",
    "        \n",
    "        skew_stats.append({\n",
    "            'feature': col,\n",
    "            'original_skew': original_skew,\n",
    "            'new_skew': new_skew,\n",
    "            'transformation': method\n",
    "        })\n",
    "\n",
    "    skew_stats_df = pd.DataFrame(skew_stats).set_index('feature')\n",
    "    return X_transformed, skew_stats_df, transformations"
   ]
  },
  {
   "cell_type": "code",
   "execution_count": 44,
   "id": "e7e625a1-cc90-42e6-aefc-d14fc0c6a67f",
   "metadata": {},
   "outputs": [
    {
     "name": "stdout",
     "output_type": "stream",
     "text": [
      "                                         original_skew   new_skew  \\\n",
      "feature                                                             \n",
      "user_id                                      -0.006624  -0.006624   \n",
      "registration_season_day                       0.136840   0.136840   \n",
      "session_count                                 3.836181   0.059790   \n",
      "playtime                                      3.589065  -0.032164   \n",
      "number_of_devices_used                        3.345927   1.258441   \n",
      "total_match_won_count                         3.546574   0.384161   \n",
      "total_match_watched_count                     4.958470   1.393678   \n",
      "transaction_count_iap                        22.599372   9.332809   \n",
      "transaction_count_rewarded_video              6.918627   0.894915   \n",
      "tokens_spent                                 52.979983   0.020586   \n",
      "tokens_bought                               167.043327  12.793463   \n",
      "rests_stash                                   1.599141   0.097619   \n",
      "rests_spent                                   3.700582   0.620072   \n",
      "treatments_spent                              7.844584   2.604035   \n",
      "morale_spent                                  6.863599   0.813222   \n",
      "money_stash                                   0.784187   0.301049   \n",
      "avg_stars_top_3_players                      -0.340224  -0.340224   \n",
      "avg_age_top_11_players                        0.370443   0.370443   \n",
      "training_count                               19.681362   0.155582   \n",
      "watch_to_play_ratio                           1.741072   1.414115   \n",
      "session_to_playtime_ratio                     5.829489  -0.022298   \n",
      "spend_per_session                             4.340375   0.110869   \n",
      "iap_per_session                              23.500669   9.332820   \n",
      "rewarded_video_per_session                    8.934765   0.978532   \n",
      "token_net_balance                            10.142474   1.385831   \n",
      "star_gap_top_3_vs_11                          1.202599   0.041203   \n",
      "training_per_session                         18.288544   0.217512   \n",
      "win_rate_times_avg_stars_top_11_players       0.420336   0.420336   \n",
      "local_time                                   -0.538346  -0.538346   \n",
      "transaction_count_iap_lifetime               17.237637   2.290207   \n",
      "mean_registration_season_day                  0.054520   0.054520   \n",
      "std_days_active                               4.961342   0.573295   \n",
      "mean_days_active                              4.283929   0.031454   \n",
      "no_prev_lives                                 1.325732   0.301890   \n",
      "avg_days_between_registrations                0.814852   0.003781   \n",
      "std_days_between_registrations                1.688171   0.263456   \n",
      "entropy_channel                               1.477461   1.408894   \n",
      "entropy_store                                 6.168153   5.997263   \n",
      "entropy_platform                              4.882117   4.743325   \n",
      "var_registration_season_day                   2.552893   0.438237   \n",
      "var_days_active_lifetime                     13.483098   0.666745   \n",
      "var_transaction_count                       149.756360   3.645268   \n",
      "unique_country_count                          7.024073   6.514275   \n",
      "\n",
      "                                        transformation  \n",
      "feature                                                 \n",
      "user_id                                           none  \n",
      "registration_season_day                           none  \n",
      "session_count                               yeojohnson  \n",
      "playtime                                    yeojohnson  \n",
      "number_of_devices_used                      yeojohnson  \n",
      "total_match_won_count                       yeojohnson  \n",
      "total_match_watched_count                   yeojohnson  \n",
      "transaction_count_iap                       yeojohnson  \n",
      "transaction_count_rewarded_video            yeojohnson  \n",
      "tokens_spent                                yeojohnson  \n",
      "tokens_bought                               yeojohnson  \n",
      "rests_stash                                 yeojohnson  \n",
      "rests_spent                                 yeojohnson  \n",
      "treatments_spent                            yeojohnson  \n",
      "morale_spent                                yeojohnson  \n",
      "money_stash                                 yeojohnson  \n",
      "avg_stars_top_3_players                           none  \n",
      "avg_age_top_11_players                            none  \n",
      "training_count                              yeojohnson  \n",
      "watch_to_play_ratio                         yeojohnson  \n",
      "session_to_playtime_ratio                   yeojohnson  \n",
      "spend_per_session                           yeojohnson  \n",
      "iap_per_session                             yeojohnson  \n",
      "rewarded_video_per_session                  yeojohnson  \n",
      "token_net_balance                           yeojohnson  \n",
      "star_gap_top_3_vs_11                        yeojohnson  \n",
      "training_per_session                        yeojohnson  \n",
      "win_rate_times_avg_stars_top_11_players           none  \n",
      "local_time                                        none  \n",
      "transaction_count_iap_lifetime              yeojohnson  \n",
      "mean_registration_season_day                      none  \n",
      "std_days_active                             yeojohnson  \n",
      "mean_days_active                                boxcox  \n",
      "no_prev_lives                                   boxcox  \n",
      "avg_days_between_registrations                  boxcox  \n",
      "std_days_between_registrations              yeojohnson  \n",
      "entropy_channel                             yeojohnson  \n",
      "entropy_store                               yeojohnson  \n",
      "entropy_platform                            yeojohnson  \n",
      "var_registration_season_day                 yeojohnson  \n",
      "var_days_active_lifetime                    yeojohnson  \n",
      "var_transaction_count                       yeojohnson  \n",
      "unique_country_count                            boxcox  \n"
     ]
    }
   ],
   "source": [
    "um_transform, skew_report, applied_transforms = transform_skewed_features(clean_um, target_column='days_active_first_28_days_after_registration')\n",
    "print(skew_report)"
   ]
  },
  {
   "cell_type": "code",
   "execution_count": 45,
   "id": "f133645e-cdab-47f2-bac4-4780a5ff24d4",
   "metadata": {},
   "outputs": [],
   "source": [
    "from scipy.stats.mstats import winsorize\n",
    "\n",
    "def winsorize_and_update_skew(X, skew_report, skew_threshold=1.0, limits=(0.01, 0.01)):\n",
    "    X_winsorized = X.copy()\n",
    "    updated_skew_report = skew_report.copy()\n",
    "\n",
    "    high_skew_features = skew_report[skew_report['new_skew'].abs() > skew_threshold].index.tolist()\n",
    "\n",
    "    for col in high_skew_features:\n",
    "        if col in X_winsorized.columns:\n",
    "            X_winsorized[col] = winsorize(X_winsorized[col], limits=limits)\n",
    "            print(col)\n",
    "\n",
    "            if np.isclose(np.var(X_winsorized[col]), 0):\n",
    "                new_skew_value = 0.0\n",
    "                print(f\"{col} variance near zero — set skew to 0\")\n",
    "            else:\n",
    "                new_skew_value = skew(X_winsorized[col])\n",
    "\n",
    "            updated_skew_report.loc[col, 'post_winsor_skew'] = new_skew_value\n",
    "\n",
    "    return X_winsorized, updated_skew_report\n"
   ]
  },
  {
   "cell_type": "code",
   "execution_count": 46,
   "id": "62f77740-5ba3-461a-b278-7acf060d04b5",
   "metadata": {},
   "outputs": [
    {
     "name": "stdout",
     "output_type": "stream",
     "text": [
      "number_of_devices_used\n",
      "number_of_devices_used variance near zero — set skew to 0\n",
      "total_match_watched_count\n",
      "transaction_count_iap\n",
      "tokens_bought\n",
      "tokens_bought variance near zero — set skew to 0\n",
      "treatments_spent\n",
      "watch_to_play_ratio\n",
      "iap_per_session\n",
      "token_net_balance\n",
      "transaction_count_iap_lifetime\n",
      "entropy_channel\n",
      "entropy_store\n",
      "entropy_platform\n",
      "var_transaction_count\n",
      "unique_country_count\n"
     ]
    }
   ],
   "source": [
    "X_winsorized, updated_skew_report = winsorize_and_update_skew(um_transform, skew_report)"
   ]
  },
  {
   "cell_type": "code",
   "execution_count": 47,
   "id": "b7ad7bcf-d340-4d7c-b04c-70fe079be240",
   "metadata": {},
   "outputs": [],
   "source": [
    "common_columns = X_winsorized.columns.intersection(um_transform.columns)\n",
    "um_transform[common_columns] = X_winsorized[common_columns]\n",
    "common_columns = um_transform.columns.intersection(clean_um.columns)\n",
    "clean_um[common_columns] = um_transform[common_columns]"
   ]
  },
  {
   "cell_type": "code",
   "execution_count": 48,
   "id": "9bc76664-a8a6-44d4-b67c-c964ea59ac28",
   "metadata": {},
   "outputs": [
    {
     "name": "stdout",
     "output_type": "stream",
     "text": [
      "Dropping low-variance features: ['number_of_devices_used', 'transaction_count_iap', 'tokens_bought', 'iap_per_session', 'entropy_store', 'unique_country_count']\n"
     ]
    }
   ],
   "source": [
    "# low variance\n",
    "numeric_cols = clean_um.select_dtypes(include=[np.number])\n",
    "low_variance_features = numeric_cols.var()[numeric_cols.var() < 1e-5].index.tolist()\n",
    "\n",
    "print(f\"Dropping low-variance features: {low_variance_features}\")\n",
    "X_cleaned = clean_um.drop(columns=low_variance_features)"
   ]
  },
  {
   "cell_type": "code",
   "execution_count": 49,
   "id": "482919f0-7bfa-4379-8804-b06eef54a1a1",
   "metadata": {},
   "outputs": [],
   "source": [
    "X_cleaned.to_csv('X_cleaned.csv', index=False)"
   ]
  },
  {
   "cell_type": "code",
   "execution_count": 50,
   "id": "15f979c9-3610-4b67-9cc5-161271a28128",
   "metadata": {},
   "outputs": [
    {
     "name": "stdout",
     "output_type": "stream",
     "text": [
      "<class 'pandas.core.frame.DataFrame'>\n",
      "RangeIndex: 50000 entries, 0 to 49999\n",
      "Data columns (total 50 columns):\n",
      " #   Column                                        Non-Null Count  Dtype  \n",
      "---  ------                                        --------------  -----  \n",
      " 0   user_id                                       50000 non-null  int64  \n",
      " 1   registration_platform_specific                50000 non-null  object \n",
      " 2   registration_store                            50000 non-null  object \n",
      " 3   registration_season_day                       50000 non-null  int64  \n",
      " 4   registration_channel_detailed                 50000 non-null  object \n",
      " 5   registration_device_type                      50000 non-null  object \n",
      " 6   registration_device_manufacturer              50000 non-null  object \n",
      " 7   session_count                                 50000 non-null  float64\n",
      " 8   playtime                                      50000 non-null  float64\n",
      " 9   total_match_won_count                         50000 non-null  float64\n",
      " 10  total_match_watched_count                     50000 non-null  float64\n",
      " 11  transaction_count_rewarded_video              50000 non-null  float64\n",
      " 12  tokens_spent                                  50000 non-null  float64\n",
      " 13  rests_stash                                   50000 non-null  float64\n",
      " 14  rests_spent                                   50000 non-null  float64\n",
      " 15  treatments_spent                              50000 non-null  float64\n",
      " 16  morale_spent                                  50000 non-null  float64\n",
      " 17  money_stash                                   50000 non-null  float64\n",
      " 18  avg_stars_top_3_players                       50000 non-null  float64\n",
      " 19  avg_age_top_11_players                        50000 non-null  float64\n",
      " 20  training_count                                50000 non-null  float64\n",
      " 21  days_active_first_28_days_after_registration  50000 non-null  int64  \n",
      " 22  watch_to_play_ratio                           50000 non-null  float64\n",
      " 23  session_to_playtime_ratio                     50000 non-null  float64\n",
      " 24  spend_per_session                             50000 non-null  float64\n",
      " 25  rewarded_video_per_session                    50000 non-null  float64\n",
      " 26  token_net_balance                             50000 non-null  float64\n",
      " 27  star_gap_top_3_vs_11                          50000 non-null  float64\n",
      " 28  training_per_session                          50000 non-null  float64\n",
      " 29  win_rate_times_avg_stars_top_11_players       50000 non-null  float64\n",
      " 30  local_time                                    50000 non-null  float64\n",
      " 31  registration_weekday                          50000 non-null  object \n",
      " 32  transaction_count_iap_lifetime                50000 non-null  float64\n",
      " 33  is_payer_lifetime                             50000 non-null  bool   \n",
      " 34  is_rewarded_video_watcher_lifetime            50000 non-null  bool   \n",
      " 35  pl_registration_country                       50000 non-null  object \n",
      " 36  pl_registration_channel_detailed              50000 non-null  object \n",
      " 37  pl_registration_store                         50000 non-null  object \n",
      " 38  pl_registration_platform_specific             50000 non-null  object \n",
      " 39  mean_registration_season_day                  50000 non-null  float64\n",
      " 40  std_days_active                               50000 non-null  float64\n",
      " 41  mean_days_active                              50000 non-null  float64\n",
      " 42  no_prev_lives                                 50000 non-null  float64\n",
      " 43  avg_days_between_registrations                50000 non-null  float64\n",
      " 44  std_days_between_registrations                50000 non-null  float64\n",
      " 45  entropy_channel                               50000 non-null  float64\n",
      " 46  entropy_platform                              50000 non-null  float64\n",
      " 47  var_registration_season_day                   50000 non-null  float64\n",
      " 48  var_days_active_lifetime                      50000 non-null  float64\n",
      " 49  var_transaction_count                         50000 non-null  float64\n",
      "dtypes: bool(2), float64(35), int64(3), object(10)\n",
      "memory usage: 18.4+ MB\n"
     ]
    }
   ],
   "source": [
    "X_cleaned.info()"
   ]
  },
  {
   "cell_type": "markdown",
   "id": "8c1fe495-d2e9-417e-8dd0-f38b3540ebc2",
   "metadata": {},
   "source": [
    "Interesting fact: some of the variables dropped in some of the previous tests were shown to have low learning importnce."
   ]
  },
  {
   "cell_type": "markdown",
   "id": "aa44ac86-9d3a-45d9-8c37-b5aaaa013478",
   "metadata": {},
   "source": [
    "## Terst data"
   ]
  },
  {
   "cell_type": "code",
   "execution_count": 53,
   "id": "5b6dc790-e773-4475-ac79-a185cbbebd0b",
   "metadata": {},
   "outputs": [
    {
     "name": "stderr",
     "output_type": "stream",
     "text": [
      "C:\\Users\\Uros\\AppData\\Local\\Temp\\ipykernel_216\\3736772482.py:2: FutureWarning: A value is trying to be set on a copy of a DataFrame or Series through chained assignment using an inplace method.\n",
      "The behavior will change in pandas 3.0. This inplace method will never work because the intermediate object on which we are setting values always behaves as a copy.\n",
      "\n",
      "For example, when doing 'df[col].method(value, inplace=True)', try using 'df.method({col: value}, inplace=True)' or df[col] = df[col].method(value) instead, to perform the operation inplace on the original object.\n",
      "\n",
      "\n",
      "  rdx['avg_age_top_11_players'].fillna(rdx['avg_age_top_11_players'].median(), inplace=True)\n"
     ]
    },
    {
     "name": "stdout",
     "output_type": "stream",
     "text": [
      "All user_id match\n"
     ]
    }
   ],
   "source": [
    "# handling NaN values\n",
    "rdx['avg_age_top_11_players'].fillna(rdx['avg_age_top_11_players'].median(), inplace=True)\n",
    "rd_fe(rdx)\n",
    "\n",
    "clean_cat_data(rdx)\n",
    "clean_cat_data(plx)\n",
    "\n",
    "# handling left NaN values\n",
    "rdx['registration_device_manufacturer'] = rdx['registration_device_manufacturer'].fillna('UNKNOWN')\n",
    "\n",
    "# divides variable into two columns\n",
    "rdx['registration_time_utc'] = rdx['registration_time_utc'].str[:10] + ' ' + rdx['registration_time_utc'].str[10:]\n",
    "rdx['registration_time_utc'] = pd.to_datetime(rdx['registration_time_utc'])\n",
    "rdx['registration_date'] = rdx['registration_time_utc'].dt.strftime('%d-%m-%Y')\n",
    "rdx['registration_time'] = rdx['registration_time_utc'].dt.strftime('%H:%M:%S')\n",
    "rdx.drop(['registration_time_utc'], axis=1, inplace=True)\n",
    "\n",
    "# transforms registration hours in local time and float type\n",
    "rdx['registration_time'] = pd.to_datetime(rdx['registration_time'], format='%H:%M:%S')\n",
    "rdx['registration_time_hours'] = rdx['registration_time'].dt.hour + (rdx['registration_time'].dt.minute / 60) + (rdx['registration_time'].dt.second / 3600)\n",
    "rdx = rdx.merge(tz[['Country', 'UTC_Offset']], left_on='registration_country', right_on='Country', how='left')\n",
    "rdx['local_time'] = rdx['registration_time_hours'] + rdx['UTC_Offset']\n",
    "rdx['local_time'] = rdx['local_time'] % 24\n",
    "rdx.drop(['Country', 'registration_time', 'UTC_Offset', 'registration_time_hours'], axis=1, inplace=True)\n",
    "\n",
    "# this cell combines registration date from two tables to make new features\n",
    "plx['registration_date'] = pd.to_datetime(plx['registration_date'])\n",
    "history = plx.groupby('user_id')['registration_date'].apply(list).reset_index()\n",
    "rdx_dates = rdx[['user_id', 'registration_date']]\n",
    "combined = pd.merge(rdx_dates, history, on='user_id', how='left')\n",
    "def add_current_to_history(row):\n",
    "    previous = row['registration_date_y'] if isinstance(row['registration_date_y'], list) else []\n",
    "    return previous + [row['registration_date_x']]\n",
    "\n",
    "combined['full_registration_history'] = combined.apply(add_current_to_history, axis=1)\n",
    "combined = combined[['user_id', 'full_registration_history']]\n",
    "\n",
    "# creation of the new aggregated dataframe based on previous lives\n",
    "\n",
    "agg_plx = plx.groupby('user_id').agg({\n",
    "    # sum of all transactions\n",
    "    'transaction_count_iap_lifetime': 'sum', \n",
    "    # if user was ever a payer or watcher\n",
    "    'is_payer_lifetime': 'max',\n",
    "    'is_rewarded_video_watcher_lifetime': 'max',\n",
    "    # most frequent country, channel, store, platform from user in history\n",
    "    'registration_country': lambda x: x.iloc[0] if x.nunique() == 1 else 'MULTIPLE',\n",
    "    'registration_channel_detailed': lambda x: x.iloc[0] if x.nunique() == 1 else 'MULTIPLE',\n",
    "    'registration_store': lambda x: x.iloc[0] if x.nunique() == 1 else 'MULTIPLE',\n",
    "    'registration_platform_specific': lambda x: x.iloc[0] if x.nunique() == 1 else 'MULTIPLE',\n",
    "    # avg first registration day\n",
    "    'registration_season_day': 'mean',\n",
    "}).reset_index()\n",
    "\n",
    "life_stats = plx.groupby('user_id')['days_active_lifetime'].agg(\n",
    "    # from data about days active this should give a light insight in user behaviour\n",
    "    std_days_active='std',\n",
    "    mean_days_active= 'mean',\n",
    "    no_prev_lives= 'count'\n",
    ").reset_index()\n",
    "\n",
    "life_stats['std_days_active'] = life_stats['std_days_active'].fillna(0)\n",
    "\n",
    "agg_plx = agg_plx.merge(life_stats, on='user_id', how='left')\n",
    "\n",
    "# rename the newly created columns to desired names\n",
    "agg_plx = agg_plx.rename(columns={\n",
    "    'registration_country': 'pl_registration_country',\n",
    "    'registration_channel_detailed': 'pl_registration_channel_detailed',\n",
    "    'registration_store': 'pl_registration_store',\n",
    "    'registration_platform_specific': 'pl_registration_platform_specific',\n",
    "    'registration_season_day': 'mean_registration_season_day'\n",
    "})\n",
    "\n",
    "if rdx['user_id'].sort_values().reset_index(drop=True).equals(agg_plx['user_id'].sort_values().reset_index(drop=True)):\n",
    "    print('All user_id match')\n",
    "else:\n",
    "    print('There is mismatch between user_ids')"
   ]
  },
  {
   "cell_type": "code",
   "execution_count": 54,
   "id": "2efc35cf-c8ee-4a56-a764-bf4efdcc673b",
   "metadata": {},
   "outputs": [],
   "source": [
    "# this cell takes insights from combined about overall behaviour of a user\n",
    "features = combined.apply(time_features, axis=1)\n",
    "final = pd.concat([combined[['user_id']], features], axis=1)\n",
    "\n",
    "# merging final insights to agg_pl\n",
    "agg_plx = pd.merge(agg_plx, final, on='user_id', how='left')\n",
    "\n",
    "entropy_variance_stats = plx.groupby('user_id').agg({\n",
    "    'registration_country': safe_entropy,\n",
    "    'registration_channel_detailed': safe_entropy,\n",
    "    'registration_store': safe_entropy,\n",
    "    'registration_platform_specific': safe_entropy,\n",
    "    'registration_season_day': 'var',\n",
    "    'days_active_lifetime': 'var',\n",
    "    'transaction_count_iap_lifetime': 'var',\n",
    "}).reset_index().rename(columns={\n",
    "    'registration_country': 'entropy_country',\n",
    "    'registration_channel_detailed': 'entropy_channel',\n",
    "    'registration_store': 'entropy_store',\n",
    "    'registration_platform_specific': 'entropy_platform',\n",
    "    'registration_season_day': 'var_registration_season_day',\n",
    "    'days_active_lifetime': 'var_days_active_lifetime',\n",
    "    'transaction_count_iap_lifetime': 'var_transaction_count',\n",
    "})\n",
    "\n",
    "for col in ['var_registration_season_day', 'var_days_active_lifetime', 'var_transaction_count']:\n",
    "    entropy_variance_stats[col] = entropy_variance_stats[col].fillna(0)\n",
    "\n",
    "agg_plx = agg_plx.merge(entropy_variance_stats, on='user_id', how='left')\n",
    "\n",
    "unique_counts = plx.groupby('user_id').agg({\n",
    "    'registration_country': lambda x: x.nunique(),\n",
    "    'registration_store': lambda x: x.nunique()\n",
    "}).reset_index().rename(columns={\n",
    "    'registration_country': 'unique_country_count',\n",
    "    'registration_store': 'unique_store_count'\n",
    "})\n",
    "\n",
    "agg_plx = agg_plx.merge(unique_counts, on='user_id', how='left')\n",
    "\n",
    "rdx['registration_date'] = pd.to_datetime(rdx['registration_date'], format='%d-%m-%Y')\n",
    "rdx['registration_weekday'] = rdx['registration_date'].dt.day_name()\n",
    "\n",
    "rdx.drop(['registration_date'], inplace=True, axis=1)\n",
    "umx = rdx.merge(agg_plx, on='user_id', how='left')"
   ]
  },
  {
   "cell_type": "code",
   "execution_count": 55,
   "id": "38fe0442-52ea-4bc6-a7ca-ac58982ac6dc",
   "metadata": {},
   "outputs": [
    {
     "name": "stdout",
     "output_type": "stream",
     "text": [
      "registration_platform_specific: 7 unique values\n",
      "registration_country: 187 unique values\n",
      "registration_store: 7 unique values\n",
      "registration_channel_detailed: 3 unique values\n",
      "registration_device_type: 3 unique values\n",
      "registration_device_manufacturer: 154 unique values\n",
      "registration_weekday: 7 unique values\n",
      "pl_registration_country: 189 unique values\n",
      "pl_registration_channel_detailed: 4 unique values\n",
      "pl_registration_store: 7 unique values\n",
      "pl_registration_platform_specific: 8 unique values\n"
     ]
    }
   ],
   "source": [
    "cardinality(umx)"
   ]
  },
  {
   "cell_type": "code",
   "execution_count": 56,
   "id": "5566697d-7a78-40d9-bb2a-5ade83b22853",
   "metadata": {},
   "outputs": [],
   "source": [
    "def apply_train_cardinality(df, col_name, common_values):\n",
    "    df[col_name] = df[col_name].where(df[col_name].isin(common_values), 'OTHER')\n",
    "    return df\n",
    "\n",
    "umx = apply_train_cardinality(umx, 'registration_country', common_countries)\n",
    "umx = apply_train_cardinality(umx, 'pl_registration_country', common_pl_countries)\n",
    "umx = apply_train_cardinality(umx, 'registration_device_manufacturer', common_manufacturer)"
   ]
  },
  {
   "cell_type": "code",
   "execution_count": 57,
   "id": "29a36f26-e11f-47be-b5d1-c9e0350e9166",
   "metadata": {},
   "outputs": [
    {
     "data": {
      "text/plain": [
       "registration_country\n",
       "INDONESIA        12018\n",
       "OTHER             7349\n",
       "TURKEY            4472\n",
       "BRAZIL            3067\n",
       "GERMANY           2130\n",
       "UNITEDKINGDOM     1700\n",
       "FRANCE            1619\n",
       "THAILAND          1544\n",
       "ITALY             1339\n",
       "SPAIN             1236\n",
       "MALAYSIA          1162\n",
       "POLAND            1160\n",
       "UNITEDSTATES       951\n",
       "ARGENTINA          852\n",
       "GREECE             745\n",
       "EGYPT              728\n",
       "ROMANIA            680\n",
       "ISRAEL             651\n",
       "PORTUGAL           590\n",
       "MEXICO             566\n",
       "CZECHREPUBLIC      559\n",
       "INDIA              533\n",
       "SERBIA             445\n",
       "SAUDIARABIA        437\n",
       "COLOMBIA           395\n",
       "NETHERLANDS        392\n",
       "BELGIUM            376\n",
       "NIGERIA            363\n",
       "AUSTRIA            359\n",
       "CHILE              353\n",
       "VIETNAM            342\n",
       "MOROCCO            332\n",
       "SWEDEN             286\n",
       "SOUTHAFRICA        269\n",
       "Name: count, dtype: int64"
      ]
     },
     "execution_count": 57,
     "metadata": {},
     "output_type": "execute_result"
    }
   ],
   "source": [
    "um['registration_country'].value_counts()"
   ]
  },
  {
   "cell_type": "code",
   "execution_count": 58,
   "id": "0bad30f5-eda5-4d87-82fc-2cb373f73fa9",
   "metadata": {},
   "outputs": [],
   "source": [
    "# I will use same features to drop as it was dropped in test\n",
    "umx.drop(dropped_cols1, inplace=True, axis=1)"
   ]
  },
  {
   "cell_type": "code",
   "execution_count": 59,
   "id": "3702af11-6eaf-48cf-aa6e-56a52f35c2a9",
   "metadata": {},
   "outputs": [
    {
     "name": "stdout",
     "output_type": "stream",
     "text": [
      "                                         original_skew   new_skew  \\\n",
      "feature                                                             \n",
      "user_id                                      -0.008307  -0.008307   \n",
      "registration_season_day                       0.093620   0.093620   \n",
      "session_count                                 3.675338   0.035873   \n",
      "playtime                                      3.554282  -0.030526   \n",
      "number_of_devices_used                        2.511612   1.480952   \n",
      "total_match_won_count                         4.817627   0.349343   \n",
      "total_match_watched_count                     4.789186   1.001248   \n",
      "transaction_count_iap                        16.782595   8.963564   \n",
      "transaction_count_rewarded_video              7.346262   0.998305   \n",
      "tokens_spent                                 43.753176   0.061300   \n",
      "tokens_bought                               104.895730  13.274678   \n",
      "rests_stash                                   1.653874  -0.640662   \n",
      "rests_spent                                   3.616519   0.674206   \n",
      "treatments_spent                              9.497521   2.845401   \n",
      "morale_spent                                  7.993718   0.906444   \n",
      "money_stash                                   0.855998   0.406265   \n",
      "avg_stars_top_3_players                      -0.255144  -0.255144   \n",
      "avg_age_top_11_players                        0.381728   0.381728   \n",
      "training_count                               21.147452   0.179219   \n",
      "watch_to_play_ratio                           1.587229   1.130155   \n",
      "session_to_playtime_ratio                     7.369232  -0.035642   \n",
      "spend_per_session                            19.692596   0.143475   \n",
      "iap_per_session                              26.053195   8.963810   \n",
      "rewarded_video_per_session                    9.714874   1.074491   \n",
      "token_net_balance                             7.157597   0.612988   \n",
      "star_gap_top_3_vs_11                          1.218200   0.061998   \n",
      "training_per_session                         18.932863   0.232500   \n",
      "win_rate_times_avg_stars_top_11_players       0.390445   0.390445   \n",
      "local_time                                         NaN        NaN   \n",
      "transaction_count_iap_lifetime               30.713637   2.306973   \n",
      "mean_registration_season_day                  0.056271   0.056271   \n",
      "std_days_active                               5.497613   0.562628   \n",
      "mean_days_active                              4.501720   0.043526   \n",
      "no_prev_lives                                 1.294634   0.283503   \n",
      "avg_days_between_registrations                0.857218   0.006146   \n",
      "std_days_between_registrations                1.682799   0.237806   \n",
      "entropy_channel                               1.455892   1.382511   \n",
      "entropy_store                                 6.208465   6.007393   \n",
      "entropy_platform                              4.823260   4.652812   \n",
      "var_registration_season_day                   2.467235   0.405059   \n",
      "var_days_active_lifetime                     15.292550   0.663190   \n",
      "var_transaction_count                       132.400718   3.603428   \n",
      "unique_country_count                          6.985273   6.181508   \n",
      "\n",
      "                                        transformation  \n",
      "feature                                                 \n",
      "user_id                                           none  \n",
      "registration_season_day                           none  \n",
      "session_count                               yeojohnson  \n",
      "playtime                                    yeojohnson  \n",
      "number_of_devices_used                      yeojohnson  \n",
      "total_match_won_count                       yeojohnson  \n",
      "total_match_watched_count                   yeojohnson  \n",
      "transaction_count_iap                       yeojohnson  \n",
      "transaction_count_rewarded_video            yeojohnson  \n",
      "tokens_spent                                yeojohnson  \n",
      "tokens_bought                               yeojohnson  \n",
      "rests_stash                                 yeojohnson  \n",
      "rests_spent                                 yeojohnson  \n",
      "treatments_spent                            yeojohnson  \n",
      "morale_spent                                yeojohnson  \n",
      "money_stash                                 yeojohnson  \n",
      "avg_stars_top_3_players                           none  \n",
      "avg_age_top_11_players                            none  \n",
      "training_count                              yeojohnson  \n",
      "watch_to_play_ratio                         yeojohnson  \n",
      "session_to_playtime_ratio                   yeojohnson  \n",
      "spend_per_session                           yeojohnson  \n",
      "iap_per_session                             yeojohnson  \n",
      "rewarded_video_per_session                  yeojohnson  \n",
      "token_net_balance                           yeojohnson  \n",
      "star_gap_top_3_vs_11                        yeojohnson  \n",
      "training_per_session                        yeojohnson  \n",
      "win_rate_times_avg_stars_top_11_players           none  \n",
      "local_time                                        none  \n",
      "transaction_count_iap_lifetime              yeojohnson  \n",
      "mean_registration_season_day                      none  \n",
      "std_days_active                             yeojohnson  \n",
      "mean_days_active                                boxcox  \n",
      "no_prev_lives                                   boxcox  \n",
      "avg_days_between_registrations                  boxcox  \n",
      "std_days_between_registrations              yeojohnson  \n",
      "entropy_channel                             yeojohnson  \n",
      "entropy_store                               yeojohnson  \n",
      "entropy_platform                            yeojohnson  \n",
      "var_registration_season_day                 yeojohnson  \n",
      "var_days_active_lifetime                    yeojohnson  \n",
      "var_transaction_count                       yeojohnson  \n",
      "unique_country_count                            boxcox  \n",
      "number_of_devices_used\n",
      "number_of_devices_used variance near zero — set skew to 0\n",
      "total_match_watched_count\n",
      "transaction_count_iap\n",
      "tokens_bought\n",
      "tokens_bought variance near zero — set skew to 0\n",
      "treatments_spent\n",
      "watch_to_play_ratio\n",
      "iap_per_session\n",
      "rewarded_video_per_session\n",
      "transaction_count_iap_lifetime\n",
      "entropy_channel\n",
      "entropy_store\n",
      "entropy_platform\n",
      "var_transaction_count\n",
      "unique_country_count\n",
      "Dropping low-variance features: ['number_of_devices_used', 'transaction_count_iap', 'tokens_bought', 'iap_per_session', 'entropy_store', 'unique_country_count']\n"
     ]
    }
   ],
   "source": [
    "\n",
    "umx_transform, skew_report, applied_transforms = transform_skewed_features(umx)\n",
    "print(skew_report)\n",
    "\n",
    "X_winsorizedx, updated_skew_report = winsorize_and_update_skew(umx_transform, skew_report)\n",
    "\n",
    "common_columns = X_winsorizedx.columns.intersection(umx_transform.columns)\n",
    "umx_transform[common_columns] = X_winsorizedx[common_columns]\n",
    "common_columns = umx_transform.columns.intersection(umx.columns)\n",
    "umx[common_columns] = umx_transform[common_columns]\n",
    "\n",
    "# low variance\n",
    "numeric_cols = umx.select_dtypes(include=[np.number])\n",
    "low_variance_features = numeric_cols.var()[numeric_cols.var() < 1e-5].index.tolist()\n",
    "\n",
    "print(f\"Dropping low-variance features: {low_variance_features}\")\n",
    "X_cleanedx = umx.drop(columns=low_variance_features)"
   ]
  },
  {
   "cell_type": "code",
   "execution_count": 60,
   "id": "95f115ba-e397-4988-94cc-edd2c9f7825d",
   "metadata": {},
   "outputs": [
    {
     "name": "stdout",
     "output_type": "stream",
     "text": [
      "<class 'pandas.core.frame.DataFrame'>\n",
      "RangeIndex: 50000 entries, 0 to 49999\n",
      "Data columns (total 55 columns):\n",
      " #   Column                                   Non-Null Count  Dtype  \n",
      "---  ------                                   --------------  -----  \n",
      " 0   user_id                                  50000 non-null  int64  \n",
      " 1   registration_platform_specific           50000 non-null  object \n",
      " 2   registration_store                       50000 non-null  object \n",
      " 3   registration_season_day                  50000 non-null  int64  \n",
      " 4   registration_channel_detailed            50000 non-null  object \n",
      " 5   registration_device_type                 50000 non-null  object \n",
      " 6   registration_device_manufacturer         50000 non-null  object \n",
      " 7   session_count                            50000 non-null  float64\n",
      " 8   playtime                                 50000 non-null  float64\n",
      " 9   number_of_devices_used                   50000 non-null  float64\n",
      " 10  total_match_won_count                    50000 non-null  float64\n",
      " 11  total_match_watched_count                50000 non-null  float64\n",
      " 12  transaction_count_iap                    50000 non-null  float64\n",
      " 13  transaction_count_rewarded_video         50000 non-null  float64\n",
      " 14  tokens_spent                             50000 non-null  float64\n",
      " 15  tokens_bought                            50000 non-null  float64\n",
      " 16  rests_stash                              50000 non-null  float64\n",
      " 17  rests_spent                              50000 non-null  float64\n",
      " 18  treatments_spent                         50000 non-null  float64\n",
      " 19  morale_spent                             50000 non-null  float64\n",
      " 20  money_stash                              50000 non-null  float64\n",
      " 21  avg_stars_top_3_players                  50000 non-null  float64\n",
      " 22  avg_age_top_11_players                   50000 non-null  float64\n",
      " 23  training_count                           50000 non-null  float64\n",
      " 24  watch_to_play_ratio                      50000 non-null  float64\n",
      " 25  session_to_playtime_ratio                50000 non-null  float64\n",
      " 26  spend_per_session                        50000 non-null  float64\n",
      " 27  iap_per_session                          50000 non-null  float64\n",
      " 28  rewarded_video_per_session               50000 non-null  float64\n",
      " 29  token_net_balance                        50000 non-null  float64\n",
      " 30  star_gap_top_3_vs_11                     50000 non-null  float64\n",
      " 31  training_per_session                     50000 non-null  float64\n",
      " 32  win_rate_times_avg_stars_top_11_players  50000 non-null  float64\n",
      " 33  local_time                               49994 non-null  float64\n",
      " 34  registration_weekday                     50000 non-null  object \n",
      " 35  transaction_count_iap_lifetime           50000 non-null  float64\n",
      " 36  is_payer_lifetime                        50000 non-null  bool   \n",
      " 37  is_rewarded_video_watcher_lifetime       50000 non-null  bool   \n",
      " 38  pl_registration_country                  50000 non-null  object \n",
      " 39  pl_registration_channel_detailed         50000 non-null  object \n",
      " 40  pl_registration_store                    50000 non-null  object \n",
      " 41  pl_registration_platform_specific        50000 non-null  object \n",
      " 42  mean_registration_season_day             50000 non-null  float64\n",
      " 43  std_days_active                          50000 non-null  float64\n",
      " 44  mean_days_active                         50000 non-null  float64\n",
      " 45  no_prev_lives                            50000 non-null  float64\n",
      " 46  avg_days_between_registrations           50000 non-null  float64\n",
      " 47  std_days_between_registrations           50000 non-null  float64\n",
      " 48  entropy_channel                          50000 non-null  float64\n",
      " 49  entropy_store                            50000 non-null  float64\n",
      " 50  entropy_platform                         50000 non-null  float64\n",
      " 51  var_registration_season_day              50000 non-null  float64\n",
      " 52  var_days_active_lifetime                 50000 non-null  float64\n",
      " 53  var_transaction_count                    50000 non-null  float64\n",
      " 54  unique_country_count                     50000 non-null  float64\n",
      "dtypes: bool(2), float64(41), int64(2), object(10)\n",
      "memory usage: 20.3+ MB\n"
     ]
    }
   ],
   "source": [
    "umx.info()"
   ]
  },
  {
   "cell_type": "markdown",
   "id": "276a2242-096e-495e-b49a-0c620265531b",
   "metadata": {},
   "source": [
    "# Train and test"
   ]
  },
  {
   "cell_type": "code",
   "execution_count": 62,
   "id": "60beb5d3-7933-4d9f-8110-3267a973a3e9",
   "metadata": {},
   "outputs": [],
   "source": [
    "from sklearn.model_selection import train_test_split, KFold\n",
    "from sklearn.ensemble import VotingRegressor\n",
    "from sklearn.metrics import mean_absolute_error\n",
    "import numpy as np\n",
    "import xgboost as xgb\n",
    "import lightgbm as lgb\n",
    "import catboost as cb\n",
    "from sklearn.preprocessing import LabelEncoder\n",
    "\n",
    "X = X_cleaned.drop(columns=['days_active_first_28_days_after_registration', 'user_id'])\n",
    "y = np.log1p(X_cleaned['days_active_first_28_days_after_registration']) # getting better results for skewness\n",
    "\n",
    "X_encoded = X.copy()\n",
    "cat_features = X.select_dtypes(include='object').columns\n",
    "for col in cat_features:\n",
    "    X_encoded[col] = LabelEncoder().fit_transform(X_encoded[col].astype(str))\n",
    "\n",
    "X_train, X_val, y_train, y_val = train_test_split(X_encoded, y, test_size=0.2, random_state=42)"
   ]
  },
  {
   "cell_type": "code",
   "execution_count": 63,
   "id": "b6ae9f32-5dab-4f0f-a43e-eafa8293ce0a",
   "metadata": {},
   "outputs": [],
   "source": [
    "def le_to_ae(y, f):  # y: observed (log1p), f: predicted (log1p)\n",
    "    LE1p = f - y  # log(f+1) - log(y+1)\n",
    "    ae = np.abs((np.expm1(y) + 1) * (np.expm1(LE1p)))\n",
    "    return ae\n",
    "\n",
    "def mae_calculator(model, trial=None):\n",
    "    aes = []\n",
    "    kf = KFold(n_splits=5, shuffle=True, random_state=42)\n",
    "    for train_index, test_index in kf.split(X_train):\n",
    "        X_train_fold, X_test_fold = X_train.iloc[train_index], X_train.iloc[test_index]\n",
    "        y_train_fold, y_test_fold = y_train.iloc[train_index], y_train.iloc[test_index]\n",
    "\n",
    "        model.fit(X_train_fold, y_train_fold)\n",
    "        y_pred_log1p = model.predict(X_test_fold)\n",
    "\n",
    "        ae = le_to_ae(y_test_fold, y_pred_log1p)\n",
    "        aes.extend(ae)\n",
    "\n",
    "    mae = np.mean(aes)\n",
    "\n",
    "    if trial:\n",
    "        print(f\"XGBoost Trial {trial.number} MAE (Original Scale): {mae:.4f}\")\n",
    "    else:\n",
    "        print(f\"MAE (Original Scale): {mae:.4f}\")\n",
    "\n",
    "    return mae\n",
    "\n",
    "\n",
    "\n",
    "def objective_xgb(trial):\n",
    "    learning_rate = trial.suggest_float('learning_rate', 0.01, 0.3)\n",
    "    max_depth = trial.suggest_int('max_depth', 3, 10)\n",
    "    subsample = trial.suggest_float('subsample', 0.6, 1.0)\n",
    "    colsample_bytree = trial.suggest_float('colsample_bytree', 0.6, 1.0)\n",
    "    lambda_l1 = trial.suggest_float('lambda_l1', 0.5, 3.0)\n",
    "    lambda_l2 = trial.suggest_float('lambda_l2', 0.5, 3.0)\n",
    "    n_estimators = trial.suggest_int('n_estimators', 100, 200)\n",
    "\n",
    "    xgb_model = xgb.XGBRegressor(\n",
    "        learning_rate=learning_rate,\n",
    "        max_depth=max_depth,\n",
    "        subsample=subsample,\n",
    "        colsample_bytree=colsample_bytree,\n",
    "        lambda_l1=lambda_l1,\n",
    "        lambda_l2=lambda_l2,\n",
    "        n_estimators=n_estimators,\n",
    "        random_state=42,\n",
    "        objective='reg:squarederror',\n",
    "        verbosity=0,\n",
    "    )\n",
    "\n",
    "    return mae_calculator(xgb_model, trial)\n",
    "    \n",
    "\n",
    "def objective_lgb(trial):\n",
    "    learning_rate = trial.suggest_float('learning_rate', 0.01, 0.3)\n",
    "    max_depth = trial.suggest_int('max_depth', 3, 10)\n",
    "    num_leaves = trial.suggest_int('num_leaves', 20, 60)\n",
    "    subsample = trial.suggest_float('subsample', 0.6, 1.0)\n",
    "    colsample_bytree = trial.suggest_float('colsample_bytree', 0.6, 1.0)\n",
    "    lambda_l1 = trial.suggest_float('lambda_l1', 0.5, 3.0)\n",
    "    lambda_l2 = trial.suggest_float('lambda_l2', 0.5, 3.0)\n",
    "    n_estimators = trial.suggest_int('n_estimators', 100, 200)\n",
    "\n",
    "    lgb_model = lgb.LGBMRegressor(\n",
    "        learning_rate=learning_rate,\n",
    "        max_depth=max_depth,\n",
    "        num_leaves=num_leaves,\n",
    "        subsample=subsample,\n",
    "        colsample_bytree=colsample_bytree,\n",
    "        lambda_l1=lambda_l1,\n",
    "        lambda_l2=lambda_l2,\n",
    "        n_estimators=n_estimators,\n",
    "        random_state=42,\n",
    "        objective='regression',\n",
    "        verbose=-1,\n",
    "    )\n",
    "    \n",
    "    return mae_calculator(lgb_model, trial)\n",
    "\n",
    "def objective_cat(trial):\n",
    "    learning_rate = trial.suggest_float('learning_rate', 0.01, 0.3)\n",
    "    depth = trial.suggest_int('depth', 4, 10)\n",
    "    subsample = trial.suggest_float('subsample', 0.5, 1.0)\n",
    "    colsample_bylevel = trial.suggest_float('colsample_bylevel', 0.5, 1.0)\n",
    "    l2_leaf_reg = trial.suggest_float('l2_leaf_reg', 0.5, 3.0)\n",
    "    iterations = trial.suggest_int('iterations', 100, 200)\n",
    "\n",
    "    cat_model = cb.CatBoostRegressor(\n",
    "        loss_function='MAE',\n",
    "        learning_rate=learning_rate,\n",
    "        depth=depth,\n",
    "        subsample=subsample,\n",
    "        colsample_bylevel=colsample_bylevel,\n",
    "        l2_leaf_reg=l2_leaf_reg,\n",
    "        iterations=iterations,\n",
    "        random_seed=42,\n",
    "        verbose=0\n",
    "    )\n",
    "    \n",
    "    return mae_calculator(cat_model, trial)"
   ]
  },
  {
   "cell_type": "code",
   "execution_count": 64,
   "id": "52ac3444-75d3-44cc-869c-ae0383dfd321",
   "metadata": {},
   "outputs": [
    {
     "name": "stderr",
     "output_type": "stream",
     "text": [
      "[I 2025-04-30 00:26:08,528] A new study created in memory with name: no-name-2edb832c-2847-4876-be61-ffd0f9f09204\n",
      "[I 2025-04-30 00:26:39,637] Trial 0 finished with value: 5.567821339448658 and parameters: {'learning_rate': 0.11861663446573512, 'max_depth': 10, 'subsample': 0.892797576724562, 'colsample_bytree': 0.8394633936788146, 'lambda_l1': 0.8900466011060912, 'lambda_l2': 0.8899863008405067, 'n_estimators': 105}. Best is trial 0 with value: 5.567821339448658.\n"
     ]
    },
    {
     "name": "stdout",
     "output_type": "stream",
     "text": [
      "XGBoost Trial 0 MAE (Original Scale): 5.5678\n"
     ]
    },
    {
     "name": "stderr",
     "output_type": "stream",
     "text": [
      "[I 2025-04-30 00:26:48,788] Trial 1 finished with value: 5.643620405983753 and parameters: {'learning_rate': 0.2611910822747312, 'max_depth': 7, 'subsample': 0.8832290311184181, 'colsample_bytree': 0.608233797718321, 'lambda_l1': 2.9247746304049858, 'lambda_l2': 2.5811066020010545, 'n_estimators': 121}. Best is trial 0 with value: 5.567821339448658.\n"
     ]
    },
    {
     "name": "stdout",
     "output_type": "stream",
     "text": [
      "XGBoost Trial 1 MAE (Original Scale): 5.6436\n"
     ]
    },
    {
     "name": "stderr",
     "output_type": "stream",
     "text": [
      "[I 2025-04-30 00:26:54,275] Trial 2 finished with value: 5.509954613204553 and parameters: {'learning_rate': 0.06272924049005918, 'max_depth': 4, 'subsample': 0.7216968971838151, 'colsample_bytree': 0.8099025726528951, 'lambda_l1': 1.5798625466052894, 'lambda_l2': 1.2280728504951048, 'n_estimators': 161}. Best is trial 2 with value: 5.509954613204553.\n"
     ]
    },
    {
     "name": "stdout",
     "output_type": "stream",
     "text": [
      "XGBoost Trial 2 MAE (Original Scale): 5.5100\n"
     ]
    },
    {
     "name": "stderr",
     "output_type": "stream",
     "text": [
      "[I 2025-04-30 00:27:00,360] Trial 3 finished with value: 5.509685312038206 and parameters: {'learning_rate': 0.05045321958909213, 'max_depth': 5, 'subsample': 0.7465447373174767, 'colsample_bytree': 0.7824279936868144, 'lambda_l1': 2.462939903482534, 'lambda_l2': 0.9991844553958993, 'n_estimators': 151}. Best is trial 3 with value: 5.509685312038206.\n"
     ]
    },
    {
     "name": "stdout",
     "output_type": "stream",
     "text": [
      "XGBoost Trial 3 MAE (Original Scale): 5.5097\n"
     ]
    },
    {
     "name": "stderr",
     "output_type": "stream",
     "text": [
      "[I 2025-04-30 00:27:05,367] Trial 4 finished with value: 5.487164462476625 and parameters: {'learning_rate': 0.18180022496999232, 'max_depth': 3, 'subsample': 0.8430179407605753, 'colsample_bytree': 0.6682096494749166, 'lambda_l1': 0.6626289824631988, 'lambda_l2': 2.8722138431333333, 'n_estimators': 197}. Best is trial 4 with value: 5.487164462476625.\n"
     ]
    },
    {
     "name": "stdout",
     "output_type": "stream",
     "text": [
      "XGBoost Trial 4 MAE (Original Scale): 5.4872\n"
     ]
    },
    {
     "name": "stderr",
     "output_type": "stream",
     "text": [
      "[I 2025-04-30 00:27:13,444] Trial 5 finished with value: 5.582305541963238 and parameters: {'learning_rate': 0.24443523095377373, 'max_depth': 5, 'subsample': 0.6390688456025535, 'colsample_bytree': 0.8736932106048627, 'lambda_l1': 1.6003812343490034, 'lambda_l2': 0.8050955871119471, 'n_estimators': 150}. Best is trial 4 with value: 5.487164462476625.\n"
     ]
    },
    {
     "name": "stdout",
     "output_type": "stream",
     "text": [
      "XGBoost Trial 5 MAE (Original Scale): 5.5823\n"
     ]
    },
    {
     "name": "stderr",
     "output_type": "stream",
     "text": [
      "[I 2025-04-30 00:28:04,805] Trial 6 finished with value: 5.588541017496323 and parameters: {'learning_rate': 0.019972671123413333, 'max_depth': 10, 'subsample': 0.7035119926400067, 'colsample_bytree': 0.8650089137415928, 'lambda_l1': 1.2792776902235274, 'lambda_l2': 1.800170052944527, 'n_estimators': 155}. Best is trial 4 with value: 5.487164462476625.\n"
     ]
    },
    {
     "name": "stdout",
     "output_type": "stream",
     "text": [
      "XGBoost Trial 6 MAE (Original Scale): 5.5885\n"
     ]
    },
    {
     "name": "stderr",
     "output_type": "stream",
     "text": [
      "[I 2025-04-30 00:29:04,219] Trial 7 finished with value: 5.5361066191770645 and parameters: {'learning_rate': 0.06360779210240283, 'max_depth': 10, 'subsample': 0.9100531293444458, 'colsample_bytree': 0.9757995766256756, 'lambda_l1': 2.737068376069122, 'lambda_l2': 1.9947499470277128, 'n_estimators': 193}. Best is trial 4 with value: 5.487164462476625.\n"
     ]
    },
    {
     "name": "stdout",
     "output_type": "stream",
     "text": [
      "XGBoost Trial 7 MAE (Original Scale): 5.5361\n"
     ]
    },
    {
     "name": "stderr",
     "output_type": "stream",
     "text": [
      "[I 2025-04-30 00:29:10,009] Trial 8 finished with value: 5.539202197324225 and parameters: {'learning_rate': 0.03566282559505665, 'max_depth': 4, 'subsample': 0.6180909155642152, 'colsample_bytree': 0.7301321323053057, 'lambda_l1': 1.471693224223705, 'lambda_l2': 1.1783725794347397, 'n_estimators': 183}. Best is trial 4 with value: 5.487164462476625.\n"
     ]
    },
    {
     "name": "stdout",
     "output_type": "stream",
     "text": [
      "XGBoost Trial 8 MAE (Original Scale): 5.5392\n"
     ]
    },
    {
     "name": "stderr",
     "output_type": "stream",
     "text": [
      "[I 2025-04-30 00:29:17,132] Trial 9 finished with value: 5.490245769767592 and parameters: {'learning_rate': 0.11345846474114088, 'max_depth': 5, 'subsample': 0.8170784332632994, 'colsample_bytree': 0.6563696899899051, 'lambda_l1': 2.5054924518850994, 'lambda_l2': 0.686376609199427, 'n_estimators': 199}. Best is trial 4 with value: 5.487164462476625.\n"
     ]
    },
    {
     "name": "stdout",
     "output_type": "stream",
     "text": [
      "XGBoost Trial 9 MAE (Original Scale): 5.4902\n"
     ]
    },
    {
     "name": "stderr",
     "output_type": "stream",
     "text": [
      "[I 2025-04-30 00:29:30,128] Trial 10 finished with value: 5.54819610401417 and parameters: {'learning_rate': 0.19519500907669304, 'max_depth': 7, 'subsample': 0.9878148443151463, 'colsample_bytree': 0.6998501323364759, 'lambda_l1': 0.5363521879059109, 'lambda_l2': 2.769161988206295, 'n_estimators': 173}. Best is trial 4 with value: 5.487164462476625.\n"
     ]
    },
    {
     "name": "stdout",
     "output_type": "stream",
     "text": [
      "XGBoost Trial 10 MAE (Original Scale): 5.5482\n"
     ]
    },
    {
     "name": "stderr",
     "output_type": "stream",
     "text": [
      "[I 2025-04-30 00:29:35,970] Trial 11 finished with value: 5.487372975951096 and parameters: {'learning_rate': 0.15229415550842235, 'max_depth': 3, 'subsample': 0.8202420767456583, 'colsample_bytree': 0.6054439187294712, 'lambda_l1': 2.242889745850236, 'lambda_l2': 2.351759098686382, 'n_estimators': 200}. Best is trial 4 with value: 5.487164462476625.\n"
     ]
    },
    {
     "name": "stdout",
     "output_type": "stream",
     "text": [
      "XGBoost Trial 11 MAE (Original Scale): 5.4874\n"
     ]
    },
    {
     "name": "stderr",
     "output_type": "stream",
     "text": [
      "[I 2025-04-30 00:29:40,999] Trial 12 finished with value: 5.4847251861506345 and parameters: {'learning_rate': 0.18523894680684855, 'max_depth': 3, 'subsample': 0.8188489911725517, 'colsample_bytree': 0.601714089202831, 'lambda_l1': 2.092582770568585, 'lambda_l2': 2.337322032279309, 'n_estimators': 179}. Best is trial 12 with value: 5.4847251861506345.\n"
     ]
    },
    {
     "name": "stdout",
     "output_type": "stream",
     "text": [
      "XGBoost Trial 12 MAE (Original Scale): 5.4847\n"
     ]
    },
    {
     "name": "stderr",
     "output_type": "stream",
     "text": [
      "[I 2025-04-30 00:29:45,745] Trial 13 finished with value: 5.497330048455746 and parameters: {'learning_rate': 0.20996561432498617, 'max_depth': 3, 'subsample': 0.7756364150680863, 'colsample_bytree': 0.6716990001073604, 'lambda_l1': 2.0550456332657046, 'lambda_l2': 2.9876294003365627, 'n_estimators': 171}. Best is trial 12 with value: 5.4847251861506345.\n"
     ]
    },
    {
     "name": "stdout",
     "output_type": "stream",
     "text": [
      "XGBoost Trial 13 MAE (Original Scale): 5.4973\n"
     ]
    },
    {
     "name": "stderr",
     "output_type": "stream",
     "text": [
      "[I 2025-04-30 00:30:09,343] Trial 14 finished with value: 5.804228794065318 and parameters: {'learning_rate': 0.2905565802049641, 'max_depth': 8, 'subsample': 0.8470851867111202, 'colsample_bytree': 0.7572031101970935, 'lambda_l1': 1.958067884915819, 'lambda_l2': 2.2693660902056982, 'n_estimators': 183}. Best is trial 12 with value: 5.4847251861506345.\n"
     ]
    },
    {
     "name": "stdout",
     "output_type": "stream",
     "text": [
      "XGBoost Trial 14 MAE (Original Scale): 5.8042\n"
     ]
    },
    {
     "name": "stderr",
     "output_type": "stream",
     "text": [
      "[I 2025-04-30 00:30:14,914] Trial 15 finished with value: 5.5029297666586645 and parameters: {'learning_rate': 0.17953670896838678, 'max_depth': 3, 'subsample': 0.9812890319065439, 'colsample_bytree': 0.6516719563699208, 'lambda_l1': 1.0260735703466866, 'lambda_l2': 2.9961346770954465, 'n_estimators': 133}. Best is trial 12 with value: 5.4847251861506345.\n"
     ]
    },
    {
     "name": "stdout",
     "output_type": "stream",
     "text": [
      "XGBoost Trial 15 MAE (Original Scale): 5.5029\n"
     ]
    },
    {
     "name": "stderr",
     "output_type": "stream",
     "text": [
      "[I 2025-04-30 00:30:21,919] Trial 16 finished with value: 5.4799510695911495 and parameters: {'learning_rate': 0.1433896063178473, 'max_depth': 4, 'subsample': 0.9305414146749215, 'colsample_bytree': 0.6053395618280067, 'lambda_l1': 0.5517866956049768, 'lambda_l2': 2.2419898109754772, 'n_estimators': 186}. Best is trial 16 with value: 5.4799510695911495.\n"
     ]
    },
    {
     "name": "stdout",
     "output_type": "stream",
     "text": [
      "XGBoost Trial 16 MAE (Original Scale): 5.4800\n"
     ]
    },
    {
     "name": "stderr",
     "output_type": "stream",
     "text": [
      "[I 2025-04-30 00:30:31,330] Trial 17 finished with value: 5.506399761668365 and parameters: {'learning_rate': 0.13292936282938547, 'max_depth': 6, 'subsample': 0.9388783681263092, 'colsample_bytree': 0.9353523847892582, 'lambda_l1': 1.8994278357520742, 'lambda_l2': 1.6737856733142973, 'n_estimators': 178}. Best is trial 16 with value: 5.4799510695911495.\n"
     ]
    },
    {
     "name": "stdout",
     "output_type": "stream",
     "text": [
      "XGBoost Trial 17 MAE (Original Scale): 5.5064\n"
     ]
    },
    {
     "name": "stderr",
     "output_type": "stream",
     "text": [
      "[I 2025-04-30 00:30:36,267] Trial 18 finished with value: 5.488049970442466 and parameters: {'learning_rate': 0.09980892435641452, 'max_depth': 4, 'subsample': 0.9362148766913249, 'colsample_bytree': 0.6049461878533252, 'lambda_l1': 1.2742519492917908, 'lambda_l2': 2.219717948053646, 'n_estimators': 165}. Best is trial 16 with value: 5.4799510695911495.\n"
     ]
    },
    {
     "name": "stdout",
     "output_type": "stream",
     "text": [
      "XGBoost Trial 18 MAE (Original Scale): 5.4880\n"
     ]
    },
    {
     "name": "stderr",
     "output_type": "stream",
     "text": [
      "[I 2025-04-30 00:30:45,352] Trial 19 finished with value: 5.481990221323575 and parameters: {'learning_rate': 0.08970735520862619, 'max_depth': 6, 'subsample': 0.7779297217031729, 'colsample_bytree': 0.7155102452843098, 'lambda_l1': 2.224186063029418, 'lambda_l2': 1.5902495839307005, 'n_estimators': 185}. Best is trial 16 with value: 5.4799510695911495.\n"
     ]
    },
    {
     "name": "stdout",
     "output_type": "stream",
     "text": [
      "XGBoost Trial 19 MAE (Original Scale): 5.4820\n"
     ]
    },
    {
     "name": "stderr",
     "output_type": "stream",
     "text": [
      "[I 2025-04-30 00:31:01,204] Trial 20 finished with value: 5.504354321580498 and parameters: {'learning_rate': 0.08444501230113413, 'max_depth': 8, 'subsample': 0.6806536305763278, 'colsample_bytree': 0.7210520793143109, 'lambda_l1': 2.36911543773278, 'lambda_l2': 1.558822680649477, 'n_estimators': 138}. Best is trial 16 with value: 5.4799510695911495.\n"
     ]
    },
    {
     "name": "stdout",
     "output_type": "stream",
     "text": [
      "XGBoost Trial 20 MAE (Original Scale): 5.5044\n"
     ]
    },
    {
     "name": "stderr",
     "output_type": "stream",
     "text": [
      "[I 2025-04-30 00:31:11,147] Trial 21 finished with value: 5.517772559714943 and parameters: {'learning_rate': 0.14943870114238414, 'max_depth': 6, 'subsample': 0.774493085397632, 'colsample_bytree': 0.6373350864361208, 'lambda_l1': 2.203717490353061, 'lambda_l2': 1.994483742360965, 'n_estimators': 187}. Best is trial 16 with value: 5.4799510695911495.\n"
     ]
    },
    {
     "name": "stdout",
     "output_type": "stream",
     "text": [
      "XGBoost Trial 21 MAE (Original Scale): 5.5178\n"
     ]
    },
    {
     "name": "stderr",
     "output_type": "stream",
     "text": [
      "[I 2025-04-30 00:31:16,613] Trial 22 finished with value: 5.5088911809395675 and parameters: {'learning_rate': 0.2306093310432712, 'max_depth': 4, 'subsample': 0.8611032962601062, 'colsample_bytree': 0.6977655457469518, 'lambda_l1': 1.711053103491387, 'lambda_l2': 2.5236105519905, 'n_estimators': 187}. Best is trial 16 with value: 5.4799510695911495.\n"
     ]
    },
    {
     "name": "stdout",
     "output_type": "stream",
     "text": [
      "XGBoost Trial 22 MAE (Original Scale): 5.5089\n"
     ]
    },
    {
     "name": "stderr",
     "output_type": "stream",
     "text": [
      "[I 2025-04-30 00:31:22,883] Trial 23 finished with value: 5.498996996979988 and parameters: {'learning_rate': 0.17079998696599463, 'max_depth': 5, 'subsample': 0.7867353570951006, 'colsample_bytree': 0.6294340343301145, 'lambda_l1': 2.6839445833904145, 'lambda_l2': 1.4214734828277866, 'n_estimators': 170}. Best is trial 16 with value: 5.4799510695911495.\n"
     ]
    },
    {
     "name": "stdout",
     "output_type": "stream",
     "text": [
      "XGBoost Trial 23 MAE (Original Scale): 5.4990\n"
     ]
    },
    {
     "name": "stderr",
     "output_type": "stream",
     "text": [
      "[I 2025-04-30 00:31:32,085] Trial 24 finished with value: 5.477810972881304 and parameters: {'learning_rate': 0.08944428084351658, 'max_depth': 6, 'subsample': 0.7431112214919919, 'colsample_bytree': 0.7622356326071074, 'lambda_l1': 1.87360729803798, 'lambda_l2': 1.8824202673540813, 'n_estimators': 177}. Best is trial 24 with value: 5.477810972881304.\n"
     ]
    },
    {
     "name": "stdout",
     "output_type": "stream",
     "text": [
      "XGBoost Trial 24 MAE (Original Scale): 5.4778\n"
     ]
    },
    {
     "name": "stderr",
     "output_type": "stream",
     "text": [
      "[I 2025-04-30 00:31:40,326] Trial 25 finished with value: 5.47825624021752 and parameters: {'learning_rate': 0.08621962828993048, 'max_depth': 6, 'subsample': 0.6696467865107336, 'colsample_bytree': 0.7591778926348783, 'lambda_l1': 1.7647849299489267, 'lambda_l2': 1.9215878603256344, 'n_estimators': 163}. Best is trial 24 with value: 5.477810972881304.\n"
     ]
    },
    {
     "name": "stdout",
     "output_type": "stream",
     "text": [
      "XGBoost Trial 25 MAE (Original Scale): 5.4783\n"
     ]
    },
    {
     "name": "stderr",
     "output_type": "stream",
     "text": [
      "[I 2025-04-30 00:31:55,101] Trial 26 finished with value: 5.523808458036503 and parameters: {'learning_rate': 0.13022773693719938, 'max_depth': 7, 'subsample': 0.6601631963757844, 'colsample_bytree': 0.7631460612868145, 'lambda_l1': 1.8047637142886788, 'lambda_l2': 1.9439786663467382, 'n_estimators': 141}. Best is trial 24 with value: 5.477810972881304.\n"
     ]
    },
    {
     "name": "stdout",
     "output_type": "stream",
     "text": [
      "XGBoost Trial 26 MAE (Original Scale): 5.5238\n"
     ]
    },
    {
     "name": "stderr",
     "output_type": "stream",
     "text": [
      "[I 2025-04-30 00:32:24,124] Trial 27 finished with value: 5.505052350654495 and parameters: {'learning_rate': 0.08002228244785856, 'max_depth': 8, 'subsample': 0.7336019472159456, 'colsample_bytree': 0.7970693771229763, 'lambda_l1': 1.342460833678843, 'lambda_l2': 2.086522985944087, 'n_estimators': 160}. Best is trial 24 with value: 5.477810972881304.\n"
     ]
    },
    {
     "name": "stdout",
     "output_type": "stream",
     "text": [
      "XGBoost Trial 27 MAE (Original Scale): 5.5051\n"
     ]
    },
    {
     "name": "stderr",
     "output_type": "stream",
     "text": [
      "[I 2025-04-30 00:32:35,345] Trial 28 finished with value: 5.643424677897059 and parameters: {'learning_rate': 0.016633567910526448, 'max_depth': 6, 'subsample': 0.6910830654251093, 'colsample_bytree': 0.7486227209707547, 'lambda_l1': 1.058626792372145, 'lambda_l2': 1.8350661776536874, 'n_estimators': 166}. Best is trial 24 with value: 5.477810972881304.\n"
     ]
    },
    {
     "name": "stdout",
     "output_type": "stream",
     "text": [
      "XGBoost Trial 28 MAE (Original Scale): 5.6434\n"
     ]
    },
    {
     "name": "stderr",
     "output_type": "stream",
     "text": [
      "[I 2025-04-30 00:33:09,133] Trial 29 finished with value: 5.569603497962431 and parameters: {'learning_rate': 0.10875570930858246, 'max_depth': 9, 'subsample': 0.6182976707577675, 'colsample_bytree': 0.8440321170629337, 'lambda_l1': 0.8085523127994336, 'lambda_l2': 2.4994460130675895, 'n_estimators': 176}. Best is trial 24 with value: 5.477810972881304.\n"
     ]
    },
    {
     "name": "stdout",
     "output_type": "stream",
     "text": [
      "XGBoost Trial 29 MAE (Original Scale): 5.5696\n"
     ]
    },
    {
     "name": "stderr",
     "output_type": "stream",
     "text": [
      "[I 2025-04-30 00:33:14,164] Trial 30 finished with value: 5.487401201176114 and parameters: {'learning_rate': 0.13061442473923837, 'max_depth': 5, 'subsample': 0.6511834094975162, 'colsample_bytree': 0.9216894290232571, 'lambda_l1': 1.0509014227683822, 'lambda_l2': 0.5006552807617823, 'n_estimators': 102}. Best is trial 24 with value: 5.477810972881304.\n"
     ]
    },
    {
     "name": "stdout",
     "output_type": "stream",
     "text": [
      "XGBoost Trial 30 MAE (Original Scale): 5.4874\n"
     ]
    },
    {
     "name": "stderr",
     "output_type": "stream",
     "text": [
      "[I 2025-04-30 00:33:25,036] Trial 31 finished with value: 5.478144176416774 and parameters: {'learning_rate': 0.08356157569168327, 'max_depth': 6, 'subsample': 0.743017802160609, 'colsample_bytree': 0.8234201031187862, 'lambda_l1': 1.751173455527165, 'lambda_l2': 1.5218923841882628, 'n_estimators': 185}. Best is trial 24 with value: 5.477810972881304.\n"
     ]
    },
    {
     "name": "stdout",
     "output_type": "stream",
     "text": [
      "XGBoost Trial 31 MAE (Original Scale): 5.4781\n"
     ]
    },
    {
     "name": "stderr",
     "output_type": "stream",
     "text": [
      "[I 2025-04-30 00:33:40,485] Trial 32 finished with value: 5.478318049796078 and parameters: {'learning_rate': 0.06749910704067247, 'max_depth': 7, 'subsample': 0.754413340591751, 'colsample_bytree': 0.836644211305083, 'lambda_l1': 1.765156531390577, 'lambda_l2': 1.3578854317602027, 'n_estimators': 190}. Best is trial 24 with value: 5.477810972881304.\n"
     ]
    },
    {
     "name": "stdout",
     "output_type": "stream",
     "text": [
      "XGBoost Trial 32 MAE (Original Scale): 5.4783\n"
     ]
    },
    {
     "name": "stderr",
     "output_type": "stream",
     "text": [
      "[I 2025-04-30 00:33:50,453] Trial 33 finished with value: 5.492271242466884 and parameters: {'learning_rate': 0.06331346757626348, 'max_depth': 7, 'subsample': 0.7452490250707723, 'colsample_bytree': 0.8194128947968815, 'lambda_l1': 1.7182752236008894, 'lambda_l2': 1.3589638889641988, 'n_estimators': 113}. Best is trial 24 with value: 5.477810972881304.\n"
     ]
    },
    {
     "name": "stdout",
     "output_type": "stream",
     "text": [
      "XGBoost Trial 33 MAE (Original Scale): 5.4923\n"
     ]
    },
    {
     "name": "stderr",
     "output_type": "stream",
     "text": [
      "[I 2025-04-30 00:34:02,210] Trial 34 finished with value: 5.490324878238725 and parameters: {'learning_rate': 0.040153573769551726, 'max_depth': 6, 'subsample': 0.7151377244419019, 'colsample_bytree': 0.8349337395484048, 'lambda_l1': 1.4826929959876687, 'lambda_l2': 1.4242414362223195, 'n_estimators': 193}. Best is trial 24 with value: 5.477810972881304.\n"
     ]
    },
    {
     "name": "stdout",
     "output_type": "stream",
     "text": [
      "XGBoost Trial 34 MAE (Original Scale): 5.4903\n"
     ]
    },
    {
     "name": "stderr",
     "output_type": "stream",
     "text": [
      "[I 2025-04-30 00:34:15,254] Trial 35 finished with value: 5.488760667902457 and parameters: {'learning_rate': 0.06531369367163228, 'max_depth': 7, 'subsample': 0.752080274174995, 'colsample_bytree': 0.7832885139761278, 'lambda_l1': 1.8750846233953549, 'lambda_l2': 1.0898286528075025, 'n_estimators': 159}. Best is trial 24 with value: 5.477810972881304.\n"
     ]
    },
    {
     "name": "stdout",
     "output_type": "stream",
     "text": [
      "XGBoost Trial 35 MAE (Original Scale): 5.4888\n"
     ]
    },
    {
     "name": "stderr",
     "output_type": "stream",
     "text": [
      "[I 2025-04-30 00:34:39,208] Trial 36 finished with value: 5.4929175200822575 and parameters: {'learning_rate': 0.04589163814106649, 'max_depth': 8, 'subsample': 0.6728966615528579, 'colsample_bytree': 0.8862184847554345, 'lambda_l1': 1.6107268801669603, 'lambda_l2': 1.2807147019653986, 'n_estimators': 193}. Best is trial 24 with value: 5.477810972881304.\n"
     ]
    },
    {
     "name": "stdout",
     "output_type": "stream",
     "text": [
      "XGBoost Trial 36 MAE (Original Scale): 5.4929\n"
     ]
    },
    {
     "name": "stderr",
     "output_type": "stream",
     "text": [
      "[I 2025-04-30 00:34:47,986] Trial 37 finished with value: 5.487112616221707 and parameters: {'learning_rate': 0.09937464506660881, 'max_depth': 6, 'subsample': 0.7154095887168238, 'colsample_bytree': 0.8020898225785651, 'lambda_l1': 2.028749258625614, 'lambda_l2': 1.6971892205170134, 'n_estimators': 146}. Best is trial 24 with value: 5.477810972881304.\n"
     ]
    },
    {
     "name": "stdout",
     "output_type": "stream",
     "text": [
      "XGBoost Trial 37 MAE (Original Scale): 5.4871\n"
     ]
    },
    {
     "name": "stderr",
     "output_type": "stream",
     "text": [
      "[I 2025-04-30 00:35:17,821] Trial 38 finished with value: 5.519884011045707 and parameters: {'learning_rate': 0.07375282559480686, 'max_depth': 9, 'subsample': 0.7599310245289386, 'colsample_bytree': 0.7754987718380139, 'lambda_l1': 1.7522390306708726, 'lambda_l2': 1.5331623518066484, 'n_estimators': 169}. Best is trial 24 with value: 5.477810972881304.\n"
     ]
    },
    {
     "name": "stdout",
     "output_type": "stream",
     "text": [
      "XGBoost Trial 38 MAE (Original Scale): 5.5199\n"
     ]
    },
    {
     "name": "stderr",
     "output_type": "stream",
     "text": [
      "[I 2025-04-30 00:35:30,130] Trial 39 finished with value: 5.4974420969103495 and parameters: {'learning_rate': 0.04897031570608104, 'max_depth': 7, 'subsample': 0.6021834301509252, 'colsample_bytree': 0.8424661675295628, 'lambda_l1': 1.3946382913887136, 'lambda_l2': 0.9621773239245088, 'n_estimators': 155}. Best is trial 24 with value: 5.477810972881304.\n"
     ]
    },
    {
     "name": "stdout",
     "output_type": "stream",
     "text": [
      "XGBoost Trial 39 MAE (Original Scale): 5.4974\n"
     ]
    },
    {
     "name": "stderr",
     "output_type": "stream",
     "text": [
      "[I 2025-04-30 00:35:37,693] Trial 40 finished with value: 5.522853734202886 and parameters: {'learning_rate': 0.032593318781655944, 'max_depth': 5, 'subsample': 0.7286156507255409, 'colsample_bytree': 0.905372207355835, 'lambda_l1': 1.6315561645540289, 'lambda_l2': 1.8509541817321442, 'n_estimators': 178}. Best is trial 24 with value: 5.477810972881304.\n"
     ]
    },
    {
     "name": "stdout",
     "output_type": "stream",
     "text": [
      "XGBoost Trial 40 MAE (Original Scale): 5.5229\n"
     ]
    },
    {
     "name": "stderr",
     "output_type": "stream",
     "text": [
      "[I 2025-04-30 00:35:44,951] Trial 41 finished with value: 5.469053108179646 and parameters: {'learning_rate': 0.09484683936987334, 'max_depth': 5, 'subsample': 0.796271390671753, 'colsample_bytree': 0.8240893096025907, 'lambda_l1': 1.191462561624858, 'lambda_l2': 2.125238318961955, 'n_estimators': 191}. Best is trial 41 with value: 5.469053108179646.\n"
     ]
    },
    {
     "name": "stdout",
     "output_type": "stream",
     "text": [
      "XGBoost Trial 41 MAE (Original Scale): 5.4691\n"
     ]
    },
    {
     "name": "stderr",
     "output_type": "stream",
     "text": [
      "[I 2025-04-30 00:35:54,581] Trial 42 finished with value: 5.480318560300281 and parameters: {'learning_rate': 0.0980610976598616, 'max_depth': 6, 'subsample': 0.8025576251698671, 'colsample_bytree': 0.8250206563779914, 'lambda_l1': 1.2018010542615065, 'lambda_l2': 2.1203462175450745, 'n_estimators': 192}. Best is trial 41 with value: 5.469053108179646.\n"
     ]
    },
    {
     "name": "stdout",
     "output_type": "stream",
     "text": [
      "XGBoost Trial 42 MAE (Original Scale): 5.4803\n"
     ]
    },
    {
     "name": "stderr",
     "output_type": "stream",
     "text": [
      "[I 2025-04-30 00:36:01,836] Trial 43 finished with value: 5.475120138351962 and parameters: {'learning_rate': 0.11324178708308681, 'max_depth': 5, 'subsample': 0.7032522078663277, 'colsample_bytree': 0.7940823239423996, 'lambda_l1': 1.5036178133504308, 'lambda_l2': 1.8570791343719077, 'n_estimators': 192}. Best is trial 41 with value: 5.469053108179646.\n"
     ]
    },
    {
     "name": "stdout",
     "output_type": "stream",
     "text": [
      "XGBoost Trial 43 MAE (Original Scale): 5.4751\n"
     ]
    },
    {
     "name": "stderr",
     "output_type": "stream",
     "text": [
      "[I 2025-04-30 00:36:09,017] Trial 44 finished with value: 5.47967852115454 and parameters: {'learning_rate': 0.12648342373183974, 'max_depth': 5, 'subsample': 0.6989603588599155, 'colsample_bytree': 0.7427678118604039, 'lambda_l1': 1.5627503530610318, 'lambda_l2': 1.9145242231174535, 'n_estimators': 196}. Best is trial 41 with value: 5.469053108179646.\n"
     ]
    },
    {
     "name": "stdout",
     "output_type": "stream",
     "text": [
      "XGBoost Trial 44 MAE (Original Scale): 5.4797\n"
     ]
    },
    {
     "name": "stderr",
     "output_type": "stream",
     "text": [
      "[I 2025-04-30 00:36:16,274] Trial 45 finished with value: 5.479951206169561 and parameters: {'learning_rate': 0.11068028618723358, 'max_depth': 5, 'subsample': 0.7961667251416749, 'colsample_bytree': 0.789203591408211, 'lambda_l1': 1.4680608954319356, 'lambda_l2': 1.7375288670215099, 'n_estimators': 180}. Best is trial 41 with value: 5.469053108179646.\n"
     ]
    },
    {
     "name": "stdout",
     "output_type": "stream",
     "text": [
      "XGBoost Trial 45 MAE (Original Scale): 5.4800\n"
     ]
    },
    {
     "name": "stderr",
     "output_type": "stream",
     "text": [
      "[I 2025-04-30 00:36:23,757] Trial 46 finished with value: 5.484980049257596 and parameters: {'learning_rate': 0.11691876699404076, 'max_depth': 5, 'subsample': 0.6372654715263766, 'colsample_bytree': 0.8645851496429537, 'lambda_l1': 0.9123883867185263, 'lambda_l2': 2.1231945903363347, 'n_estimators': 174}. Best is trial 41 with value: 5.469053108179646.\n"
     ]
    },
    {
     "name": "stdout",
     "output_type": "stream",
     "text": [
      "XGBoost Trial 46 MAE (Original Scale): 5.4850\n"
     ]
    },
    {
     "name": "stderr",
     "output_type": "stream",
     "text": [
      "[I 2025-04-30 00:36:34,194] Trial 47 finished with value: 5.4802349235104675 and parameters: {'learning_rate': 0.09099244694511738, 'max_depth': 6, 'subsample': 0.701947305613772, 'colsample_bytree': 0.8091050189702166, 'lambda_l1': 1.9451900603615087, 'lambda_l2': 2.056193614263491, 'n_estimators': 197}. Best is trial 41 with value: 5.469053108179646.\n"
     ]
    },
    {
     "name": "stdout",
     "output_type": "stream",
     "text": [
      "XGBoost Trial 47 MAE (Original Scale): 5.4802\n"
     ]
    },
    {
     "name": "stderr",
     "output_type": "stream",
     "text": [
      "[I 2025-04-30 00:36:40,000] Trial 48 finished with value: 5.483237013774221 and parameters: {'learning_rate': 0.1643889256960699, 'max_depth': 4, 'subsample': 0.7326144996386537, 'colsample_bytree': 0.7628810313022248, 'lambda_l1': 1.1182766325863143, 'lambda_l2': 2.4011975378660813, 'n_estimators': 182}. Best is trial 41 with value: 5.469053108179646.\n"
     ]
    },
    {
     "name": "stdout",
     "output_type": "stream",
     "text": [
      "XGBoost Trial 48 MAE (Original Scale): 5.4832\n"
     ]
    },
    {
     "name": "stderr",
     "output_type": "stream",
     "text": [
      "[I 2025-04-30 00:36:47,403] Trial 49 finished with value: 5.475475511471284 and parameters: {'learning_rate': 0.07905042178090362, 'max_depth': 5, 'subsample': 0.671013087332651, 'colsample_bytree': 0.8572804279496187, 'lambda_l1': 1.1974529574979436, 'lambda_l2': 2.7330196141880707, 'n_estimators': 189}. Best is trial 41 with value: 5.469053108179646.\n"
     ]
    },
    {
     "name": "stdout",
     "output_type": "stream",
     "text": [
      "XGBoost Trial 49 MAE (Original Scale): 5.4755\n",
      "Best hyperparameters for XGBoost:  {'learning_rate': 0.09484683936987334, 'max_depth': 5, 'subsample': 0.796271390671753, 'colsample_bytree': 0.8240893096025907, 'lambda_l1': 1.191462561624858, 'lambda_l2': 2.125238318961955, 'n_estimators': 191}\n"
     ]
    }
   ],
   "source": [
    "study_xgb = optuna.create_study(direction='minimize', sampler=optuna.samplers.TPESampler(seed=42))\n",
    "study_xgb.optimize(objective_xgb, n_trials=50)\n",
    "print(\"Best hyperparameters for XGBoost: \", study_xgb.best_params)"
   ]
  },
  {
   "cell_type": "code",
   "execution_count": 65,
   "id": "2a0d05c7-3120-46bf-8b47-b91acbf45f45",
   "metadata": {},
   "outputs": [
    {
     "name": "stderr",
     "output_type": "stream",
     "text": [
      "[I 2025-04-30 00:36:47,422] A new study created in memory with name: no-name-020a4994-6ff7-41c8-857a-b0303851d590\n",
      "[I 2025-04-30 00:36:54,393] Trial 0 finished with value: 5.495275563331033 and parameters: {'learning_rate': 0.11861663446573512, 'max_depth': 10, 'num_leaves': 50, 'subsample': 0.8394633936788146, 'colsample_bytree': 0.6624074561769746, 'lambda_l1': 0.8899863008405067, 'lambda_l2': 0.6452090304204987, 'n_estimators': 187}. Best is trial 0 with value: 5.495275563331033.\n"
     ]
    },
    {
     "name": "stdout",
     "output_type": "stream",
     "text": [
      "XGBoost Trial 0 MAE (Original Scale): 5.4953\n"
     ]
    },
    {
     "name": "stderr",
     "output_type": "stream",
     "text": [
      "[I 2025-04-30 00:36:57,923] Trial 1 finished with value: 5.4898921801893925 and parameters: {'learning_rate': 0.18432335340553055, 'max_depth': 8, 'num_leaves': 20, 'subsample': 0.9879639408647978, 'colsample_bytree': 0.9329770563201687, 'lambda_l1': 1.0308477766956905, 'lambda_l2': 0.9545624180177515, 'n_estimators': 118}. Best is trial 1 with value: 5.4898921801893925.\n"
     ]
    },
    {
     "name": "stdout",
     "output_type": "stream",
     "text": [
      "XGBoost Trial 1 MAE (Original Scale): 5.4899\n"
     ]
    },
    {
     "name": "stderr",
     "output_type": "stream",
     "text": [
      "[I 2025-04-30 00:37:05,272] Trial 2 finished with value: 5.489385607509918 and parameters: {'learning_rate': 0.09823025045826593, 'max_depth': 7, 'num_leaves': 37, 'subsample': 0.7164916560792167, 'colsample_bytree': 0.8447411578889518, 'lambda_l1': 0.8487346516301046, 'lambda_l2': 1.2303616213380453, 'n_estimators': 137}. Best is trial 2 with value: 5.489385607509918.\n"
     ]
    },
    {
     "name": "stdout",
     "output_type": "stream",
     "text": [
      "XGBoost Trial 2 MAE (Original Scale): 5.4894\n"
     ]
    },
    {
     "name": "stderr",
     "output_type": "stream",
     "text": [
      "[I 2025-04-30 00:37:10,193] Trial 3 finished with value: 5.49021326110399 and parameters: {'learning_rate': 0.1422602954229404, 'max_depth': 9, 'num_leaves': 28, 'subsample': 0.8056937753654446, 'colsample_bytree': 0.836965827544817, 'lambda_l1': 0.6161260317999944, 'lambda_l2': 2.018862129753596, 'n_estimators': 117}. Best is trial 2 with value: 5.489385607509918.\n"
     ]
    },
    {
     "name": "stdout",
     "output_type": "stream",
     "text": [
      "XGBoost Trial 3 MAE (Original Scale): 5.4902\n"
     ]
    },
    {
     "name": "stderr",
     "output_type": "stream",
     "text": [
      "[I 2025-04-30 00:37:18,468] Trial 4 finished with value: 5.5459448639866995 and parameters: {'learning_rate': 0.02886496196573106, 'max_depth': 10, 'num_leaves': 59, 'subsample': 0.9233589392465844, 'colsample_bytree': 0.7218455076693483, 'lambda_l1': 0.7441802850159597, 'lambda_l2': 2.210582566280392, 'n_estimators': 144}. Best is trial 2 with value: 5.489385607509918.\n"
     ]
    },
    {
     "name": "stdout",
     "output_type": "stream",
     "text": [
      "XGBoost Trial 4 MAE (Original Scale): 5.5459\n"
     ]
    },
    {
     "name": "stderr",
     "output_type": "stream",
     "text": [
      "[I 2025-04-30 00:37:23,491] Trial 5 finished with value: 5.520864061081667 and parameters: {'learning_rate': 0.045391088104985856, 'max_depth': 6, 'num_leaves': 21, 'subsample': 0.9637281608315128, 'colsample_bytree': 0.7035119926400067, 'lambda_l1': 2.156305710884955, 'lambda_l2': 1.2792776902235274, 'n_estimators': 152}. Best is trial 2 with value: 5.489385607509918.\n"
     ]
    },
    {
     "name": "stdout",
     "output_type": "stream",
     "text": [
      "XGBoost Trial 5 MAE (Original Scale): 5.5209\n"
     ]
    },
    {
     "name": "stderr",
     "output_type": "stream",
     "text": [
      "[I 2025-04-30 00:37:27,518] Trial 6 finished with value: 5.4771701066831975 and parameters: {'learning_rate': 0.1685459810095511, 'max_depth': 4, 'num_leaves': 59, 'subsample': 0.9100531293444458, 'colsample_bytree': 0.9757995766256756, 'lambda_l1': 2.737068376069122, 'lambda_l2': 1.9947499470277128, 'n_estimators': 193}. Best is trial 6 with value: 5.4771701066831975.\n"
     ]
    },
    {
     "name": "stdout",
     "output_type": "stream",
     "text": [
      "XGBoost Trial 6 MAE (Original Scale): 5.4772\n"
     ]
    },
    {
     "name": "stderr",
     "output_type": "stream",
     "text": [
      "[I 2025-04-30 00:37:30,976] Trial 7 finished with value: 5.581123231444433 and parameters: {'learning_rate': 0.03566282559505665, 'max_depth': 4, 'num_leaves': 21, 'subsample': 0.7301321323053057, 'colsample_bytree': 0.7554709158757928, 'lambda_l1': 1.1783725794347397, 'lambda_l2': 2.5718437728798236, 'n_estimators': 136}. Best is trial 6 with value: 5.4771701066831975.\n"
     ]
    },
    {
     "name": "stdout",
     "output_type": "stream",
     "text": [
      "XGBoost Trial 7 MAE (Original Scale): 5.5811\n"
     ]
    },
    {
     "name": "stderr",
     "output_type": "stream",
     "text": [
      "[I 2025-04-30 00:37:35,206] Trial 8 finished with value: 5.493279561099217 and parameters: {'learning_rate': 0.09147100780934041, 'max_depth': 7, 'num_leaves': 25, 'subsample': 0.9208787923016158, 'colsample_bytree': 0.6298202574719083, 'lambda_l1': 2.9672173415012932, 'lambda_l2': 2.4306119232416434, 'n_estimators': 120}. Best is trial 6 with value: 5.4771701066831975.\n"
     ]
    },
    {
     "name": "stdout",
     "output_type": "stream",
     "text": [
      "XGBoost Trial 8 MAE (Original Scale): 5.4933\n"
     ]
    },
    {
     "name": "stderr",
     "output_type": "stream",
     "text": [
      "[I 2025-04-30 00:37:42,572] Trial 9 finished with value: 5.955516090378965 and parameters: {'learning_rate': 0.011601413965844696, 'max_depth': 9, 'num_leaves': 48, 'subsample': 0.8916028672163949, 'colsample_bytree': 0.9085081386743783, 'lambda_l1': 0.685111629335226, 'lambda_l2': 1.3961643213606816, 'n_estimators': 111}. Best is trial 6 with value: 5.4771701066831975.\n"
     ]
    },
    {
     "name": "stdout",
     "output_type": "stream",
     "text": [
      "XGBoost Trial 9 MAE (Original Scale): 5.9555\n"
     ]
    },
    {
     "name": "stderr",
     "output_type": "stream",
     "text": [
      "[I 2025-04-30 00:37:45,945] Trial 10 finished with value: 5.4842937830763265 and parameters: {'learning_rate': 0.28379730259419333, 'max_depth': 3, 'num_leaves': 59, 'subsample': 0.6071847502459278, 'colsample_bytree': 0.9935496864584779, 'lambda_l1': 2.769161988206295, 'lambda_l2': 2.8994268648635506, 'n_estimators': 198}. Best is trial 6 with value: 5.4771701066831975.\n"
     ]
    },
    {
     "name": "stdout",
     "output_type": "stream",
     "text": [
      "XGBoost Trial 10 MAE (Original Scale): 5.4843\n"
     ]
    },
    {
     "name": "stderr",
     "output_type": "stream",
     "text": [
      "[I 2025-04-30 00:37:49,202] Trial 11 finished with value: 5.487632821820145 and parameters: {'learning_rate': 0.2846189441531433, 'max_depth': 3, 'num_leaves': 60, 'subsample': 0.6068744601075835, 'colsample_bytree': 0.9895680834513327, 'lambda_l1': 2.9795448599226098, 'lambda_l2': 2.9661960897421142, 'n_estimators': 197}. Best is trial 6 with value: 5.4771701066831975.\n"
     ]
    },
    {
     "name": "stdout",
     "output_type": "stream",
     "text": [
      "XGBoost Trial 11 MAE (Original Scale): 5.4876\n"
     ]
    },
    {
     "name": "stderr",
     "output_type": "stream",
     "text": [
      "[I 2025-04-30 00:37:54,098] Trial 12 finished with value: 5.549092065123303 and parameters: {'learning_rate': 0.29758351270042754, 'max_depth': 5, 'num_leaves': 53, 'subsample': 0.6026268487517209, 'colsample_bytree': 0.9881259105415678, 'lambda_l1': 2.428044052084189, 'lambda_l2': 2.989120235913434, 'n_estimators': 174}. Best is trial 6 with value: 5.4771701066831975.\n"
     ]
    },
    {
     "name": "stdout",
     "output_type": "stream",
     "text": [
      "XGBoost Trial 12 MAE (Original Scale): 5.5491\n"
     ]
    },
    {
     "name": "stderr",
     "output_type": "stream",
     "text": [
      "[I 2025-04-30 00:37:56,984] Trial 13 finished with value: 5.4877877385565865 and parameters: {'learning_rate': 0.2133371526641904, 'max_depth': 3, 'num_leaves': 42, 'subsample': 0.6908556046603515, 'colsample_bytree': 0.9113793190593593, 'lambda_l1': 2.467942509050927, 'lambda_l2': 1.7019891415101411, 'n_estimators': 171}. Best is trial 6 with value: 5.4771701066831975.\n"
     ]
    },
    {
     "name": "stdout",
     "output_type": "stream",
     "text": [
      "XGBoost Trial 13 MAE (Original Scale): 5.4878\n"
     ]
    },
    {
     "name": "stderr",
     "output_type": "stream",
     "text": [
      "[I 2025-04-30 00:38:02,443] Trial 14 finished with value: 5.524139902166954 and parameters: {'learning_rate': 0.24628727851142038, 'max_depth': 5, 'num_leaves': 55, 'subsample': 0.8578694741072342, 'colsample_bytree': 0.9488055775621085, 'lambda_l1': 1.7912132918908887, 'lambda_l2': 1.9231998035372744, 'n_estimators': 200}. Best is trial 6 with value: 5.4771701066831975.\n"
     ]
    },
    {
     "name": "stdout",
     "output_type": "stream",
     "text": [
      "XGBoost Trial 14 MAE (Original Scale): 5.5241\n"
     ]
    },
    {
     "name": "stderr",
     "output_type": "stream",
     "text": [
      "[I 2025-04-30 00:38:06,208] Trial 15 finished with value: 5.482761489972756 and parameters: {'learning_rate': 0.2425872206365392, 'max_depth': 4, 'num_leaves': 43, 'subsample': 0.7599922797534859, 'colsample_bytree': 0.86456910202957, 'lambda_l1': 2.6147962599287116, 'lambda_l2': 2.620832206313982, 'n_estimators': 176}. Best is trial 6 with value: 5.4771701066831975.\n"
     ]
    },
    {
     "name": "stdout",
     "output_type": "stream",
     "text": [
      "XGBoost Trial 15 MAE (Original Scale): 5.4828\n"
     ]
    },
    {
     "name": "stderr",
     "output_type": "stream",
     "text": [
      "[I 2025-04-30 00:38:10,738] Trial 16 finished with value: 5.491393810600147 and parameters: {'learning_rate': 0.1929916289449507, 'max_depth': 5, 'num_leaves': 38, 'subsample': 0.7619372582787175, 'colsample_bytree': 0.8682180570419546, 'lambda_l1': 1.7829856444416432, 'lambda_l2': 2.5180801111221935, 'n_estimators': 170}. Best is trial 6 with value: 5.4771701066831975.\n"
     ]
    },
    {
     "name": "stdout",
     "output_type": "stream",
     "text": [
      "XGBoost Trial 16 MAE (Original Scale): 5.4914\n"
     ]
    },
    {
     "name": "stderr",
     "output_type": "stream",
     "text": [
      "[I 2025-04-30 00:38:14,641] Trial 17 finished with value: 5.480983402769424 and parameters: {'learning_rate': 0.2340112704510322, 'max_depth': 4, 'num_leaves': 43, 'subsample': 0.7852715544949933, 'colsample_bytree': 0.8045776704157269, 'lambda_l1': 2.196165941510053, 'lambda_l2': 1.6230045834896383, 'n_estimators': 182}. Best is trial 6 with value: 5.4771701066831975.\n"
     ]
    },
    {
     "name": "stdout",
     "output_type": "stream",
     "text": [
      "XGBoost Trial 17 MAE (Original Scale): 5.4810\n"
     ]
    },
    {
     "name": "stderr",
     "output_type": "stream",
     "text": [
      "[I 2025-04-30 00:38:18,087] Trial 18 finished with value: 5.480913371237 and parameters: {'learning_rate': 0.16307551294253897, 'max_depth': 4, 'num_leaves': 34, 'subsample': 0.8157091115658528, 'colsample_bytree': 0.7783290939462549, 'lambda_l1': 2.1342740396103594, 'lambda_l2': 1.6871493566319937, 'n_estimators': 159}. Best is trial 6 with value: 5.4771701066831975.\n"
     ]
    },
    {
     "name": "stdout",
     "output_type": "stream",
     "text": [
      "XGBoost Trial 18 MAE (Original Scale): 5.4809\n"
     ]
    },
    {
     "name": "stderr",
     "output_type": "stream",
     "text": [
      "[I 2025-04-30 00:38:22,279] Trial 19 finished with value: 5.489444411765843 and parameters: {'learning_rate': 0.17522709283122778, 'max_depth': 5, 'num_leaves': 33, 'subsample': 0.8274539140283566, 'colsample_bytree': 0.7970948874716279, 'lambda_l1': 1.3727599183232497, 'lambda_l2': 2.1322116732647176, 'n_estimators': 154}. Best is trial 6 with value: 5.4771701066831975.\n"
     ]
    },
    {
     "name": "stdout",
     "output_type": "stream",
     "text": [
      "XGBoost Trial 19 MAE (Original Scale): 5.4894\n"
     ]
    },
    {
     "name": "stderr",
     "output_type": "stream",
     "text": [
      "[I 2025-04-30 00:38:27,291] Trial 20 finished with value: 5.478615693162594 and parameters: {'learning_rate': 0.14680007831262792, 'max_depth': 6, 'num_leaves': 35, 'subsample': 0.8693386818617739, 'colsample_bytree': 0.7727431143998708, 'lambda_l1': 2.0730539463617763, 'lambda_l2': 1.5406041806568802, 'n_estimators': 162}. Best is trial 6 with value: 5.4771701066831975.\n"
     ]
    },
    {
     "name": "stdout",
     "output_type": "stream",
     "text": [
      "XGBoost Trial 20 MAE (Original Scale): 5.4786\n"
     ]
    },
    {
     "name": "stderr",
     "output_type": "stream",
     "text": [
      "[I 2025-04-30 00:38:32,078] Trial 21 finished with value: 5.48012007050056 and parameters: {'learning_rate': 0.14831234252620812, 'max_depth': 6, 'num_leaves': 34, 'subsample': 0.8807851891877639, 'colsample_bytree': 0.7599855934873874, 'lambda_l1': 2.0399425124263812, 'lambda_l2': 1.5104218855904066, 'n_estimators': 162}. Best is trial 6 with value: 5.4771701066831975.\n"
     ]
    },
    {
     "name": "stdout",
     "output_type": "stream",
     "text": [
      "XGBoost Trial 21 MAE (Original Scale): 5.4801\n"
     ]
    },
    {
     "name": "stderr",
     "output_type": "stream",
     "text": [
      "[I 2025-04-30 00:38:36,661] Trial 22 finished with value: 5.473459466143036 and parameters: {'learning_rate': 0.1450888549950717, 'max_depth': 6, 'num_leaves': 30, 'subsample': 0.8748115814273795, 'colsample_bytree': 0.7267626635152488, 'lambda_l1': 1.5491448883074186, 'lambda_l2': 1.4695870446312393, 'n_estimators': 162}. Best is trial 22 with value: 5.473459466143036.\n"
     ]
    },
    {
     "name": "stdout",
     "output_type": "stream",
     "text": [
      "XGBoost Trial 22 MAE (Original Scale): 5.4735\n"
     ]
    },
    {
     "name": "stderr",
     "output_type": "stream",
     "text": [
      "[I 2025-04-30 00:38:41,882] Trial 23 finished with value: 5.478740960520145 and parameters: {'learning_rate': 0.1280488517224177, 'max_depth': 6, 'num_leaves': 30, 'subsample': 0.9287211378997813, 'colsample_bytree': 0.7137199281110714, 'lambda_l1': 1.4569401369368618, 'lambda_l2': 0.9051713236841183, 'n_estimators': 186}. Best is trial 22 with value: 5.473459466143036.\n"
     ]
    },
    {
     "name": "stdout",
     "output_type": "stream",
     "text": [
      "XGBoost Trial 23 MAE (Original Scale): 5.4787\n"
     ]
    },
    {
     "name": "stderr",
     "output_type": "stream",
     "text": [
      "[I 2025-04-30 00:38:47,781] Trial 24 finished with value: 5.4899871831582105 and parameters: {'learning_rate': 0.07408533787262907, 'max_depth': 7, 'num_leaves': 26, 'subsample': 0.8759710886560624, 'colsample_bytree': 0.6659847822947249, 'lambda_l1': 1.9247636890743514, 'lambda_l2': 1.1366588334732932, 'n_estimators': 165}. Best is trial 22 with value: 5.473459466143036.\n"
     ]
    },
    {
     "name": "stdout",
     "output_type": "stream",
     "text": [
      "XGBoost Trial 24 MAE (Original Scale): 5.4900\n"
     ]
    },
    {
     "name": "stderr",
     "output_type": "stream",
     "text": [
      "[I 2025-04-30 00:38:52,619] Trial 25 finished with value: 5.484772954902449 and parameters: {'learning_rate': 0.11554511040272417, 'max_depth': 8, 'num_leaves': 47, 'subsample': 0.9543735488417324, 'colsample_bytree': 0.6057575681173106, 'lambda_l1': 1.5636884517140803, 'lambda_l2': 1.8741413558429922, 'n_estimators': 101}. Best is trial 22 with value: 5.473459466143036.\n"
     ]
    },
    {
     "name": "stdout",
     "output_type": "stream",
     "text": [
      "XGBoost Trial 25 MAE (Original Scale): 5.4848\n"
     ]
    },
    {
     "name": "stderr",
     "output_type": "stream",
     "text": [
      "[I 2025-04-30 00:38:56,935] Trial 26 finished with value: 5.491766442087207 and parameters: {'learning_rate': 0.21322939080040998, 'max_depth': 6, 'num_leaves': 30, 'subsample': 0.8985993383562723, 'colsample_bytree': 0.737691866387846, 'lambda_l1': 2.3564511060353612, 'lambda_l2': 2.267082321774911, 'n_estimators': 146}. Best is trial 22 with value: 5.473459466143036.\n"
     ]
    },
    {
     "name": "stdout",
     "output_type": "stream",
     "text": [
      "XGBoost Trial 26 MAE (Original Scale): 5.4918\n"
     ]
    },
    {
     "name": "stderr",
     "output_type": "stream",
     "text": [
      "[I 2025-04-30 00:39:01,904] Trial 27 finished with value: 5.485990589967658 and parameters: {'learning_rate': 0.1595559388899182, 'max_depth': 8, 'num_leaves': 40, 'subsample': 0.8454611268774527, 'colsample_bytree': 0.6909221559109121, 'lambda_l1': 1.2567870978522584, 'lambda_l2': 1.5488984626446576, 'n_estimators': 132}. Best is trial 22 with value: 5.473459466143036.\n"
     ]
    },
    {
     "name": "stdout",
     "output_type": "stream",
     "text": [
      "XGBoost Trial 27 MAE (Original Scale): 5.4860\n"
     ]
    },
    {
     "name": "stderr",
     "output_type": "stream",
     "text": [
      "[I 2025-04-30 00:39:07,908] Trial 28 finished with value: 5.498809783927141 and parameters: {'learning_rate': 0.1993786962152889, 'max_depth': 5, 'num_leaves': 32, 'subsample': 0.9617477156198383, 'colsample_bytree': 0.806999364291554, 'lambda_l1': 1.561603273485841, 'lambda_l2': 1.826639208411642, 'n_estimators': 180}. Best is trial 22 with value: 5.473459466143036.\n"
     ]
    },
    {
     "name": "stdout",
     "output_type": "stream",
     "text": [
      "XGBoost Trial 28 MAE (Original Scale): 5.4988\n"
     ]
    },
    {
     "name": "stderr",
     "output_type": "stream",
     "text": [
      "[I 2025-04-30 00:39:14,059] Trial 29 finished with value: 5.47523901213001 and parameters: {'learning_rate': 0.12859671252553187, 'max_depth': 7, 'num_leaves': 37, 'subsample': 0.8493221103027639, 'colsample_bytree': 0.6695624765888082, 'lambda_l1': 2.6358552164968967, 'lambda_l2': 0.9120655084327516, 'n_estimators': 190}. Best is trial 22 with value: 5.473459466143036.\n"
     ]
    },
    {
     "name": "stdout",
     "output_type": "stream",
     "text": [
      "XGBoost Trial 29 MAE (Original Scale): 5.4752\n"
     ]
    },
    {
     "name": "stderr",
     "output_type": "stream",
     "text": [
      "[I 2025-04-30 00:39:20,951] Trial 30 finished with value: 5.492722071817948 and parameters: {'learning_rate': 0.12609474426372283, 'max_depth': 9, 'num_leaves': 45, 'subsample': 0.8386627207402482, 'colsample_bytree': 0.6681181990785601, 'lambda_l1': 2.750331179175205, 'lambda_l2': 0.6068629501991039, 'n_estimators': 193}. Best is trial 22 with value: 5.473459466143036.\n"
     ]
    },
    {
     "name": "stdout",
     "output_type": "stream",
     "text": [
      "XGBoost Trial 30 MAE (Original Scale): 5.4927\n"
     ]
    },
    {
     "name": "stderr",
     "output_type": "stream",
     "text": [
      "[I 2025-04-30 00:39:27,197] Trial 31 finished with value: 5.471785070149438 and parameters: {'learning_rate': 0.10616566403500596, 'max_depth': 7, 'num_leaves': 37, 'subsample': 0.8562761718751446, 'colsample_bytree': 0.6364373093085887, 'lambda_l1': 2.7181462820078455, 'lambda_l2': 0.9463169850536847, 'n_estimators': 190}. Best is trial 31 with value: 5.471785070149438.\n"
     ]
    },
    {
     "name": "stdout",
     "output_type": "stream",
     "text": [
      "XGBoost Trial 31 MAE (Original Scale): 5.4718\n"
     ]
    },
    {
     "name": "stderr",
     "output_type": "stream",
     "text": [
      "[I 2025-04-30 00:39:33,980] Trial 32 finished with value: 5.479679387179459 and parameters: {'learning_rate': 0.07662521185436232, 'max_depth': 7, 'num_leaves': 39, 'subsample': 0.9925424177067675, 'colsample_bytree': 0.6288827884798877, 'lambda_l1': 2.746408644033321, 'lambda_l2': 0.9074665833222139, 'n_estimators': 189}. Best is trial 31 with value: 5.471785070149438.\n"
     ]
    },
    {
     "name": "stdout",
     "output_type": "stream",
     "text": [
      "XGBoost Trial 32 MAE (Original Scale): 5.4797\n"
     ]
    },
    {
     "name": "stderr",
     "output_type": "stream",
     "text": [
      "[I 2025-04-30 00:39:41,149] Trial 33 finished with value: 5.482724297103124 and parameters: {'learning_rate': 0.10521379713025239, 'max_depth': 8, 'num_leaves': 52, 'subsample': 0.9062121126544737, 'colsample_bytree': 0.6413033860530746, 'lambda_l1': 2.576605997698794, 'lambda_l2': 0.7004314138703729, 'n_estimators': 188}. Best is trial 31 with value: 5.471785070149438.\n"
     ]
    },
    {
     "name": "stdout",
     "output_type": "stream",
     "text": [
      "XGBoost Trial 33 MAE (Original Scale): 5.4827\n"
     ]
    },
    {
     "name": "stderr",
     "output_type": "stream",
     "text": [
      "[I 2025-04-30 00:39:47,480] Trial 34 finished with value: 5.485484966003959 and parameters: {'learning_rate': 0.0701243509702747, 'max_depth': 7, 'num_leaves': 30, 'subsample': 0.784856089027284, 'colsample_bytree': 0.6002218019568215, 'lambda_l1': 2.3212867322276907, 'lambda_l2': 0.8057885680552275, 'n_estimators': 181}. Best is trial 31 with value: 5.471785070149438.\n"
     ]
    },
    {
     "name": "stdout",
     "output_type": "stream",
     "text": [
      "XGBoost Trial 34 MAE (Original Scale): 5.4855\n"
     ]
    },
    {
     "name": "stderr",
     "output_type": "stream",
     "text": [
      "[I 2025-04-30 00:39:54,289] Trial 35 finished with value: 5.489142108533174 and parameters: {'learning_rate': 0.1376695815506775, 'max_depth': 7, 'num_leaves': 36, 'subsample': 0.8545355665874529, 'colsample_bytree': 0.6835866176467555, 'lambda_l1': 2.665468669730887, 'lambda_l2': 1.0245818900238337, 'n_estimators': 192}. Best is trial 31 with value: 5.471785070149438.\n"
     ]
    },
    {
     "name": "stdout",
     "output_type": "stream",
     "text": [
      "XGBoost Trial 35 MAE (Original Scale): 5.4891\n"
     ]
    },
    {
     "name": "stderr",
     "output_type": "stream",
     "text": [
      "[I 2025-04-30 00:40:00,133] Trial 36 finished with value: 5.49496785728919 and parameters: {'learning_rate': 0.17459783204337248, 'max_depth': 8, 'num_leaves': 37, 'subsample': 0.8060486803388683, 'colsample_bytree': 0.7349100832549772, 'lambda_l1': 2.8849937414632243, 'lambda_l2': 1.1087863861969298, 'n_estimators': 184}. Best is trial 31 with value: 5.471785070149438.\n"
     ]
    },
    {
     "name": "stdout",
     "output_type": "stream",
     "text": [
      "XGBoost Trial 36 MAE (Original Scale): 5.4950\n"
     ]
    },
    {
     "name": "stderr",
     "output_type": "stream",
     "text": [
      "[I 2025-04-30 00:40:05,426] Trial 37 finished with value: 5.481392248468395 and parameters: {'learning_rate': 0.11296615620628822, 'max_depth': 10, 'num_leaves': 24, 'subsample': 0.9327478107070254, 'colsample_bytree': 0.6465016245457847, 'lambda_l1': 0.962589286024366, 'lambda_l2': 1.311560710364192, 'n_estimators': 194}. Best is trial 31 with value: 5.471785070149438.\n"
     ]
    },
    {
     "name": "stdout",
     "output_type": "stream",
     "text": [
      "XGBoost Trial 37 MAE (Original Scale): 5.4814\n"
     ]
    },
    {
     "name": "stderr",
     "output_type": "stream",
     "text": [
      "[I 2025-04-30 00:40:12,556] Trial 38 finished with value: 5.4784965920589395 and parameters: {'learning_rate': 0.08880302948041068, 'max_depth': 8, 'num_leaves': 56, 'subsample': 0.8266954686377707, 'colsample_bytree': 0.6943583441507, 'lambda_l1': 0.5066699031932034, 'lambda_l2': 0.5452851025454283, 'n_estimators': 177}. Best is trial 31 with value: 5.471785070149438.\n"
     ]
    },
    {
     "name": "stdout",
     "output_type": "stream",
     "text": [
      "XGBoost Trial 38 MAE (Original Scale): 5.4785\n"
     ]
    },
    {
     "name": "stderr",
     "output_type": "stream",
     "text": [
      "[I 2025-04-30 00:40:18,515] Trial 39 finished with value: 5.494446310822943 and parameters: {'learning_rate': 0.05641576595043543, 'max_depth': 9, 'num_leaves': 32, 'subsample': 0.9495280092069611, 'colsample_bytree': 0.6637078808661668, 'lambda_l1': 2.5258583233170615, 'lambda_l2': 0.7425430622603466, 'n_estimators': 168}. Best is trial 31 with value: 5.471785070149438.\n"
     ]
    },
    {
     "name": "stdout",
     "output_type": "stream",
     "text": [
      "XGBoost Trial 39 MAE (Original Scale): 5.4944\n"
     ]
    },
    {
     "name": "stderr",
     "output_type": "stream",
     "text": [
      "[I 2025-04-30 00:40:22,736] Trial 40 finished with value: 5.487107499084661 and parameters: {'learning_rate': 0.1348279695739615, 'max_depth': 7, 'num_leaves': 27, 'subsample': 0.9033976113729519, 'colsample_bytree': 0.7216878860921401, 'lambda_l1': 2.27670650612663, 'lambda_l2': 1.210403162720932, 'n_estimators': 130}. Best is trial 31 with value: 5.471785070149438.\n"
     ]
    },
    {
     "name": "stdout",
     "output_type": "stream",
     "text": [
      "XGBoost Trial 40 MAE (Original Scale): 5.4871\n"
     ]
    },
    {
     "name": "stderr",
     "output_type": "stream",
     "text": [
      "[I 2025-04-30 00:40:30,346] Trial 41 finished with value: 5.4823060959712855 and parameters: {'learning_rate': 0.09114674618417547, 'max_depth': 8, 'num_leaves': 57, 'subsample': 0.8334754552943427, 'colsample_bytree': 0.6909510631842805, 'lambda_l1': 0.8054253470135078, 'lambda_l2': 0.5381163826129003, 'n_estimators': 176}. Best is trial 31 with value: 5.471785070149438.\n"
     ]
    },
    {
     "name": "stdout",
     "output_type": "stream",
     "text": [
      "XGBoost Trial 41 MAE (Original Scale): 5.4823\n"
     ]
    },
    {
     "name": "stderr",
     "output_type": "stream",
     "text": [
      "[I 2025-04-30 00:40:38,279] Trial 42 finished with value: 5.478372307134986 and parameters: {'learning_rate': 0.09621082869485303, 'max_depth': 8, 'num_leaves': 57, 'subsample': 0.8631024237015094, 'colsample_bytree': 0.7001268364224359, 'lambda_l1': 2.819022236282521, 'lambda_l2': 0.5177502574226764, 'n_estimators': 189}. Best is trial 31 with value: 5.471785070149438.\n"
     ]
    },
    {
     "name": "stdout",
     "output_type": "stream",
     "text": [
      "XGBoost Trial 42 MAE (Original Scale): 5.4784\n"
     ]
    },
    {
     "name": "stderr",
     "output_type": "stream",
     "text": [
      "[I 2025-04-30 00:40:45,332] Trial 43 finished with value: 5.475537687596855 and parameters: {'learning_rate': 0.10524057705935853, 'max_depth': 7, 'num_leaves': 51, 'subsample': 0.8670646555379757, 'colsample_bytree': 0.6197887930279303, 'lambda_l1': 2.8721046768411576, 'lambda_l2': 0.7844046521890706, 'n_estimators': 190}. Best is trial 31 with value: 5.471785070149438.\n"
     ]
    },
    {
     "name": "stdout",
     "output_type": "stream",
     "text": [
      "XGBoost Trial 43 MAE (Original Scale): 5.4755\n"
     ]
    },
    {
     "name": "stderr",
     "output_type": "stream",
     "text": [
      "[I 2025-04-30 00:40:52,651] Trial 44 finished with value: 5.4754569076144755 and parameters: {'learning_rate': 0.12011317171731004, 'max_depth': 7, 'num_leaves': 50, 'subsample': 0.8830908767149058, 'colsample_bytree': 0.6203488699391777, 'lambda_l1': 2.882664843436156, 'lambda_l2': 1.4022285549650049, 'n_estimators': 196}. Best is trial 31 with value: 5.471785070149438.\n"
     ]
    },
    {
     "name": "stdout",
     "output_type": "stream",
     "text": [
      "XGBoost Trial 44 MAE (Original Scale): 5.4755\n"
     ]
    },
    {
     "name": "stderr",
     "output_type": "stream",
     "text": [
      "[I 2025-04-30 00:41:01,024] Trial 45 finished with value: 5.483042604141307 and parameters: {'learning_rate': 0.10990402065955486, 'max_depth': 7, 'num_leaves': 49, 'subsample': 0.8934414200874697, 'colsample_bytree': 0.6187559017817618, 'lambda_l1': 2.9943503297988014, 'lambda_l2': 1.3953319706813947, 'n_estimators': 200}. Best is trial 31 with value: 5.471785070149438.\n"
     ]
    },
    {
     "name": "stdout",
     "output_type": "stream",
     "text": [
      "XGBoost Trial 45 MAE (Original Scale): 5.4830\n"
     ]
    },
    {
     "name": "stderr",
     "output_type": "stream",
     "text": [
      "[I 2025-04-30 00:41:08,729] Trial 46 finished with value: 5.478648395858634 and parameters: {'learning_rate': 0.12384086881337653, 'max_depth': 6, 'num_leaves': 51, 'subsample': 0.8873714895766084, 'colsample_bytree': 0.6483472029298187, 'lambda_l1': 2.883320165312348, 'lambda_l2': 1.005858706412742, 'n_estimators': 195}. Best is trial 31 with value: 5.471785070149438.\n"
     ]
    },
    {
     "name": "stdout",
     "output_type": "stream",
     "text": [
      "XGBoost Trial 46 MAE (Original Scale): 5.4786\n"
     ]
    },
    {
     "name": "stderr",
     "output_type": "stream",
     "text": [
      "[I 2025-04-30 00:41:16,120] Trial 47 finished with value: 5.487151845023641 and parameters: {'learning_rate': 0.05375143104021564, 'max_depth': 7, 'num_leaves': 46, 'subsample': 0.7896444485662388, 'colsample_bytree': 0.6299962748928473, 'lambda_l1': 2.6517745366378223, 'lambda_l2': 0.8314768114477139, 'n_estimators': 185}. Best is trial 31 with value: 5.471785070149438.\n"
     ]
    },
    {
     "name": "stdout",
     "output_type": "stream",
     "text": [
      "XGBoost Trial 47 MAE (Original Scale): 5.4872\n"
     ]
    },
    {
     "name": "stderr",
     "output_type": "stream",
     "text": [
      "[I 2025-04-30 00:41:22,663] Trial 48 finished with value: 5.484747943936756 and parameters: {'learning_rate': 0.15298159088870297, 'max_depth': 6, 'num_leaves': 42, 'subsample': 0.8529581709493599, 'colsample_bytree': 0.6124674650543124, 'lambda_l1': 2.8666735652083215, 'lambda_l2': 1.07778081734944, 'n_estimators': 192}. Best is trial 31 with value: 5.471785070149438.\n"
     ]
    },
    {
     "name": "stdout",
     "output_type": "stream",
     "text": [
      "XGBoost Trial 48 MAE (Original Scale): 5.4847\n"
     ]
    },
    {
     "name": "stderr",
     "output_type": "stream",
     "text": [
      "[I 2025-04-30 00:41:28,251] Trial 49 finished with value: 5.484052208947855 and parameters: {'learning_rate': 0.10369665669983773, 'max_depth': 6, 'num_leaves': 54, 'subsample': 0.6666326369671716, 'colsample_bytree': 0.6789606671961652, 'lambda_l1': 2.469502939828187, 'lambda_l2': 1.208038632281012, 'n_estimators': 156}. Best is trial 31 with value: 5.471785070149438.\n"
     ]
    },
    {
     "name": "stdout",
     "output_type": "stream",
     "text": [
      "XGBoost Trial 49 MAE (Original Scale): 5.4841\n",
      "Best hyperparameters for LightGBM:  {'learning_rate': 0.10616566403500596, 'max_depth': 7, 'num_leaves': 37, 'subsample': 0.8562761718751446, 'colsample_bytree': 0.6364373093085887, 'lambda_l1': 2.7181462820078455, 'lambda_l2': 0.9463169850536847, 'n_estimators': 190}\n"
     ]
    }
   ],
   "source": [
    "study_lgb = optuna.create_study(direction='minimize', sampler=optuna.samplers.TPESampler(seed=42))\n",
    "study_lgb.optimize(objective_lgb, n_trials=50)\n",
    "print(\"Best hyperparameters for LightGBM: \", study_lgb.best_params)"
   ]
  },
  {
   "cell_type": "code",
   "execution_count": 66,
   "id": "fec6fd5f-30df-4880-a205-3310c9bf4dea",
   "metadata": {},
   "outputs": [
    {
     "name": "stderr",
     "output_type": "stream",
     "text": [
      "[I 2025-04-30 00:41:28,267] A new study created in memory with name: no-name-c2a2cacd-5fd9-496f-8d52-4d5d49280f4c\n",
      "[I 2025-04-30 00:42:33,493] Trial 0 finished with value: 5.3665275001375985 and parameters: {'learning_rate': 0.11861663446573512, 'depth': 10, 'subsample': 0.8659969709057025, 'colsample_bylevel': 0.7993292420985183, 'l2_leaf_reg': 0.8900466011060912, 'iterations': 115}. Best is trial 0 with value: 5.3665275001375985.\n"
     ]
    },
    {
     "name": "stdout",
     "output_type": "stream",
     "text": [
      "XGBoost Trial 0 MAE (Original Scale): 5.3665\n"
     ]
    },
    {
     "name": "stderr",
     "output_type": "stream",
     "text": [
      "[I 2025-04-30 00:44:33,277] Trial 1 finished with value: 5.337815191728995 and parameters: {'learning_rate': 0.026844247528777843, 'depth': 10, 'subsample': 0.8005575058716043, 'colsample_bylevel': 0.8540362888980227, 'l2_leaf_reg': 0.5514612357395061, 'iterations': 197}. Best is trial 1 with value: 5.337815191728995.\n"
     ]
    },
    {
     "name": "stdout",
     "output_type": "stream",
     "text": [
      "XGBoost Trial 1 MAE (Original Scale): 5.3378\n"
     ]
    },
    {
     "name": "stderr",
     "output_type": "stream",
     "text": [
      "[I 2025-04-30 00:44:43,999] Trial 2 finished with value: 5.33959786545107 and parameters: {'learning_rate': 0.2514083658321223, 'depth': 5, 'subsample': 0.5909124836035503, 'colsample_bylevel': 0.5917022549267169, 'l2_leaf_reg': 1.2606056073988443, 'iterations': 153}. Best is trial 1 with value: 5.337815191728995.\n"
     ]
    },
    {
     "name": "stdout",
     "output_type": "stream",
     "text": [
      "XGBoost Trial 2 MAE (Original Scale): 5.3396\n"
     ]
    },
    {
     "name": "stderr",
     "output_type": "stream",
     "text": [
      "[I 2025-04-30 00:44:57,242] Trial 3 finished with value: 5.321228478099605 and parameters: {'learning_rate': 0.13526405540621358, 'depth': 6, 'subsample': 0.8059264473611898, 'colsample_bylevel': 0.569746930326021, 'l2_leaf_reg': 1.2303616213380453, 'iterations': 137}. Best is trial 3 with value: 5.321228478099605.\n"
     ]
    },
    {
     "name": "stdout",
     "output_type": "stream",
     "text": [
      "XGBoost Trial 3 MAE (Original Scale): 5.3212\n"
     ]
    },
    {
     "name": "stderr",
     "output_type": "stream",
     "text": [
      "[I 2025-04-30 00:45:31,331] Trial 4 finished with value: 5.3555577628123325 and parameters: {'learning_rate': 0.1422602954229404, 'depth': 9, 'subsample': 0.5998368910791798, 'colsample_bylevel': 0.7571172192068059, 'l2_leaf_reg': 1.9810364221551062, 'iterations': 104}. Best is trial 3 with value: 5.321228478099605.\n"
     ]
    },
    {
     "name": "stdout",
     "output_type": "stream",
     "text": [
      "XGBoost Trial 4 MAE (Original Scale): 5.3556\n"
     ]
    },
    {
     "name": "stderr",
     "output_type": "stream",
     "text": [
      "[I 2025-04-30 00:45:43,381] Trial 5 finished with value: 5.34113517875002 and parameters: {'learning_rate': 0.1861880070514171, 'depth': 5, 'subsample': 0.5325257964926398, 'colsample_bylevel': 0.9744427686266666, 'l2_leaf_reg': 2.9140800826863984, 'iterations': 181}. Best is trial 3 with value: 5.321228478099605.\n"
     ]
    },
    {
     "name": "stdout",
     "output_type": "stream",
     "text": [
      "XGBoost Trial 5 MAE (Original Scale): 5.3411\n"
     ]
    },
    {
     "name": "stderr",
     "output_type": "stream",
     "text": [
      "[I 2025-04-30 00:45:52,942] Trial 6 finished with value: 5.36531559611999 and parameters: {'learning_rate': 0.09833799306027749, 'depth': 4, 'subsample': 0.8421165132560784, 'colsample_bylevel': 0.7200762468698007, 'l2_leaf_reg': 0.8050955871119471, 'iterations': 150}. Best is trial 3 with value: 5.321228478099605.\n"
     ]
    },
    {
     "name": "stdout",
     "output_type": "stream",
     "text": [
      "XGBoost Trial 6 MAE (Original Scale): 5.3653\n"
     ]
    },
    {
     "name": "stderr",
     "output_type": "stream",
     "text": [
      "[I 2025-04-30 00:47:19,510] Trial 7 finished with value: 5.404607800091223 and parameters: {'learning_rate': 0.019972671123413333, 'depth': 10, 'subsample': 0.6293899908000085, 'colsample_bylevel': 0.831261142176991, 'l2_leaf_reg': 1.2792776902235274, 'iterations': 152}. Best is trial 3 with value: 5.321228478099605.\n"
     ]
    },
    {
     "name": "stdout",
     "output_type": "stream",
     "text": [
      "XGBoost Trial 7 MAE (Original Scale): 5.4046\n"
     ]
    },
    {
     "name": "stderr",
     "output_type": "stream",
     "text": [
      "[I 2025-04-30 00:47:35,369] Trial 8 finished with value: 5.316052966951204 and parameters: {'learning_rate': 0.1685459810095511, 'depth': 5, 'subsample': 0.9847923138822793, 'colsample_bylevel': 0.8875664116805573, 'l2_leaf_reg': 2.848747353910473, 'iterations': 190}. Best is trial 8 with value: 5.316052966951204.\n"
     ]
    },
    {
     "name": "stdout",
     "output_type": "stream",
     "text": [
      "XGBoost Trial 8 MAE (Original Scale): 5.3161\n"
     ]
    },
    {
     "name": "stderr",
     "output_type": "stream",
     "text": [
      "[I 2025-04-30 00:48:29,969] Trial 9 finished with value: 5.458325652002045 and parameters: {'learning_rate': 0.18339099385521468, 'depth': 10, 'subsample': 0.5442462510259598, 'colsample_bylevel': 0.5979914312095727, 'l2_leaf_reg': 0.6130682222763452, 'iterations': 132}. Best is trial 8 with value: 5.316052966951204.\n"
     ]
    },
    {
     "name": "stdout",
     "output_type": "stream",
     "text": [
      "XGBoost Trial 9 MAE (Original Scale): 5.4583\n"
     ]
    },
    {
     "name": "stderr",
     "output_type": "stream",
     "text": [
      "[I 2025-04-30 00:48:53,524] Trial 10 finished with value: 5.399935279629266 and parameters: {'learning_rate': 0.2840895978268122, 'depth': 7, 'subsample': 0.984768555393933, 'colsample_bylevel': 0.9722495727394489, 'l2_leaf_reg': 2.959685540365486, 'iterations': 174}. Best is trial 8 with value: 5.316052966951204.\n"
     ]
    },
    {
     "name": "stdout",
     "output_type": "stream",
     "text": [
      "XGBoost Trial 10 MAE (Original Scale): 5.3999\n"
     ]
    },
    {
     "name": "stderr",
     "output_type": "stream",
     "text": [
      "[I 2025-04-30 00:49:10,253] Trial 11 finished with value: 5.357171357871906 and parameters: {'learning_rate': 0.2099241682110453, 'depth': 7, 'subsample': 0.9734809381950746, 'colsample_bylevel': 0.5065883662316703, 'l2_leaf_reg': 2.170931536156693, 'iterations': 133}. Best is trial 8 with value: 5.316052966951204.\n"
     ]
    },
    {
     "name": "stdout",
     "output_type": "stream",
     "text": [
      "XGBoost Trial 11 MAE (Original Scale): 5.3572\n"
     ]
    },
    {
     "name": "stderr",
     "output_type": "stream",
     "text": [
      "[I 2025-04-30 00:49:27,052] Trial 12 finished with value: 5.331566728671294 and parameters: {'learning_rate': 0.08409265626882378, 'depth': 6, 'subsample': 0.7157652601524234, 'colsample_bylevel': 0.6723149572481827, 'l2_leaf_reg': 2.4044513319369885, 'iterations': 170}. Best is trial 8 with value: 5.316052966951204.\n"
     ]
    },
    {
     "name": "stdout",
     "output_type": "stream",
     "text": [
      "XGBoost Trial 12 MAE (Original Scale): 5.3316\n"
     ]
    },
    {
     "name": "stderr",
     "output_type": "stream",
     "text": [
      "[I 2025-04-30 00:49:41,500] Trial 13 finished with value: 5.3211447628533035 and parameters: {'learning_rate': 0.15247677058420028, 'depth': 6, 'subsample': 0.9197719451715024, 'colsample_bylevel': 0.8954178991106393, 'l2_leaf_reg': 1.5413927906928495, 'iterations': 135}. Best is trial 8 with value: 5.316052966951204.\n"
     ]
    },
    {
     "name": "stdout",
     "output_type": "stream",
     "text": [
      "XGBoost Trial 13 MAE (Original Scale): 5.3211\n"
     ]
    },
    {
     "name": "stderr",
     "output_type": "stream",
     "text": [
      "[I 2025-04-30 00:49:54,889] Trial 14 finished with value: 5.362826823900894 and parameters: {'learning_rate': 0.23385796359022068, 'depth': 4, 'subsample': 0.9116375692213323, 'colsample_bylevel': 0.9144239786251815, 'l2_leaf_reg': 1.7855573079329718, 'iterations': 200}. Best is trial 8 with value: 5.316052966951204.\n"
     ]
    },
    {
     "name": "stdout",
     "output_type": "stream",
     "text": [
      "XGBoost Trial 14 MAE (Original Scale): 5.3628\n"
     ]
    },
    {
     "name": "stderr",
     "output_type": "stream",
     "text": [
      "[I 2025-04-30 00:50:21,113] Trial 15 finished with value: 5.347997420086406 and parameters: {'learning_rate': 0.1736673036780884, 'depth': 8, 'subsample': 0.919185327752776, 'colsample_bylevel': 0.8964479269004482, 'l2_leaf_reg': 2.5239472958827864, 'iterations': 122}. Best is trial 8 with value: 5.316052966951204.\n"
     ]
    },
    {
     "name": "stdout",
     "output_type": "stream",
     "text": [
      "XGBoost Trial 15 MAE (Original Scale): 5.3480\n"
     ]
    },
    {
     "name": "stderr",
     "output_type": "stream",
     "text": [
      "[I 2025-04-30 00:50:36,773] Trial 16 finished with value: 5.344522095996667 and parameters: {'learning_rate': 0.06667198614198036, 'depth': 6, 'subsample': 0.7185523987386382, 'colsample_bylevel': 0.9196537763073753, 'l2_leaf_reg': 1.5335352492317824, 'iterations': 164}. Best is trial 8 with value: 5.316052966951204.\n"
     ]
    },
    {
     "name": "stdout",
     "output_type": "stream",
     "text": [
      "XGBoost Trial 16 MAE (Original Scale): 5.3445\n"
     ]
    },
    {
     "name": "stderr",
     "output_type": "stream",
     "text": [
      "[I 2025-04-30 00:50:51,870] Trial 17 finished with value: 5.323969176928498 and parameters: {'learning_rate': 0.15961597775802688, 'depth': 5, 'subsample': 0.9452301779042054, 'colsample_bylevel': 0.864932569796465, 'l2_leaf_reg': 1.602943169238513, 'iterations': 180}. Best is trial 8 with value: 5.316052966951204.\n"
     ]
    },
    {
     "name": "stdout",
     "output_type": "stream",
     "text": [
      "XGBoost Trial 17 MAE (Original Scale): 5.3240\n"
     ]
    },
    {
     "name": "stderr",
     "output_type": "stream",
     "text": [
      "[I 2025-04-30 00:51:27,748] Trial 18 finished with value: 5.406527280202716 and parameters: {'learning_rate': 0.21265446039539782, 'depth': 8, 'subsample': 0.8827606070124381, 'colsample_bylevel': 0.9897127958863722, 'l2_leaf_reg': 2.60888307087704, 'iterations': 189}. Best is trial 8 with value: 5.316052966951204.\n"
     ]
    },
    {
     "name": "stdout",
     "output_type": "stream",
     "text": [
      "XGBoost Trial 18 MAE (Original Scale): 5.4065\n"
     ]
    },
    {
     "name": "stderr",
     "output_type": "stream",
     "text": [
      "[I 2025-04-30 00:51:39,876] Trial 19 finished with value: 5.339698484276877 and parameters: {'learning_rate': 0.11081178742997241, 'depth': 5, 'subsample': 0.9927153953143262, 'colsample_bylevel': 0.7811666108320344, 'l2_leaf_reg': 2.1514981145711456, 'iterations': 142}. Best is trial 8 with value: 5.316052966951204.\n"
     ]
    },
    {
     "name": "stdout",
     "output_type": "stream",
     "text": [
      "XGBoost Trial 19 MAE (Original Scale): 5.3397\n"
     ]
    },
    {
     "name": "stderr",
     "output_type": "stream",
     "text": [
      "[I 2025-04-30 00:52:00,953] Trial 20 finished with value: 5.422418548235837 and parameters: {'learning_rate': 0.289633388935058, 'depth': 7, 'subsample': 0.7774140811364809, 'colsample_bylevel': 0.6774014101741329, 'l2_leaf_reg': 1.907025432399222, 'iterations': 160}. Best is trial 8 with value: 5.316052966951204.\n"
     ]
    },
    {
     "name": "stdout",
     "output_type": "stream",
     "text": [
      "XGBoost Trial 20 MAE (Original Scale): 5.4224\n"
     ]
    },
    {
     "name": "stderr",
     "output_type": "stream",
     "text": [
      "[I 2025-04-30 00:52:13,853] Trial 21 finished with value: 5.320114594797135 and parameters: {'learning_rate': 0.1422317871136925, 'depth': 6, 'subsample': 0.8255044162944254, 'colsample_bylevel': 0.5820277679886149, 'l2_leaf_reg': 1.2151848681688893, 'iterations': 137}. Best is trial 8 with value: 5.316052966951204.\n"
     ]
    },
    {
     "name": "stdout",
     "output_type": "stream",
     "text": [
      "XGBoost Trial 21 MAE (Original Scale): 5.3201\n"
     ]
    },
    {
     "name": "stderr",
     "output_type": "stream",
     "text": [
      "[I 2025-04-30 00:52:27,898] Trial 22 finished with value: 5.331465305089427 and parameters: {'learning_rate': 0.15328532270982292, 'depth': 6, 'subsample': 0.9252719468722486, 'colsample_bylevel': 0.7163728055902459, 'l2_leaf_reg': 1.4801050881448483, 'iterations': 119}. Best is trial 8 with value: 5.316052966951204.\n"
     ]
    },
    {
     "name": "stdout",
     "output_type": "stream",
     "text": [
      "XGBoost Trial 22 MAE (Original Scale): 5.3315\n"
     ]
    },
    {
     "name": "stderr",
     "output_type": "stream",
     "text": [
      "[I 2025-04-30 00:52:35,238] Trial 23 finished with value: 5.403326908726485 and parameters: {'learning_rate': 0.06832653277902946, 'depth': 4, 'subsample': 0.8342218541652401, 'colsample_bylevel': 0.5020543888852101, 'l2_leaf_reg': 0.9683607215611356, 'iterations': 126}. Best is trial 8 with value: 5.316052966951204.\n"
     ]
    },
    {
     "name": "stdout",
     "output_type": "stream",
     "text": [
      "XGBoost Trial 23 MAE (Original Scale): 5.4033\n"
     ]
    },
    {
     "name": "stderr",
     "output_type": "stream",
     "text": [
      "[I 2025-04-30 00:52:50,759] Trial 24 finished with value: 5.3162812600870755 and parameters: {'learning_rate': 0.126526982623506, 'depth': 6, 'subsample': 0.8743353036681079, 'colsample_bylevel': 0.8163151963811592, 'l2_leaf_reg': 1.164216580038609, 'iterations': 143}. Best is trial 8 with value: 5.316052966951204.\n"
     ]
    },
    {
     "name": "stdout",
     "output_type": "stream",
     "text": [
      "XGBoost Trial 24 MAE (Original Scale): 5.3163\n"
     ]
    },
    {
     "name": "stderr",
     "output_type": "stream",
     "text": [
      "[I 2025-04-30 00:53:03,984] Trial 25 finished with value: 5.327897780743767 and parameters: {'learning_rate': 0.11659989365373892, 'depth': 5, 'subsample': 0.7469267363431569, 'colsample_bylevel': 0.8127355185323822, 'l2_leaf_reg': 1.2250605539312631, 'iterations': 146}. Best is trial 8 with value: 5.316052966951204.\n"
     ]
    },
    {
     "name": "stdout",
     "output_type": "stream",
     "text": [
      "XGBoost Trial 25 MAE (Original Scale): 5.3279\n"
     ]
    },
    {
     "name": "stderr",
     "output_type": "stream",
     "text": [
      "[I 2025-04-30 00:53:21,027] Trial 26 finished with value: 5.339686016360589 and parameters: {'learning_rate': 0.2041926794461406, 'depth': 6, 'subsample': 0.8815390089240833, 'colsample_bylevel': 0.6491900648324886, 'l2_leaf_reg': 1.1233550184119359, 'iterations': 160}. Best is trial 8 with value: 5.316052966951204.\n"
     ]
    },
    {
     "name": "stdout",
     "output_type": "stream",
     "text": [
      "XGBoost Trial 26 MAE (Original Scale): 5.3397\n"
     ]
    },
    {
     "name": "stderr",
     "output_type": "stream",
     "text": [
      "[I 2025-04-30 00:53:42,523] Trial 27 finished with value: 5.336666886275999 and parameters: {'learning_rate': 0.13328187634448813, 'depth': 8, 'subsample': 0.662194745828995, 'colsample_bylevel': 0.752357138047601, 'l2_leaf_reg': 1.00453271212053, 'iterations': 109}. Best is trial 8 with value: 5.316052966951204.\n"
     ]
    },
    {
     "name": "stdout",
     "output_type": "stream",
     "text": [
      "XGBoost Trial 27 MAE (Original Scale): 5.3367\n"
     ]
    },
    {
     "name": "stderr",
     "output_type": "stream",
     "text": [
      "[I 2025-04-30 00:54:02,879] Trial 28 finished with value: 5.34072366119891 and parameters: {'learning_rate': 0.05618079346304371, 'depth': 7, 'subsample': 0.959584903163197, 'colsample_bylevel': 0.844785241733063, 'l2_leaf_reg': 1.3972231739831482, 'iterations': 140}. Best is trial 8 with value: 5.316052966951204.\n"
     ]
    },
    {
     "name": "stdout",
     "output_type": "stream",
     "text": [
      "XGBoost Trial 28 MAE (Original Scale): 5.3407\n"
     ]
    },
    {
     "name": "stderr",
     "output_type": "stream",
     "text": [
      "[I 2025-04-30 00:54:14,129] Trial 29 finished with value: 5.3544402001262315 and parameters: {'learning_rate': 0.09671439525448802, 'depth': 5, 'subsample': 0.8584672352018595, 'colsample_bylevel': 0.7887957332693476, 'l2_leaf_reg': 0.7867145979273567, 'iterations': 127}. Best is trial 8 with value: 5.316052966951204.\n"
     ]
    },
    {
     "name": "stdout",
     "output_type": "stream",
     "text": [
      "XGBoost Trial 29 MAE (Original Scale): 5.3544\n"
     ]
    },
    {
     "name": "stderr",
     "output_type": "stream",
     "text": [
      "[I 2025-04-30 00:54:21,472] Trial 30 finished with value: 5.3761532431681145 and parameters: {'learning_rate': 0.12845282935103972, 'depth': 4, 'subsample': 0.8157211386675721, 'colsample_bylevel': 0.7148074996251859, 'l2_leaf_reg': 1.7475234516158762, 'iterations': 111}. Best is trial 8 with value: 5.316052966951204.\n"
     ]
    },
    {
     "name": "stdout",
     "output_type": "stream",
     "text": [
      "XGBoost Trial 30 MAE (Original Scale): 5.3762\n"
     ]
    },
    {
     "name": "stderr",
     "output_type": "stream",
     "text": [
      "[I 2025-04-30 00:54:36,710] Trial 31 finished with value: 5.334462097943301 and parameters: {'learning_rate': 0.1602389988326746, 'depth': 6, 'subsample': 0.8857462522651784, 'colsample_bylevel': 0.9427118503005487, 'l2_leaf_reg': 1.6477490541791566, 'iterations': 145}. Best is trial 8 with value: 5.316052966951204.\n"
     ]
    },
    {
     "name": "stdout",
     "output_type": "stream",
     "text": [
      "XGBoost Trial 31 MAE (Original Scale): 5.3345\n"
     ]
    },
    {
     "name": "stderr",
     "output_type": "stream",
     "text": [
      "[I 2025-04-30 00:54:51,409] Trial 32 finished with value: 5.3312310097668245 and parameters: {'learning_rate': 0.17291426019433856, 'depth': 6, 'subsample': 0.9409898575443779, 'colsample_bylevel': 0.8754095832078748, 'l2_leaf_reg': 1.4038160668518649, 'iterations': 133}. Best is trial 8 with value: 5.316052966951204.\n"
     ]
    },
    {
     "name": "stdout",
     "output_type": "stream",
     "text": [
      "XGBoost Trial 32 MAE (Original Scale): 5.3312\n"
     ]
    },
    {
     "name": "stderr",
     "output_type": "stream",
     "text": [
      "[I 2025-04-30 00:55:15,326] Trial 33 finished with value: 5.32628059517144 and parameters: {'learning_rate': 0.1493892583899058, 'depth': 7, 'subsample': 0.9999036381536541, 'colsample_bylevel': 0.8830508376250708, 'l2_leaf_reg': 2.7596417698085736, 'iterations': 158}. Best is trial 8 with value: 5.316052966951204.\n"
     ]
    },
    {
     "name": "stdout",
     "output_type": "stream",
     "text": [
      "XGBoost Trial 33 MAE (Original Scale): 5.3263\n"
     ]
    },
    {
     "name": "stderr",
     "output_type": "stream",
     "text": [
      "[I 2025-04-30 00:55:27,660] Trial 34 finished with value: 5.3343934866399225 and parameters: {'learning_rate': 0.1951487553554282, 'depth': 5, 'subsample': 0.7845728364731493, 'colsample_bylevel': 0.8213190480367871, 'l2_leaf_reg': 1.067461934411021, 'iterations': 137}. Best is trial 8 with value: 5.316052966951204.\n"
     ]
    },
    {
     "name": "stdout",
     "output_type": "stream",
     "text": [
      "XGBoost Trial 34 MAE (Original Scale): 5.3344\n"
     ]
    },
    {
     "name": "stderr",
     "output_type": "stream",
     "text": [
      "[I 2025-04-30 00:55:45,759] Trial 35 finished with value: 5.313913781278504 and parameters: {'learning_rate': 0.11904380189261482, 'depth': 6, 'subsample': 0.8989610385681236, 'colsample_bylevel': 0.5572662616377695, 'l2_leaf_reg': 2.2086700173625626, 'iterations': 191}. Best is trial 35 with value: 5.313913781278504.\n"
     ]
    },
    {
     "name": "stdout",
     "output_type": "stream",
     "text": [
      "XGBoost Trial 35 MAE (Original Scale): 5.3139\n"
     ]
    },
    {
     "name": "stderr",
     "output_type": "stream",
     "text": [
      "[I 2025-04-30 00:55:59,977] Trial 36 finished with value: 5.369396258764518 and parameters: {'learning_rate': 0.04462888726384623, 'depth': 5, 'subsample': 0.8494983227342824, 'colsample_bylevel': 0.5581240971390928, 'l2_leaf_reg': 2.202135574465183, 'iterations': 191}. Best is trial 35 with value: 5.313913781278504.\n"
     ]
    },
    {
     "name": "stdout",
     "output_type": "stream",
     "text": [
      "XGBoost Trial 36 MAE (Original Scale): 5.3694\n"
     ]
    },
    {
     "name": "stderr",
     "output_type": "stream",
     "text": [
      "[I 2025-04-30 00:56:23,232] Trial 37 finished with value: 5.321192987028329 and parameters: {'learning_rate': 0.10400435056107199, 'depth': 7, 'subsample': 0.8940592932171196, 'colsample_bylevel': 0.5396809504211417, 'l2_leaf_reg': 2.379228081516622, 'iterations': 184}. Best is trial 35 with value: 5.313913781278504.\n"
     ]
    },
    {
     "name": "stdout",
     "output_type": "stream",
     "text": [
      "XGBoost Trial 37 MAE (Original Scale): 5.3212\n"
     ]
    },
    {
     "name": "stderr",
     "output_type": "stream",
     "text": [
      "[I 2025-04-30 00:56:37,681] Trial 38 finished with value: 5.316137358901905 and parameters: {'learning_rate': 0.12879930688460445, 'depth': 5, 'subsample': 0.8114246480113705, 'colsample_bylevel': 0.6218790837058551, 'l2_leaf_reg': 2.7019414927454823, 'iterations': 193}. Best is trial 35 with value: 5.313913781278504.\n"
     ]
    },
    {
     "name": "stdout",
     "output_type": "stream",
     "text": [
      "XGBoost Trial 38 MAE (Original Scale): 5.3161\n"
     ]
    },
    {
     "name": "stderr",
     "output_type": "stream",
     "text": [
      "[I 2025-04-30 00:56:48,722] Trial 39 finished with value: 5.3527833079827385 and parameters: {'learning_rate': 0.08429989289777223, 'depth': 4, 'subsample': 0.7602353059374477, 'colsample_bylevel': 0.602151702854529, 'l2_leaf_reg': 2.692956411008711, 'iterations': 192}. Best is trial 35 with value: 5.313913781278504.\n"
     ]
    },
    {
     "name": "stdout",
     "output_type": "stream",
     "text": [
      "XGBoost Trial 39 MAE (Original Scale): 5.3528\n"
     ]
    },
    {
     "name": "stderr",
     "output_type": "stream",
     "text": [
      "[I 2025-04-30 00:57:03,980] Trial 40 finished with value: 5.3191003464118625 and parameters: {'learning_rate': 0.12356992611681086, 'depth': 5, 'subsample': 0.9592238111267539, 'colsample_bylevel': 0.6253036357559055, 'l2_leaf_reg': 2.7989886117239466, 'iterations': 195}. Best is trial 35 with value: 5.313913781278504.\n"
     ]
    },
    {
     "name": "stdout",
     "output_type": "stream",
     "text": [
      "XGBoost Trial 40 MAE (Original Scale): 5.3191\n"
     ]
    },
    {
     "name": "stderr",
     "output_type": "stream",
     "text": [
      "[I 2025-04-30 00:57:19,278] Trial 41 finished with value: 5.318852613612422 and parameters: {'learning_rate': 0.12516058497880128, 'depth': 5, 'subsample': 0.9569604792841899, 'colsample_bylevel': 0.6191452664277507, 'l2_leaf_reg': 2.863598578481058, 'iterations': 195}. Best is trial 35 with value: 5.313913781278504.\n"
     ]
    },
    {
     "name": "stdout",
     "output_type": "stream",
     "text": [
      "XGBoost Trial 41 MAE (Original Scale): 5.3189\n"
     ]
    },
    {
     "name": "stderr",
     "output_type": "stream",
     "text": [
      "[I 2025-04-30 00:57:35,023] Trial 42 finished with value: 5.331622139688824 and parameters: {'learning_rate': 0.09132483301299531, 'depth': 5, 'subsample': 0.8594420365876114, 'colsample_bylevel': 0.5470654321108301, 'l2_leaf_reg': 2.8373502285688668, 'iterations': 187}. Best is trial 35 with value: 5.313913781278504.\n"
     ]
    },
    {
     "name": "stdout",
     "output_type": "stream",
     "text": [
      "XGBoost Trial 42 MAE (Original Scale): 5.3316\n"
     ]
    },
    {
     "name": "stderr",
     "output_type": "stream",
     "text": [
      "[I 2025-04-30 00:57:46,176] Trial 43 finished with value: 5.330189228693192 and parameters: {'learning_rate': 0.11606190741811226, 'depth': 4, 'subsample': 0.965946308365782, 'colsample_bylevel': 0.6192562705401669, 'l2_leaf_reg': 2.478160476794841, 'iterations': 178}. Best is trial 35 with value: 5.313913781278504.\n"
     ]
    },
    {
     "name": "stdout",
     "output_type": "stream",
     "text": [
      "XGBoost Trial 43 MAE (Original Scale): 5.3302\n"
     ]
    },
    {
     "name": "stderr",
     "output_type": "stream",
     "text": [
      "[I 2025-04-30 00:58:05,724] Trial 44 finished with value: 5.31784395760597 and parameters: {'learning_rate': 0.1384056330246353, 'depth': 6, 'subsample': 0.8973211008372322, 'colsample_bylevel': 0.6413838275518812, 'l2_leaf_reg': 2.98383214995191, 'iterations': 200}. Best is trial 35 with value: 5.313913781278504.\n"
     ]
    },
    {
     "name": "stdout",
     "output_type": "stream",
     "text": [
      "XGBoost Trial 44 MAE (Original Scale): 5.3178\n"
     ]
    },
    {
     "name": "stderr",
     "output_type": "stream",
     "text": [
      "[I 2025-04-30 00:58:24,674] Trial 45 finished with value: 5.324510299161935 and parameters: {'learning_rate': 0.16695605689318965, 'depth': 6, 'subsample': 0.8089680251220116, 'colsample_bylevel': 0.6902789520461936, 'l2_leaf_reg': 2.991298630874696, 'iterations': 199}. Best is trial 35 with value: 5.313913781278504.\n"
     ]
    },
    {
     "name": "stdout",
     "output_type": "stream",
     "text": [
      "XGBoost Trial 45 MAE (Original Scale): 5.3245\n"
     ]
    },
    {
     "name": "stderr",
     "output_type": "stream",
     "text": [
      "[I 2025-04-30 00:58:41,450] Trial 46 finished with value: 5.338166985134831 and parameters: {'learning_rate': 0.18572632917675896, 'depth': 6, 'subsample': 0.8953210357381118, 'colsample_bylevel': 0.6463651080474773, 'l2_leaf_reg': 2.3039145990254988, 'iterations': 168}. Best is trial 35 with value: 5.313913781278504.\n"
     ]
    },
    {
     "name": "stdout",
     "output_type": "stream",
     "text": [
      "XGBoost Trial 46 MAE (Original Scale): 5.3382\n"
     ]
    },
    {
     "name": "stderr",
     "output_type": "stream",
     "text": [
      "[I 2025-04-30 00:58:55,078] Trial 47 finished with value: 5.332097218600052 and parameters: {'learning_rate': 0.13970548663323462, 'depth': 5, 'subsample': 0.8681135159390961, 'colsample_bylevel': 0.522443015793316, 'l2_leaf_reg': 2.6230240763413777, 'iterations': 185}. Best is trial 35 with value: 5.313913781278504.\n"
     ]
    },
    {
     "name": "stdout",
     "output_type": "stream",
     "text": [
      "XGBoost Trial 47 MAE (Original Scale): 5.3321\n"
     ]
    },
    {
     "name": "stderr",
     "output_type": "stream",
     "text": [
      "[I 2025-04-30 00:59:14,043] Trial 48 finished with value: 5.372493755833459 and parameters: {'learning_rate': 0.26027450199410695, 'depth': 6, 'subsample': 0.910193423054985, 'colsample_bylevel': 0.5785449662663875, 'l2_leaf_reg': 1.9749660651124286, 'iterations': 195}. Best is trial 35 with value: 5.313913781278504.\n"
     ]
    },
    {
     "name": "stdout",
     "output_type": "stream",
     "text": [
      "XGBoost Trial 48 MAE (Original Scale): 5.3725\n"
     ]
    },
    {
     "name": "stderr",
     "output_type": "stream",
     "text": [
      "[I 2025-04-30 00:59:39,758] Trial 49 finished with value: 5.388044705237166 and parameters: {'learning_rate': 0.22852868266271087, 'depth': 7, 'subsample': 0.9287006474374813, 'colsample_bylevel': 0.7796444345935306, 'l2_leaf_reg': 2.6508576712456806, 'iterations': 175}. Best is trial 35 with value: 5.313913781278504.\n"
     ]
    },
    {
     "name": "stdout",
     "output_type": "stream",
     "text": [
      "XGBoost Trial 49 MAE (Original Scale): 5.3880\n",
      "Best hyperparameters for CatBoost:  {'learning_rate': 0.11904380189261482, 'depth': 6, 'subsample': 0.8989610385681236, 'colsample_bylevel': 0.5572662616377695, 'l2_leaf_reg': 2.2086700173625626, 'iterations': 191}\n"
     ]
    }
   ],
   "source": [
    "study_cat = optuna.create_study(direction='minimize', sampler=optuna.samplers.TPESampler(seed=42))\n",
    "study_cat.optimize(objective_cat, n_trials=50)\n",
    "print(\"Best hyperparameters for CatBoost: \", study_cat.best_params)"
   ]
  },
  {
   "cell_type": "code",
   "execution_count": 67,
   "id": "f08f5fe5-d62c-4fa6-aef4-1d552c795f7d",
   "metadata": {},
   "outputs": [
    {
     "name": "stdout",
     "output_type": "stream",
     "text": [
      "Individual MAEs: XGB=5.4263, LGB=5.4283, CAT=5.3092\n"
     ]
    }
   ],
   "source": [
    "xgb_best_params = study_xgb.best_params\n",
    "lgb_best_params = study_lgb.best_params\n",
    "cat_best_params = study_cat.best_params\n",
    "\n",
    "xgb_model = xgb.XGBRegressor(\n",
    "    learning_rate=xgb_best_params['learning_rate'],\n",
    "    max_depth=xgb_best_params['max_depth'],\n",
    "    subsample=xgb_best_params['subsample'],\n",
    "    colsample_bytree=xgb_best_params['colsample_bytree'],\n",
    "    lambda_l1=xgb_best_params['lambda_l1'],\n",
    "    lambda_l2=xgb_best_params['lambda_l2'],\n",
    "    n_estimators=xgb_best_params['n_estimators'],\n",
    "    random_state=42,\n",
    "    objective='reg:squarederror',\n",
    "    verbosity=0\n",
    ")\n",
    "\n",
    "lgb_model = lgb.LGBMRegressor(\n",
    "    learning_rate=lgb_best_params['learning_rate'],\n",
    "    max_depth=lgb_best_params['max_depth'],\n",
    "    num_leaves=lgb_best_params['num_leaves'],\n",
    "    subsample=lgb_best_params['subsample'],\n",
    "    colsample_bytree=lgb_best_params['colsample_bytree'],\n",
    "    lambda_l1=lgb_best_params['lambda_l1'],\n",
    "    lambda_l2=lgb_best_params['lambda_l2'],\n",
    "    n_estimators=lgb_best_params['n_estimators'],\n",
    "    random_state=42,\n",
    "    objective='regression',\n",
    "    verbose=-1\n",
    ")\n",
    "\n",
    "cat_model = cb.CatBoostRegressor(\n",
    "    loss_function='MAE',\n",
    "    learning_rate=cat_best_params['learning_rate'],\n",
    "    depth=cat_best_params['depth'],\n",
    "    subsample=cat_best_params['subsample'],\n",
    "    colsample_bylevel=cat_best_params['colsample_bylevel'],\n",
    "    l2_leaf_reg=cat_best_params['l2_leaf_reg'],\n",
    "    iterations=cat_best_params['iterations'],\n",
    "    random_seed=42,\n",
    "    verbose=0\n",
    ")\n",
    "\n",
    "# train\n",
    "xgb_model.fit(X_train, y_train)\n",
    "lgb_model.fit(X_train, y_train)\n",
    "cat_model.fit(X_train, y_train)\n",
    "\n",
    "# predict\n",
    "pred_xgb = xgb_model.predict(X_val)\n",
    "pred_lgb = lgb_model.predict(X_val)\n",
    "pred_cat = cat_model.predict(X_val)\n",
    "\n",
    "\n",
    "# MAE\n",
    "\n",
    "mae_xgb = np.mean(le_to_ae(y_val,pred_xgb))\n",
    "mae_lgb = np.mean(le_to_ae(y_val,pred_lgb))\n",
    "mae_cat = np.mean(le_to_ae(y_val,pred_cat))\n",
    "\n",
    "print(f\"Individual MAEs: XGB={mae_xgb:.4f}, LGB={mae_lgb:.4f}, CAT={mae_cat:.4f}\")"
   ]
  },
  {
   "cell_type": "code",
   "execution_count": 68,
   "id": "616c4903-5fab-464a-a559-ff11239438c7",
   "metadata": {},
   "outputs": [
    {
     "name": "stderr",
     "output_type": "stream",
     "text": [
      "[I 2025-04-30 00:59:47,182] A new study created in memory with name: no-name-04797b71-c015-4d13-b5aa-a5ffbfee2515\n",
      "[I 2025-04-30 01:00:23,038] Trial 0 finished with value: 5.361243678153744 and parameters: {'w_xgb': 0.3745401188473625, 'w_lgb': 0.9507143064099162, 'w_cat': 0.7319939418114051}. Best is trial 0 with value: 5.361243678153744.\n",
      "[I 2025-04-30 01:00:59,770] Trial 1 finished with value: 5.410116664163512 and parameters: {'w_xgb': 0.5986584841970366, 'w_lgb': 0.15601864044243652, 'w_cat': 0.15599452033620265}. Best is trial 0 with value: 5.361243678153744.\n",
      "[I 2025-04-30 01:01:36,667] Trial 2 finished with value: 5.3537815887977045 and parameters: {'w_xgb': 0.05808361216819946, 'w_lgb': 0.8661761457749352, 'w_cat': 0.6011150117432088}. Best is trial 2 with value: 5.3537815887977045.\n",
      "[I 2025-04-30 01:02:13,150] Trial 3 finished with value: 5.327785695535146 and parameters: {'w_xgb': 0.7080725777960455, 'w_lgb': 0.020584494295802447, 'w_cat': 0.9699098521619943}. Best is trial 3 with value: 5.327785695535146.\n",
      "[I 2025-04-30 01:02:49,435] Trial 4 finished with value: 5.416417802513903 and parameters: {'w_xgb': 0.8324426408004217, 'w_lgb': 0.21233911067827616, 'w_cat': 0.18182496720710062}. Best is trial 3 with value: 5.327785695535146.\n",
      "[I 2025-04-30 01:03:26,463] Trial 5 finished with value: 5.3311388709007295 and parameters: {'w_xgb': 0.18340450985343382, 'w_lgb': 0.3042422429595377, 'w_cat': 0.5247564316322378}. Best is trial 3 with value: 5.327785695535146.\n",
      "[I 2025-04-30 01:04:04,409] Trial 6 finished with value: 5.342787379417012 and parameters: {'w_xgb': 0.43194501864211576, 'w_lgb': 0.2912291401980419, 'w_cat': 0.6118528947223795}. Best is trial 3 with value: 5.327785695535146.\n",
      "[I 2025-04-30 01:04:40,234] Trial 7 finished with value: 5.341140002670655 and parameters: {'w_xgb': 0.13949386065204183, 'w_lgb': 0.29214464853521815, 'w_cat': 0.3663618432936917}. Best is trial 3 with value: 5.327785695535146.\n",
      "[I 2025-04-30 01:05:17,358] Trial 8 finished with value: 5.413685465027473 and parameters: {'w_xgb': 0.45606998421703593, 'w_lgb': 0.7851759613930136, 'w_cat': 0.19967378215835974}. Best is trial 3 with value: 5.327785695535146.\n",
      "[I 2025-04-30 01:05:54,642] Trial 9 finished with value: 5.441709650424961 and parameters: {'w_xgb': 0.5142344384136116, 'w_lgb': 0.5924145688620425, 'w_cat': 0.046450412719997725}. Best is trial 3 with value: 5.327785695535146.\n",
      "[I 2025-04-30 01:06:31,001] Trial 10 finished with value: 5.340389282075453 and parameters: {'w_xgb': 0.9679380298865652, 'w_lgb': 0.005997182955817193, 'w_cat': 0.9695371107878661}. Best is trial 3 with value: 5.327785695535146.\n",
      "[I 2025-04-30 01:07:06,985] Trial 11 finished with value: 5.346893814752053 and parameters: {'w_xgb': 0.7206532007461377, 'w_lgb': 0.4486752363847232, 'w_cat': 0.907664795282518}. Best is trial 3 with value: 5.327785695535146.\n",
      "[I 2025-04-30 01:07:44,527] Trial 12 finished with value: 5.3060165006545175 and parameters: {'w_xgb': 0.2554434587651989, 'w_lgb': 0.006861948491806881, 'w_cat': 0.783629621149017}. Best is trial 12 with value: 5.3060165006545175.\n",
      "[I 2025-04-30 01:08:20,727] Trial 13 finished with value: 5.307960003143946 and parameters: {'w_xgb': 0.3007960019015997, 'w_lgb': 0.008442716176733582, 'w_cat': 0.8254164011616364}. Best is trial 12 with value: 5.3060165006545175.\n",
      "[I 2025-04-30 01:08:56,538] Trial 14 finished with value: 5.31221332881566 and parameters: {'w_xgb': 0.2858543084450993, 'w_lgb': 0.10421257392155567, 'w_cat': 0.7879900149430299}. Best is trial 12 with value: 5.3060165006545175.\n",
      "[I 2025-04-30 01:09:33,068] Trial 15 finished with value: 5.329964638385725 and parameters: {'w_xgb': 0.24157024481302347, 'w_lgb': 0.46455153839191277, 'w_cat': 0.7801036562547621}. Best is trial 12 with value: 5.3060165006545175.\n",
      "[I 2025-04-30 01:10:10,897] Trial 16 finished with value: 5.324570960725715 and parameters: {'w_xgb': 0.011342294053260205, 'w_lgb': 0.645856440703241, 'w_cat': 0.8313071578377597}. Best is trial 12 with value: 5.3060165006545175.\n",
      "[I 2025-04-30 01:10:47,231] Trial 17 finished with value: 5.319332745877451 and parameters: {'w_xgb': 0.3248638077436558, 'w_lgb': 0.10035425895274863, 'w_cat': 0.6768180580956151}. Best is trial 12 with value: 5.3060165006545175.\n",
      "[I 2025-04-30 01:11:23,635] Trial 18 finished with value: 5.3473305128419435 and parameters: {'w_xgb': 0.11551936285720882, 'w_lgb': 0.38118676019088094, 'w_cat': 0.36695463128182876}. Best is trial 12 with value: 5.3060165006545175.\n",
      "[I 2025-04-30 01:12:01,013] Trial 19 finished with value: 5.361796555401987 and parameters: {'w_xgb': 0.5584210328468074, 'w_lgb': 0.1875326314333673, 'w_cat': 0.4372616947517522}. Best is trial 12 with value: 5.3060165006545175.\n",
      "[I 2025-04-30 01:12:36,894] Trial 20 finished with value: 5.303686584516894 and parameters: {'w_xgb': 0.2381391761634913, 'w_lgb': 0.00452001959106939, 'w_cat': 0.8608399492700386}. Best is trial 20 with value: 5.303686584516894.\n",
      "[I 2025-04-30 01:13:13,449] Trial 21 finished with value: 5.304695444498602 and parameters: {'w_xgb': 0.24155493298034003, 'w_lgb': 0.0300200445119838, 'w_cat': 0.853283697427195}. Best is trial 20 with value: 5.303686584516894.\n",
      "[I 2025-04-30 01:13:50,625] Trial 22 finished with value: 5.304778455307467 and parameters: {'w_xgb': 0.21240666172324396, 'w_lgb': 0.09294186405141401, 'w_cat': 0.8833627127219348}. Best is trial 20 with value: 5.303686584516894.\n",
      "[I 2025-04-30 01:14:26,981] Trial 23 finished with value: 5.304042926984194 and parameters: {'w_xgb': 0.1863977964190601, 'w_lgb': 0.11631291615296299, 'w_cat': 0.8953944724844811}. Best is trial 20 with value: 5.303686584516894.\n",
      "[I 2025-04-30 01:15:03,454] Trial 24 finished with value: 5.311903489340118 and parameters: {'w_xgb': 0.11448411828289914, 'w_lgb': 0.24540026811062407, 'w_cat': 0.6789259289010783}. Best is trial 20 with value: 5.303686584516894.\n",
      "[I 2025-04-30 01:15:39,373] Trial 25 finished with value: 5.316851911083842 and parameters: {'w_xgb': 0.3849491018344544, 'w_lgb': 0.16033035454033334, 'w_cat': 0.9263123492706223}. Best is trial 20 with value: 5.303686584516894.\n",
      "[I 2025-04-30 01:16:16,740] Trial 26 finished with value: 5.297272094247359 and parameters: {'w_xgb': 0.010989189243771347, 'w_lgb': 0.09213218890377779, 'w_cat': 0.9846690454928924}. Best is trial 26 with value: 5.297272094247359.\n",
      "[I 2025-04-30 01:16:51,978] Trial 27 finished with value: 5.304398782826215 and parameters: {'w_xgb': 0.03270703705348522, 'w_lgb': 0.3435205162451862, 'w_cat': 0.9772664655950782}. Best is trial 26 with value: 5.297272094247359.\n",
      "[I 2025-04-30 01:17:29,114] Trial 28 finished with value: 5.299151211818218 and parameters: {'w_xgb': 0.09682307532214969, 'w_lgb': 0.1180206585075746, 'w_cat': 0.9897577202441085}. Best is trial 26 with value: 5.297272094247359.\n",
      "[I 2025-04-30 01:18:05,923] Trial 29 finished with value: 5.328195024608301 and parameters: {'w_xgb': 0.003020440252080231, 'w_lgb': 0.6293286660298155, 'w_cat': 0.7298381527029603}. Best is trial 26 with value: 5.297272094247359.\n",
      "[I 2025-04-30 01:18:42,206] Trial 30 finished with value: 5.309311214201917 and parameters: {'w_xgb': 0.08286591607256392, 'w_lgb': 0.3887691947863863, 'w_cat': 0.9754814828509767}. Best is trial 26 with value: 5.297272094247359.\n",
      "[I 2025-04-30 01:19:18,602] Trial 31 finished with value: 5.301460687243525 and parameters: {'w_xgb': 0.15241285131586604, 'w_lgb': 0.09844599998936665, 'w_cat': 0.9166989430127981}. Best is trial 26 with value: 5.297272094247359.\n",
      "[I 2025-04-30 01:19:55,606] Trial 32 finished with value: 5.30431284152469 and parameters: {'w_xgb': 0.14019416605593257, 'w_lgb': 0.22750015898963308, 'w_cat': 0.9993814952641836}. Best is trial 26 with value: 5.297272094247359.\n",
      "[I 2025-04-30 01:20:32,073] Trial 33 finished with value: 5.298142296348072 and parameters: {'w_xgb': 0.06906529945416254, 'w_lgb': 0.07887229216570438, 'w_cat': 0.9068579920267406}. Best is trial 26 with value: 5.297272094247359.\n",
      "[I 2025-04-30 01:21:10,635] Trial 34 finished with value: 5.338559500380576 and parameters: {'w_xgb': 0.06022772601597628, 'w_lgb': 0.9652325178791951, 'w_cat': 0.9242060107101142}. Best is trial 26 with value: 5.297272094247359.\n",
      "[I 2025-04-30 01:21:47,133] Trial 35 finished with value: 5.2997129980292135 and parameters: {'w_xgb': 0.09277280085359041, 'w_lgb': 0.07614248254265021, 'w_cat': 0.7461383098062679}. Best is trial 26 with value: 5.297272094247359.\n",
      "[I 2025-04-30 01:22:23,813] Trial 36 finished with value: 5.301059945704929 and parameters: {'w_xgb': 0.06951491328549919, 'w_lgb': 0.13884887774764526, 'w_cat': 0.7186548003820976}. Best is trial 26 with value: 5.297272094247359.\n",
      "[I 2025-04-30 01:22:59,992] Trial 37 finished with value: 5.322418944005998 and parameters: {'w_xgb': 0.3596665509401914, 'w_lgb': 0.0709457593399237, 'w_cat': 0.6374340894833049}. Best is trial 26 with value: 5.297272094247359.\n",
      "[I 2025-04-30 01:23:35,884] Trial 38 finished with value: 5.30767348821631 and parameters: {'w_xgb': 0.0780925225422249, 'w_lgb': 0.17937476747398787, 'w_cat': 0.5781711864184268}. Best is trial 26 with value: 5.297272094247359.\n",
      "[I 2025-04-30 01:24:13,206] Trial 39 finished with value: 5.314820538204531 and parameters: {'w_xgb': 0.182718580255949, 'w_lgb': 0.26385541316984223, 'w_cat': 0.7663068296654265}. Best is trial 26 with value: 5.297272094247359.\n",
      "[I 2025-04-30 01:24:49,520] Trial 40 finished with value: 5.352388462554498 and parameters: {'w_xgb': 0.6265174915253657, 'w_lgb': 0.7718522350088143, 'w_cat': 0.9403053122246012}. Best is trial 26 with value: 5.297272094247359.\n",
      "[I 2025-04-30 01:25:25,915] Trial 41 finished with value: 5.301042053491557 and parameters: {'w_xgb': 0.06691315675467108, 'w_lgb': 0.142917429030885, 'w_cat': 0.7219110545028451}. Best is trial 26 with value: 5.297272094247359.\n",
      "[I 2025-04-30 01:26:03,013] Trial 42 finished with value: 5.297590862919073 and parameters: {'w_xgb': 0.03601494402448247, 'w_lgb': 0.06607682345931624, 'w_cat': 0.8269397364514259}. Best is trial 26 with value: 5.297272094247359.\n",
      "[I 2025-04-30 01:26:38,705] Trial 43 finished with value: 5.298309391940459 and parameters: {'w_xgb': 0.00013249598329448387, 'w_lgb': 0.047696249768047164, 'w_cat': 0.826681889596252}. Best is trial 26 with value: 5.297272094247359.\n",
      "[I 2025-04-30 01:27:14,988] Trial 44 finished with value: 5.2976786900691515 and parameters: {'w_xgb': 0.009437072986113947, 'w_lgb': 0.06113439235169239, 'w_cat': 0.8440014483524967}. Best is trial 26 with value: 5.297272094247359.\n",
      "[I 2025-04-30 01:27:50,816] Trial 45 finished with value: 5.297541381025927 and parameters: {'w_xgb': 0.0021507380458406123, 'w_lgb': 0.0672742383976233, 'w_cat': 0.8270445229795297}. Best is trial 26 with value: 5.297272094247359.\n",
      "[I 2025-04-30 01:28:29,240] Trial 46 finished with value: 5.306264704042248 and parameters: {'w_xgb': 0.036448759072352704, 'w_lgb': 0.19801205394210084, 'w_cat': 0.5545367041944018}. Best is trial 26 with value: 5.297272094247359.\n",
      "[I 2025-04-30 01:29:06,333] Trial 47 finished with value: 5.329058266689367 and parameters: {'w_xgb': 0.15196281438458567, 'w_lgb': 0.05543875036420309, 'w_cat': 0.249433810161391}. Best is trial 26 with value: 5.297272094247359.\n",
      "[I 2025-04-30 01:29:42,924] Trial 48 finished with value: 5.307265852065304 and parameters: {'w_xgb': 0.042732263618296705, 'w_lgb': 0.3184163331151651, 'w_cat': 0.8134174575589904}. Best is trial 26 with value: 5.297272094247359.\n",
      "[I 2025-04-30 01:30:20,319] Trial 49 finished with value: 5.366184179896686 and parameters: {'w_xgb': 0.8454094134248978, 'w_lgb': 0.8895564194661054, 'w_cat': 0.8773595703597095}. Best is trial 26 with value: 5.297272094247359.\n"
     ]
    },
    {
     "name": "stdout",
     "output_type": "stream",
     "text": [
      "{'w_xgb': 0.010989189243771347, 'w_lgb': 0.09213218890377779, 'w_cat': 0.9846690454928924}\n",
      "5.297272094247359\n"
     ]
    }
   ],
   "source": [
    "def create_objective(X, y, xgb_best_params, lgb_best_params, cat_best_params):\n",
    "    kf = KFold(n_splits=5, shuffle=True, random_state=42)\n",
    "\n",
    "    def objective(trial):\n",
    "        w_xgb = trial.suggest_float('w_xgb', 0, 1)\n",
    "        w_lgb = trial.suggest_float('w_lgb', 0, 1)\n",
    "        w_cat = trial.suggest_float('w_cat', 0, 1)\n",
    "\n",
    "        total_weight = w_xgb + w_lgb + w_cat\n",
    "        w_xgb /= total_weight\n",
    "        w_lgb /= total_weight\n",
    "        w_cat /= total_weight\n",
    "\n",
    "        aes = []\n",
    "\n",
    "        for train_idx, val_idx in kf.split(X_encoded, y):\n",
    "            X_train, X_val = X_encoded.iloc[train_idx], X_encoded.iloc[val_idx]\n",
    "            y_train, y_val = y.iloc[train_idx], y.iloc[val_idx]\n",
    "\n",
    "\n",
    "            xgb_model.fit(X_train, y_train)\n",
    "            lgb_model.fit(X_train, y_train)\n",
    "            cat_model.fit(X_train, y_train)\n",
    "\n",
    "            pred_xgb = xgb_model.predict(X_val)\n",
    "            pred_lgb = lgb_model.predict(X_val)\n",
    "            pred_cat = cat_model.predict(X_val)\n",
    "\n",
    "            ensemble_pred = w_xgb * pred_xgb + w_lgb * pred_lgb + w_cat * pred_cat\n",
    "\n",
    "            \n",
    "            ae = le_to_ae(y_val, ensemble_pred)\n",
    "            aes.extend(ae)\n",
    "\n",
    "        return np.mean(aes)\n",
    "\n",
    "    return objective\n",
    "study = optuna.create_study(direction='minimize', sampler=optuna.samplers.TPESampler(seed=42))\n",
    "study.optimize(create_objective(X, y, xgb_best_params, lgb_best_params, cat_best_params), n_trials=50)\n",
    "\n",
    "print(study.best_params)\n",
    "print(study.best_value)"
   ]
  },
  {
   "cell_type": "code",
   "execution_count": 69,
   "id": "ec0cf500-08c6-4c6d-bef6-5d944111b598",
   "metadata": {},
   "outputs": [],
   "source": [
    "best_weights = study.best_params\n",
    "\n",
    "pred_xgb = xgb_model.predict(X_val)\n",
    "pred_lgb = lgb_model.predict(X_val)\n",
    "pred_cat = cat_model.predict(X_val)\n",
    "\n",
    "# normalize weights\n",
    "total_weight = best_weights['w_xgb'] + best_weights['w_lgb'] + best_weights['w_cat']\n",
    "w_xgb = best_weights['w_xgb'] / total_weight\n",
    "w_lgb = best_weights['w_lgb'] / total_weight\n",
    "w_cat = best_weights['w_cat'] / total_weight\n",
    "\n",
    "final_ensemble_pred = w_xgb * pred_xgb + w_lgb * pred_lgb + w_cat * pred_cat\n",
    "\n",
    "#ae = le_to_ae(y_val, final_ensemble_pred)\n",
    "#mae=np.mean(ae)\n",
    "\n",
    "#final_ensemble_pred = np.clip(np.round(final_ensemble_pred), 0, 28)\n",
    "\n",
    "# this mae is analitically the same but more precise since predictions are round numbers between 0-28\n",
    "def scale_back(y_val_scaled):\n",
    "    return np.clip(np.round(np.expm1(y_val_scaled)), 0, 28)  # scale from log to normal scale\n",
    "    \n",
    "def mae_scaled(y_val, final_ensemble_pred, prnt=False): # calculates mae in a normal scale\n",
    "    y_val_scaled = scale_back(y_val)\n",
    "    final_ensemble_pred_scaled = scale_back(final_ensemble_pred)\n",
    "    \n",
    "    mae = mean_absolute_error(y_val_scaled, final_ensemble_pred_scaled)\n",
    "    \n",
    "    print(f\"Final Ensemble MAE: {mae:.4f}\")\n",
    "    \n",
    "    if prnt:\n",
    "        plt.figure(figsize=(10, 6))\n",
    "        sns.histplot(y_val_scaled, color='blue', kde=True, label='Real Values', stat='density', bins=29)\n",
    "        sns.histplot(final_ensemble_pred_scaled, color='red', kde=True, label='Predicted Values', stat='density', bins=29)\n",
    "        plt.title(\"Distribution of Real vs Predicted Values\")\n",
    "        plt.xlabel(\"Values\")\n",
    "        plt.ylabel(\"Density\")\n",
    "        plt.legend()\n",
    "        plt.show()\n"
   ]
  },
  {
   "cell_type": "code",
   "execution_count": 70,
   "id": "5dd27370-05a5-49a4-837d-70fc11db2d27",
   "metadata": {},
   "outputs": [
    {
     "name": "stdout",
     "output_type": "stream",
     "text": [
      "Final Ensemble MAE: 5.0602\n"
     ]
    },
    {
     "data": {
      "image/png": "[encoded data removed]",
      "text/plain": [
       "<Figure size 1000x600 with 1 Axes>"
      ]
     },
     "metadata": {},
     "output_type": "display_data"
    }
   ],
   "source": [
    "mae_scaled(y_val, final_ensemble_pred, prnt=True)"
   ]
  },
  {
   "cell_type": "code",
   "execution_count": 71,
   "id": "4e82595f-a5b2-45b9-9bd3-3a14d4f96e2f",
   "metadata": {},
   "outputs": [],
   "source": [
    "y_val = scale_back(y_val)\n",
    "final_ensemble_pred = scale_back(final_ensemble_pred)\n",
    "mistake = y_val - final_ensemble_pred"
   ]
  },
  {
   "cell_type": "code",
   "execution_count": 72,
   "id": "27e481f5-ff03-4bec-ad82-bc41ec6cfab9",
   "metadata": {},
   "outputs": [
    {
     "data": {
      "image/png": "[encoded data removed]",
      "text/plain": [
       "<Figure size 1000x600 with 1 Axes>"
      ]
     },
     "metadata": {},
     "output_type": "display_data"
    }
   ],
   "source": [
    "plt.figure(figsize=(10, 6))\n",
    "sns.histplot(mistake, color='yellow', kde=True, label='Mistake', stat='density', bins=mistake.nunique())\n",
    "plt.title(\"Mistake\")\n",
    "plt.xlabel(\"Values\")\n",
    "plt.ylabel(\"Density\")\n",
    "plt.legend()\n",
    "plt.show()"
   ]
  },
  {
   "cell_type": "markdown",
   "id": "4b6b686e-3349-466d-8fdf-b95ccc132ac4",
   "metadata": {},
   "source": [
    "# Producing predictions"
   ]
  },
  {
   "cell_type": "code",
   "execution_count": 74,
   "id": "2c0329c2-890d-4678-a760-580d840f2925",
   "metadata": {},
   "outputs": [],
   "source": [
    "# train models\n",
    "xgb_model.fit(X_encoded, y)\n",
    "lgb_model.fit(X_encoded, y)\n",
    "cat_model.fit(X_encoded, y)\n",
    "\n",
    "umx_encoded = umx.copy()\n",
    "\n",
    "umx_encoded = umx_encoded.drop(columns=['user_id'])\n",
    "\n",
    "# only columns X_encoded remain in umx_encoded\n",
    "umx_encoded = umx_encoded[[col for col in umx_encoded.columns if col in X_encoded.columns]]\n",
    "\n",
    "# columns in X_encoded that are not in umx_encoded\n",
    "missing_features = [col for col in X_encoded.columns if col not in umx_encoded.columns]\n",
    "if missing_features:\n",
    "    print(f\"Missing features in umx_encoded: {missing_features}\")\n",
    "\n",
    "cat_features = umx_encoded.select_dtypes(include='object').columns\n",
    "for col in cat_features:\n",
    "    umx_encoded[col] = LabelEncoder().fit_transform(umx_encoded[col].astype(str))"
   ]
  },
  {
   "cell_type": "code",
   "execution_count": 75,
   "id": "01e959f6-60e0-488e-b4fa-3b46f15088d4",
   "metadata": {},
   "outputs": [],
   "source": [
    "# predict output\n",
    "umx_xgb = xgb_model.predict(umx_encoded)\n",
    "umx_lgb = lgb_model.predict(umx_encoded)\n",
    "umx_cat = cat_model.predict(umx_encoded)\n",
    "\n",
    "umx_ensemble_pred = w_xgb * umx_xgb + w_lgb * umx_lgb + w_cat * umx_cat\n",
    "umx_pred_scal = scale_back(umx_ensemble_pred)"
   ]
  },
  {
   "cell_type": "code",
   "execution_count": 76,
   "id": "753c3ca0-184d-4760-985c-df30042b9d4d",
   "metadata": {},
   "outputs": [
    {
     "data": {
      "image/png": "[encoded data removed]",
      "text/plain": [
       "<Figure size 1000x600 with 1 Axes>"
      ]
     },
     "metadata": {},
     "output_type": "display_data"
    }
   ],
   "source": [
    "plt.figure(figsize=(10, 6))\n",
    "\n",
    "sns.histplot(umx_pred_scal, color='green', kde=True, stat='density', bins=29)\n",
    "\n",
    "plt.title(\"Distribution of Final Ensemble Predictions\")\n",
    "plt.xlabel(\"Prediction Values\")\n",
    "plt.ylabel(\"Density\")\n",
    "plt.show()"
   ]
  },
  {
   "cell_type": "code",
   "execution_count": 77,
   "id": "21900cda-3564-4059-acd4-0abb0f65e32a",
   "metadata": {},
   "outputs": [],
   "source": [
    "final_umx_output = pd.DataFrame(umx_pred_scal, columns=['prediction'])\n",
    "final_umx_output.to_csv(\"days_active_first_28_days_after_registration_predictions.csv\", index=False)"
   ]
  },
  {
   "cell_type": "markdown",
   "id": "21a648f7-0656-459f-b1d4-9661cdedc2ae",
   "metadata": {},
   "source": [
    "## Fruther improvements"
   ]
  },
  {
   "cell_type": "code",
   "execution_count": 79,
   "id": "47938b45-d995-4585-9ee3-b37aa21fa28a",
   "metadata": {},
   "outputs": [
    {
     "name": "stdout",
     "output_type": "stream",
     "text": [
      "Final Ensemble MAE: 5.0748\n"
     ]
    },
    {
     "data": {
      "image/png": "[encoded data removed]",
      "text/plain": [
       "<Figure size 1000x600 with 1 Axes>"
      ]
     },
     "metadata": {},
     "output_type": "display_data"
    }
   ],
   "source": [
    "# predicts mistake\n",
    "pred_xgb = xgb_model.predict(X_encoded)\n",
    "pred_lgb = lgb_model.predict(X_encoded)\n",
    "pred_cat = cat_model.predict(X_encoded)\n",
    "\n",
    "ensemble_2 = w_xgb * pred_xgb + w_lgb * pred_lgb + w_cat * pred_cat\n",
    "\n",
    "mae_scaled(y, ensemble_2, prnt=True)\n",
    "\n",
    "y_back = scale_back(y)\n",
    "pred_back = scale_back(ensemble_2)"
   ]
  },
  {
   "cell_type": "code",
   "execution_count": 80,
   "id": "bb7d589f-42aa-4575-a612-f6534d573e6a",
   "metadata": {},
   "outputs": [],
   "source": [
    "mistake = y_back - pred_back"
   ]
  },
  {
   "cell_type": "code",
   "execution_count": 81,
   "id": "cb49d438-a6b8-41a9-96bd-997587bf674b",
   "metadata": {},
   "outputs": [
    {
     "name": "stdout",
     "output_type": "stream",
     "text": [
      "0.9015453069793172\n"
     ]
    }
   ],
   "source": [
    "print(skew(mistake))"
   ]
  },
  {
   "cell_type": "code",
   "execution_count": 82,
   "id": "e6c4bb53-c0cd-4d5c-8e6b-c9448155dcb0",
   "metadata": {},
   "outputs": [
    {
     "data": {
      "image/png": "[encoded data removed]",
      "text/plain": [
       "<Figure size 1000x600 with 1 Axes>"
      ]
     },
     "metadata": {},
     "output_type": "display_data"
    }
   ],
   "source": [
    "plt.figure(figsize=(10, 6))\n",
    "sns.histplot(mistake, color='yellow', kde=True, label='Abs mistake', stat='density', bins=57)\n",
    "plt.title(\"Abs mistake\")\n",
    "plt.xlabel(\"Values\")\n",
    "plt.ylabel(\"Density\")\n",
    "plt.legend()\n",
    "plt.show()"
   ]
  },
  {
   "cell_type": "markdown",
   "id": "7c82b2e3-c9f6-45dc-a2bb-151dbf81f986",
   "metadata": {},
   "source": [
    "Objective: Classify data into mistake classes (I will use Regression, I used tearm classify to better discribe intention)"
   ]
  },
  {
   "cell_type": "code",
   "execution_count": 84,
   "id": "5b6184a9-1556-4e58-a504-009ad1affa1f",
   "metadata": {},
   "outputs": [],
   "source": [
    "X_train_2, X_val_2, y_train_2, y_val_2 = train_test_split(X_encoded, mistake, test_size=0.2, random_state=42)"
   ]
  },
  {
   "cell_type": "code",
   "execution_count": 85,
   "id": "f38c1e65-9fb2-4113-9dd8-570340626705",
   "metadata": {},
   "outputs": [],
   "source": [
    "def mae_calculator_2(model, trial=None):\n",
    "    aes = []\n",
    "    kf = KFold(n_splits=5, shuffle=True, random_state=42)\n",
    "    for train_index, test_index in kf.split(X_train):\n",
    "        X_train_fold, X_test_fold = X_train_2.iloc[train_index], X_train_2.iloc[test_index]\n",
    "        y_train_fold, y_test_fold = y_train_2.iloc[train_index], y_train_2.iloc[test_index]\n",
    "\n",
    "        model.fit(X_train_fold, y_train_fold)\n",
    "        y_pred = model.predict(X_test_fold)\n",
    "\n",
    "        ae = mean_absolute_error(y_test_fold, y_pred)\n",
    "        aes.append(ae)\n",
    "\n",
    "    mae = np.mean(aes)\n",
    "\n",
    "    if trial:\n",
    "        print(f\"Trial {trial.number} MAE: {mae:.4f}\")\n",
    "    else:\n",
    "        print(f\"MAE: {mae:.4f}\")\n",
    "\n",
    "    return mae\n",
    "\n",
    "def objective_cat_2(trial):\n",
    "    learning_rate = trial.suggest_float('learning_rate', 0.01, 0.3)\n",
    "    depth = trial.suggest_int('depth', 4, 10)\n",
    "    subsample = trial.suggest_float('subsample', 0.5, 1.0)\n",
    "    colsample_bylevel = trial.suggest_float('colsample_bylevel', 0.5, 1.0)\n",
    "    l2_leaf_reg = trial.suggest_float('l2_leaf_reg', 0.5, 3.0)\n",
    "    iterations = trial.suggest_int('iterations', 100, 200)\n",
    "\n",
    "    cat_model_2 = cb.CatBoostRegressor(\n",
    "        loss_function='MAE',\n",
    "        learning_rate=learning_rate,\n",
    "        depth=depth,\n",
    "        subsample=subsample,\n",
    "        colsample_bylevel=colsample_bylevel,\n",
    "        l2_leaf_reg=l2_leaf_reg,\n",
    "        iterations=iterations,\n",
    "        random_seed=42,\n",
    "        verbose=0\n",
    "    )\n",
    "    \n",
    "    return mae_calculator_2(cat_model_2, trial)"
   ]
  },
  {
   "cell_type": "code",
   "execution_count": 86,
   "id": "dda66847-9a1a-4a01-99c0-23bb0de52b4c",
   "metadata": {},
   "outputs": [
    {
     "name": "stderr",
     "output_type": "stream",
     "text": [
      "[I 2025-04-30 01:30:35,167] A new study created in memory with name: no-name-2ba90dee-14a6-4629-be93-8cb21c8e4d51\n",
      "[I 2025-04-30 01:31:41,158] Trial 0 finished with value: 5.163221338502358 and parameters: {'learning_rate': 0.11861663446573512, 'depth': 10, 'subsample': 0.8659969709057025, 'colsample_bylevel': 0.7993292420985183, 'l2_leaf_reg': 0.8900466011060912, 'iterations': 115}. Best is trial 0 with value: 5.163221338502358.\n"
     ]
    },
    {
     "name": "stdout",
     "output_type": "stream",
     "text": [
      "Trial 0 MAE: 5.1632\n"
     ]
    },
    {
     "name": "stderr",
     "output_type": "stream",
     "text": [
      "[I 2025-04-30 01:33:39,501] Trial 1 finished with value: 5.094477651413913 and parameters: {'learning_rate': 0.026844247528777843, 'depth': 10, 'subsample': 0.8005575058716043, 'colsample_bylevel': 0.8540362888980227, 'l2_leaf_reg': 0.5514612357395061, 'iterations': 197}. Best is trial 1 with value: 5.094477651413913.\n"
     ]
    },
    {
     "name": "stdout",
     "output_type": "stream",
     "text": [
      "Trial 1 MAE: 5.0945\n"
     ]
    },
    {
     "name": "stderr",
     "output_type": "stream",
     "text": [
      "[I 2025-04-30 01:33:50,298] Trial 2 finished with value: 5.089474266728392 and parameters: {'learning_rate': 0.2514083658321223, 'depth': 5, 'subsample': 0.5909124836035503, 'colsample_bylevel': 0.5917022549267169, 'l2_leaf_reg': 1.2606056073988443, 'iterations': 153}. Best is trial 2 with value: 5.089474266728392.\n"
     ]
    },
    {
     "name": "stdout",
     "output_type": "stream",
     "text": [
      "Trial 2 MAE: 5.0895\n"
     ]
    },
    {
     "name": "stderr",
     "output_type": "stream",
     "text": [
      "[I 2025-04-30 01:34:04,432] Trial 3 finished with value: 5.090186994928117 and parameters: {'learning_rate': 0.13526405540621358, 'depth': 6, 'subsample': 0.8059264473611898, 'colsample_bylevel': 0.569746930326021, 'l2_leaf_reg': 1.2303616213380453, 'iterations': 137}. Best is trial 2 with value: 5.089474266728392.\n"
     ]
    },
    {
     "name": "stdout",
     "output_type": "stream",
     "text": [
      "Trial 3 MAE: 5.0902\n"
     ]
    },
    {
     "name": "stderr",
     "output_type": "stream",
     "text": [
      "[I 2025-04-30 01:34:36,556] Trial 4 finished with value: 5.143859230857399 and parameters: {'learning_rate': 0.1422602954229404, 'depth': 9, 'subsample': 0.5998368910791798, 'colsample_bylevel': 0.7571172192068059, 'l2_leaf_reg': 1.9810364221551062, 'iterations': 104}. Best is trial 2 with value: 5.089474266728392.\n"
     ]
    },
    {
     "name": "stdout",
     "output_type": "stream",
     "text": [
      "Trial 4 MAE: 5.1439\n"
     ]
    },
    {
     "name": "stderr",
     "output_type": "stream",
     "text": [
      "[I 2025-04-30 01:34:49,381] Trial 5 finished with value: 5.088566309999786 and parameters: {'learning_rate': 0.1861880070514171, 'depth': 5, 'subsample': 0.5325257964926398, 'colsample_bylevel': 0.9744427686266666, 'l2_leaf_reg': 2.9140800826863984, 'iterations': 181}. Best is trial 5 with value: 5.088566309999786.\n"
     ]
    },
    {
     "name": "stdout",
     "output_type": "stream",
     "text": [
      "Trial 5 MAE: 5.0886\n"
     ]
    },
    {
     "name": "stderr",
     "output_type": "stream",
     "text": [
      "[I 2025-04-30 01:34:59,242] Trial 6 finished with value: 5.076337919540384 and parameters: {'learning_rate': 0.09833799306027749, 'depth': 4, 'subsample': 0.8421165132560784, 'colsample_bylevel': 0.7200762468698007, 'l2_leaf_reg': 0.8050955871119471, 'iterations': 150}. Best is trial 6 with value: 5.076337919540384.\n"
     ]
    },
    {
     "name": "stdout",
     "output_type": "stream",
     "text": [
      "Trial 6 MAE: 5.0763\n"
     ]
    },
    {
     "name": "stderr",
     "output_type": "stream",
     "text": [
      "[I 2025-04-30 01:36:25,282] Trial 7 finished with value: 5.0866450467419835 and parameters: {'learning_rate': 0.019972671123413333, 'depth': 10, 'subsample': 0.6293899908000085, 'colsample_bylevel': 0.831261142176991, 'l2_leaf_reg': 1.2792776902235274, 'iterations': 152}. Best is trial 6 with value: 5.076337919540384.\n"
     ]
    },
    {
     "name": "stdout",
     "output_type": "stream",
     "text": [
      "Trial 7 MAE: 5.0866\n"
     ]
    },
    {
     "name": "stderr",
     "output_type": "stream",
     "text": [
      "[I 2025-04-30 01:36:40,731] Trial 8 finished with value: 5.083314669766178 and parameters: {'learning_rate': 0.1685459810095511, 'depth': 5, 'subsample': 0.9847923138822793, 'colsample_bylevel': 0.8875664116805573, 'l2_leaf_reg': 2.848747353910473, 'iterations': 190}. Best is trial 6 with value: 5.076337919540384.\n"
     ]
    },
    {
     "name": "stdout",
     "output_type": "stream",
     "text": [
      "Trial 8 MAE: 5.0833\n"
     ]
    },
    {
     "name": "stderr",
     "output_type": "stream",
     "text": [
      "[I 2025-04-30 01:37:35,988] Trial 9 finished with value: 5.26051770819587 and parameters: {'learning_rate': 0.18339099385521468, 'depth': 10, 'subsample': 0.5442462510259598, 'colsample_bylevel': 0.5979914312095727, 'l2_leaf_reg': 0.6130682222763452, 'iterations': 132}. Best is trial 6 with value: 5.076337919540384.\n"
     ]
    },
    {
     "name": "stdout",
     "output_type": "stream",
     "text": [
      "Trial 9 MAE: 5.2605\n"
     ]
    },
    {
     "name": "stderr",
     "output_type": "stream",
     "text": [
      "[I 2025-04-30 01:37:59,010] Trial 10 finished with value: 5.091428216457288 and parameters: {'learning_rate': 0.08131738166823185, 'depth': 7, 'subsample': 0.9515481201295128, 'colsample_bylevel': 0.673425445703311, 'l2_leaf_reg': 1.9998030768243473, 'iterations': 169}. Best is trial 6 with value: 5.076337919540384.\n"
     ]
    },
    {
     "name": "stdout",
     "output_type": "stream",
     "text": [
      "Trial 10 MAE: 5.0914\n"
     ]
    },
    {
     "name": "stderr",
     "output_type": "stream",
     "text": [
      "[I 2025-04-30 01:38:11,652] Trial 11 finished with value: 5.0799984342074 and parameters: {'learning_rate': 0.22306370637753414, 'depth': 4, 'subsample': 0.9743245943075546, 'colsample_bylevel': 0.9365224020178178, 'l2_leaf_reg': 2.980972147729747, 'iterations': 170}. Best is trial 6 with value: 5.076337919540384.\n"
     ]
    },
    {
     "name": "stdout",
     "output_type": "stream",
     "text": [
      "Trial 11 MAE: 5.0800\n"
     ]
    },
    {
     "name": "stderr",
     "output_type": "stream",
     "text": [
      "[I 2025-04-30 01:38:22,505] Trial 12 finished with value: 5.080650022668779 and parameters: {'learning_rate': 0.2810573693178722, 'depth': 4, 'subsample': 0.9009799030302936, 'colsample_bylevel': 0.6894387621623929, 'l2_leaf_reg': 2.3904835488383664, 'iterations': 168}. Best is trial 6 with value: 5.076337919540384.\n"
     ]
    },
    {
     "name": "stdout",
     "output_type": "stream",
     "text": [
      "Trial 12 MAE: 5.0807\n"
     ]
    },
    {
     "name": "stderr",
     "output_type": "stream",
     "text": [
      "[I 2025-04-30 01:38:32,464] Trial 13 finished with value: 5.079424939371268 and parameters: {'learning_rate': 0.22411583662091863, 'depth': 4, 'subsample': 0.6900889974935344, 'colsample_bylevel': 0.9929294675046495, 'l2_leaf_reg': 2.446008482921456, 'iterations': 168}. Best is trial 6 with value: 5.076337919540384.\n"
     ]
    },
    {
     "name": "stdout",
     "output_type": "stream",
     "text": [
      "Trial 13 MAE: 5.0794\n"
     ]
    },
    {
     "name": "stderr",
     "output_type": "stream",
     "text": [
      "[I 2025-04-30 01:38:50,035] Trial 14 finished with value: 5.089999204206824 and parameters: {'learning_rate': 0.08331067205387926, 'depth': 7, 'subsample': 0.6987936278139653, 'colsample_bylevel': 0.7063661045557401, 'l2_leaf_reg': 1.7081488697848437, 'iterations': 138}. Best is trial 6 with value: 5.076337919540384.\n"
     ]
    },
    {
     "name": "stdout",
     "output_type": "stream",
     "text": [
      "Trial 14 MAE: 5.0900\n"
     ]
    },
    {
     "name": "stderr",
     "output_type": "stream",
     "text": [
      "[I 2025-04-30 01:38:59,448] Trial 15 finished with value: 5.077905942028434 and parameters: {'learning_rate': 0.22196427766799065, 'depth': 4, 'subsample': 0.6850655980715776, 'colsample_bylevel': 0.773950191333736, 'l2_leaf_reg': 2.494987172697543, 'iterations': 157}. Best is trial 6 with value: 5.076337919540384.\n"
     ]
    },
    {
     "name": "stdout",
     "output_type": "stream",
     "text": [
      "Trial 15 MAE: 5.0779\n"
     ]
    },
    {
     "name": "stderr",
     "output_type": "stream",
     "text": [
      "[I 2025-04-30 01:39:11,431] Trial 16 finished with value: 5.082201935795238 and parameters: {'learning_rate': 0.07825799921137093, 'depth': 6, 'subsample': 0.7421879273099838, 'colsample_bylevel': 0.5150634695146866, 'l2_leaf_reg': 1.596523456239614, 'iterations': 124}. Best is trial 6 with value: 5.076337919540384.\n"
     ]
    },
    {
     "name": "stdout",
     "output_type": "stream",
     "text": [
      "Trial 16 MAE: 5.0822\n"
     ]
    },
    {
     "name": "stderr",
     "output_type": "stream",
     "text": [
      "[I 2025-04-30 01:39:40,158] Trial 17 finished with value: 5.237355860978865 and parameters: {'learning_rate': 0.28629804099472245, 'depth': 8, 'subsample': 0.8059244341834839, 'colsample_bylevel': 0.7423166184115674, 'l2_leaf_reg': 2.466569679424996, 'iterations': 148}. Best is trial 6 with value: 5.076337919540384.\n"
     ]
    },
    {
     "name": "stdout",
     "output_type": "stream",
     "text": [
      "Trial 17 MAE: 5.2374\n"
     ]
    },
    {
     "name": "stderr",
     "output_type": "stream",
     "text": [
      "[I 2025-04-30 01:39:54,791] Trial 18 finished with value: 5.089169022615882 and parameters: {'learning_rate': 0.11080578963504673, 'depth': 6, 'subsample': 0.6617037012714196, 'colsample_bylevel': 0.6473817814014824, 'l2_leaf_reg': 2.176362856512217, 'iterations': 158}. Best is trial 6 with value: 5.076337919540384.\n"
     ]
    },
    {
     "name": "stdout",
     "output_type": "stream",
     "text": [
      "Trial 18 MAE: 5.0892\n"
     ]
    },
    {
     "name": "stderr",
     "output_type": "stream",
     "text": [
      "[I 2025-04-30 01:40:04,040] Trial 19 finished with value: 5.08016084992847 and parameters: {'learning_rate': 0.21472225268550932, 'depth': 4, 'subsample': 0.7423578866620045, 'colsample_bylevel': 0.7708290067212532, 'l2_leaf_reg': 0.925922020496044, 'iterations': 142}. Best is trial 6 with value: 5.076337919540384.\n"
     ]
    },
    {
     "name": "stdout",
     "output_type": "stream",
     "text": [
      "Trial 19 MAE: 5.0802\n"
     ]
    },
    {
     "name": "stderr",
     "output_type": "stream",
     "text": [
      "[I 2025-04-30 01:40:15,986] Trial 20 finished with value: 5.076388350119719 and parameters: {'learning_rate': 0.05443274400481308, 'depth': 5, 'subsample': 0.8604484922881379, 'colsample_bylevel': 0.6374264744976313, 'l2_leaf_reg': 2.6690526341884113, 'iterations': 126}. Best is trial 6 with value: 5.076337919540384.\n"
     ]
    },
    {
     "name": "stdout",
     "output_type": "stream",
     "text": [
      "Trial 20 MAE: 5.0764\n"
     ]
    },
    {
     "name": "stderr",
     "output_type": "stream",
     "text": [
      "[I 2025-04-30 01:40:26,227] Trial 21 finished with value: 5.076413878696611 and parameters: {'learning_rate': 0.05408648648662848, 'depth': 5, 'subsample': 0.8707019854145864, 'colsample_bylevel': 0.6391686706406166, 'l2_leaf_reg': 2.665866247233266, 'iterations': 123}. Best is trial 6 with value: 5.076337919540384.\n"
     ]
    },
    {
     "name": "stdout",
     "output_type": "stream",
     "text": [
      "Trial 21 MAE: 5.0764\n"
     ]
    },
    {
     "name": "stderr",
     "output_type": "stream",
     "text": [
      "[I 2025-04-30 01:40:36,173] Trial 22 finished with value: 5.076784853270455 and parameters: {'learning_rate': 0.05396372133829436, 'depth': 5, 'subsample': 0.8878179731595285, 'colsample_bylevel': 0.6421816882586565, 'l2_leaf_reg': 2.662336400479703, 'iterations': 120}. Best is trial 6 with value: 5.076337919540384.\n"
     ]
    },
    {
     "name": "stdout",
     "output_type": "stream",
     "text": [
      "Trial 22 MAE: 5.0768\n"
     ]
    },
    {
     "name": "stderr",
     "output_type": "stream",
     "text": [
      "[I 2025-04-30 01:40:46,255] Trial 23 finished with value: 5.078574135328851 and parameters: {'learning_rate': 0.05095847844432639, 'depth': 6, 'subsample': 0.8508061898306275, 'colsample_bylevel': 0.5138448708784629, 'l2_leaf_reg': 2.7457456670472915, 'iterations': 106}. Best is trial 6 with value: 5.076337919540384.\n"
     ]
    },
    {
     "name": "stdout",
     "output_type": "stream",
     "text": [
      "Trial 23 MAE: 5.0786\n"
     ]
    },
    {
     "name": "stderr",
     "output_type": "stream",
     "text": [
      "[I 2025-04-30 01:40:57,089] Trial 24 finished with value: 5.076397114874758 and parameters: {'learning_rate': 0.050679022508606925, 'depth': 5, 'subsample': 0.9350716666156403, 'colsample_bylevel': 0.6444816056120761, 'l2_leaf_reg': 2.1094609576504544, 'iterations': 128}. Best is trial 6 with value: 5.076337919540384.\n"
     ]
    },
    {
     "name": "stdout",
     "output_type": "stream",
     "text": [
      "Trial 24 MAE: 5.0764\n"
     ]
    },
    {
     "name": "stderr",
     "output_type": "stream",
     "text": [
      "[I 2025-04-30 01:41:08,398] Trial 25 finished with value: 5.079321483209026 and parameters: {'learning_rate': 0.10617023550190112, 'depth': 5, 'subsample': 0.9210525917624132, 'colsample_bylevel': 0.7185796413817507, 'l2_leaf_reg': 2.1570316664318416, 'iterations': 132}. Best is trial 6 with value: 5.076337919540384.\n"
     ]
    },
    {
     "name": "stdout",
     "output_type": "stream",
     "text": [
      "Trial 25 MAE: 5.0793\n"
     ]
    },
    {
     "name": "stderr",
     "output_type": "stream",
     "text": [
      "[I 2025-04-30 01:41:22,856] Trial 26 finished with value: 5.079991736735088 and parameters: {'learning_rate': 0.04087834486482196, 'depth': 7, 'subsample': 0.8339644564074085, 'colsample_bylevel': 0.556575757223256, 'l2_leaf_reg': 1.5075165812405946, 'iterations': 109}. Best is trial 6 with value: 5.076337919540384.\n"
     ]
    },
    {
     "name": "stdout",
     "output_type": "stream",
     "text": [
      "Trial 26 MAE: 5.0800\n"
     ]
    },
    {
     "name": "stderr",
     "output_type": "stream",
     "text": [
      "[I 2025-04-30 01:41:47,024] Trial 27 finished with value: 5.093226847407275 and parameters: {'learning_rate': 0.08123822382373282, 'depth': 8, 'subsample': 0.9253085663206511, 'colsample_bylevel': 0.6153856269117716, 'l2_leaf_reg': 2.009034436350705, 'iterations': 127}. Best is trial 6 with value: 5.076337919540384.\n"
     ]
    },
    {
     "name": "stdout",
     "output_type": "stream",
     "text": [
      "Trial 27 MAE: 5.0932\n"
     ]
    },
    {
     "name": "stderr",
     "output_type": "stream",
     "text": [
      "[I 2025-04-30 01:41:58,826] Trial 28 finished with value: 5.083064866527144 and parameters: {'learning_rate': 0.09946692772980445, 'depth': 6, 'subsample': 0.778698462073285, 'colsample_bylevel': 0.6724064724505322, 'l2_leaf_reg': 2.243983247451729, 'iterations': 116}. Best is trial 6 with value: 5.076337919540384.\n"
     ]
    },
    {
     "name": "stdout",
     "output_type": "stream",
     "text": [
      "Trial 28 MAE: 5.0831\n"
     ]
    },
    {
     "name": "stderr",
     "output_type": "stream",
     "text": [
      "[I 2025-04-30 01:42:09,173] Trial 29 finished with value: 5.077955659786811 and parameters: {'learning_rate': 0.13056743260997716, 'depth': 4, 'subsample': 0.8441129683834311, 'colsample_bylevel': 0.8091131358276352, 'l2_leaf_reg': 0.8737298343651904, 'iterations': 141}. Best is trial 6 with value: 5.076337919540384.\n"
     ]
    },
    {
     "name": "stdout",
     "output_type": "stream",
     "text": [
      "Trial 29 MAE: 5.0780\n"
     ]
    },
    {
     "name": "stderr",
     "output_type": "stream",
     "text": [
      "[I 2025-04-30 01:42:19,739] Trial 30 finished with value: 5.075400568117585 and parameters: {'learning_rate': 0.015310537446248385, 'depth': 5, 'subsample': 0.9434085769780712, 'colsample_bylevel': 0.7072958782974688, 'l2_leaf_reg': 1.7577278038374111, 'iterations': 111}. Best is trial 30 with value: 5.075400568117585.\n"
     ]
    },
    {
     "name": "stdout",
     "output_type": "stream",
     "text": [
      "Trial 30 MAE: 5.0754\n"
     ]
    },
    {
     "name": "stderr",
     "output_type": "stream",
     "text": [
      "[I 2025-04-30 01:42:29,873] Trial 31 finished with value: 5.075196670696361 and parameters: {'learning_rate': 0.01139968333073722, 'depth': 5, 'subsample': 0.9445813967570695, 'colsample_bylevel': 0.7101057534780753, 'l2_leaf_reg': 1.8231721417554858, 'iterations': 113}. Best is trial 31 with value: 5.075196670696361.\n"
     ]
    },
    {
     "name": "stdout",
     "output_type": "stream",
     "text": [
      "Trial 31 MAE: 5.0752\n"
     ]
    },
    {
     "name": "stderr",
     "output_type": "stream",
     "text": [
      "[I 2025-04-30 01:42:37,744] Trial 32 finished with value: 5.07496852954948 and parameters: {'learning_rate': 0.012605956111289417, 'depth': 4, 'subsample': 0.9940045131925652, 'colsample_bylevel': 0.7124507395023151, 'l2_leaf_reg': 1.8225979687809004, 'iterations': 112}. Best is trial 32 with value: 5.07496852954948.\n"
     ]
    },
    {
     "name": "stdout",
     "output_type": "stream",
     "text": [
      "Trial 32 MAE: 5.0750\n"
     ]
    },
    {
     "name": "stderr",
     "output_type": "stream",
     "text": [
      "[I 2025-04-30 01:42:44,710] Trial 33 finished with value: 5.074909748944519 and parameters: {'learning_rate': 0.018098208953234787, 'depth': 4, 'subsample': 0.9993655518890346, 'colsample_bylevel': 0.7390310897251648, 'l2_leaf_reg': 1.8618456804669452, 'iterations': 100}. Best is trial 33 with value: 5.074909748944519.\n"
     ]
    },
    {
     "name": "stdout",
     "output_type": "stream",
     "text": [
      "Trial 33 MAE: 5.0749\n"
     ]
    },
    {
     "name": "stderr",
     "output_type": "stream",
     "text": [
      "[I 2025-04-30 01:42:52,764] Trial 34 finished with value: 5.0748583293050515 and parameters: {'learning_rate': 0.011228832825424015, 'depth': 4, 'subsample': 0.9925568756073098, 'colsample_bylevel': 0.8096221127124974, 'l2_leaf_reg': 1.846370984678076, 'iterations': 112}. Best is trial 34 with value: 5.0748583293050515.\n"
     ]
    },
    {
     "name": "stdout",
     "output_type": "stream",
     "text": [
      "Trial 34 MAE: 5.0749\n"
     ]
    },
    {
     "name": "stderr",
     "output_type": "stream",
     "text": [
      "[I 2025-04-30 01:42:59,943] Trial 35 finished with value: 5.07476985134975 and parameters: {'learning_rate': 0.010588915257309577, 'depth': 4, 'subsample': 0.9935220720506448, 'colsample_bylevel': 0.8000793047294962, 'l2_leaf_reg': 1.7901996889998326, 'iterations': 100}. Best is trial 35 with value: 5.07476985134975.\n"
     ]
    },
    {
     "name": "stdout",
     "output_type": "stream",
     "text": [
      "Trial 35 MAE: 5.0748\n"
     ]
    },
    {
     "name": "stderr",
     "output_type": "stream",
     "text": [
      "[I 2025-04-30 01:43:08,031] Trial 36 finished with value: 5.07548560590538 and parameters: {'learning_rate': 0.03260880210585364, 'depth': 4, 'subsample': 0.9968170894296671, 'colsample_bylevel': 0.8688020350217301, 'l2_leaf_reg': 1.5442643878914675, 'iterations': 100}. Best is trial 35 with value: 5.07476985134975.\n"
     ]
    },
    {
     "name": "stdout",
     "output_type": "stream",
     "text": [
      "Trial 36 MAE: 5.0755\n"
     ]
    },
    {
     "name": "stderr",
     "output_type": "stream",
     "text": [
      "[I 2025-04-30 01:43:15,562] Trial 37 finished with value: 5.074967558675737 and parameters: {'learning_rate': 0.02993926858428582, 'depth': 4, 'subsample': 0.9655839991886284, 'colsample_bylevel': 0.8019414711939116, 'l2_leaf_reg': 1.3033227743507587, 'iterations': 101}. Best is trial 35 with value: 5.07476985134975.\n"
     ]
    },
    {
     "name": "stdout",
     "output_type": "stream",
     "text": [
      "Trial 37 MAE: 5.0750\n"
     ]
    },
    {
     "name": "stderr",
     "output_type": "stream",
     "text": [
      "[I 2025-04-30 01:43:22,829] Trial 38 finished with value: 5.075250910175272 and parameters: {'learning_rate': 0.03495242334234464, 'depth': 4, 'subsample': 0.9636367167734342, 'colsample_bylevel': 0.8110042136417784, 'l2_leaf_reg': 1.135460986130213, 'iterations': 100}. Best is trial 35 with value: 5.07476985134975.\n"
     ]
    },
    {
     "name": "stdout",
     "output_type": "stream",
     "text": [
      "Trial 38 MAE: 5.0753\n"
     ]
    },
    {
     "name": "stderr",
     "output_type": "stream",
     "text": [
      "[I 2025-04-30 01:43:30,459] Trial 39 finished with value: 5.076058825270037 and parameters: {'learning_rate': 0.06594843288552554, 'depth': 4, 'subsample': 0.8997815455275464, 'colsample_bylevel': 0.9028287702065113, 'l2_leaf_reg': 1.3980492288448232, 'iterations': 106}. Best is trial 35 with value: 5.07476985134975.\n"
     ]
    },
    {
     "name": "stdout",
     "output_type": "stream",
     "text": [
      "Trial 39 MAE: 5.0761\n"
     ]
    },
    {
     "name": "stderr",
     "output_type": "stream",
     "text": [
      "[I 2025-04-30 01:44:11,585] Trial 40 finished with value: 5.08384593786054 and parameters: {'learning_rate': 0.030455149282517933, 'depth': 9, 'subsample': 0.9644751238412281, 'colsample_bylevel': 0.8310690365993191, 'l2_leaf_reg': 1.1396572716271278, 'iterations': 119}. Best is trial 35 with value: 5.07476985134975.\n"
     ]
    },
    {
     "name": "stdout",
     "output_type": "stream",
     "text": [
      "Trial 40 MAE: 5.0838\n"
     ]
    },
    {
     "name": "stderr",
     "output_type": "stream",
     "text": [
      "[I 2025-04-30 01:44:19,549] Trial 41 finished with value: 5.0747643109579155 and parameters: {'learning_rate': 0.010290826566978268, 'depth': 4, 'subsample': 0.9954917419052026, 'colsample_bylevel': 0.7462314917951588, 'l2_leaf_reg': 1.8560475536944527, 'iterations': 104}. Best is trial 41 with value: 5.0747643109579155.\n"
     ]
    },
    {
     "name": "stdout",
     "output_type": "stream",
     "text": [
      "Trial 41 MAE: 5.0748\n"
     ]
    },
    {
     "name": "stderr",
     "output_type": "stream",
     "text": [
      "[I 2025-04-30 01:44:26,923] Trial 42 finished with value: 5.074877210502767 and parameters: {'learning_rate': 0.02626852031009865, 'depth': 4, 'subsample': 0.9991417930830018, 'colsample_bylevel': 0.7810200893234792, 'l2_leaf_reg': 1.6648451469573753, 'iterations': 103}. Best is trial 41 with value: 5.0747643109579155.\n"
     ]
    },
    {
     "name": "stdout",
     "output_type": "stream",
     "text": [
      "Trial 42 MAE: 5.0749\n"
     ]
    },
    {
     "name": "stderr",
     "output_type": "stream",
     "text": [
      "[I 2025-04-30 01:44:34,898] Trial 43 finished with value: 5.074962380183403 and parameters: {'learning_rate': 0.019883102926016718, 'depth': 4, 'subsample': 0.9884358492650956, 'colsample_bylevel': 0.74756310296634, 'l2_leaf_reg': 1.915981818935816, 'iterations': 105}. Best is trial 41 with value: 5.0747643109579155.\n"
     ]
    },
    {
     "name": "stdout",
     "output_type": "stream",
     "text": [
      "Trial 43 MAE: 5.0750\n"
     ]
    },
    {
     "name": "stderr",
     "output_type": "stream",
     "text": [
      "[I 2025-04-30 01:44:42,328] Trial 44 finished with value: 5.074917462438165 and parameters: {'learning_rate': 0.039493391593688545, 'depth': 4, 'subsample': 0.9999533823185418, 'colsample_bylevel': 0.7797177274915615, 'l2_leaf_reg': 1.9314108876374116, 'iterations': 108}. Best is trial 41 with value: 5.0747643109579155.\n"
     ]
    },
    {
     "name": "stdout",
     "output_type": "stream",
     "text": [
      "Trial 44 MAE: 5.0749\n"
     ]
    },
    {
     "name": "stderr",
     "output_type": "stream",
     "text": [
      "[I 2025-04-30 01:44:52,430] Trial 45 finished with value: 5.076331231239825 and parameters: {'learning_rate': 0.06585224163630402, 'depth': 5, 'subsample': 0.9245767649862406, 'colsample_bylevel': 0.8425298917057048, 'l2_leaf_reg': 1.6548614012966627, 'iterations': 118}. Best is trial 41 with value: 5.0747643109579155.\n"
     ]
    },
    {
     "name": "stdout",
     "output_type": "stream",
     "text": [
      "Trial 45 MAE: 5.0763\n"
     ]
    },
    {
     "name": "stderr",
     "output_type": "stream",
     "text": [
      "[I 2025-04-30 01:45:09,088] Trial 46 finished with value: 5.076292784117148 and parameters: {'learning_rate': 0.02453776889847826, 'depth': 5, 'subsample': 0.9735784251228188, 'colsample_bylevel': 0.7346262041081472, 'l2_leaf_reg': 2.2942806106235003, 'iterations': 200}. Best is trial 41 with value: 5.0747643109579155.\n"
     ]
    },
    {
     "name": "stdout",
     "output_type": "stream",
     "text": [
      "Trial 46 MAE: 5.0763\n"
     ]
    },
    {
     "name": "stderr",
     "output_type": "stream",
     "text": [
      "[I 2025-04-30 01:45:16,418] Trial 47 finished with value: 5.075746383618769 and parameters: {'learning_rate': 0.06575284054508504, 'depth': 4, 'subsample': 0.9064708108873923, 'colsample_bylevel': 0.8682390639376094, 'l2_leaf_reg': 1.4902237416395911, 'iterations': 104}. Best is trial 41 with value: 5.0747643109579155.\n"
     ]
    },
    {
     "name": "stdout",
     "output_type": "stream",
     "text": [
      "Trial 47 MAE: 5.0757\n"
     ]
    },
    {
     "name": "stderr",
     "output_type": "stream",
     "text": [
      "[I 2025-04-30 01:45:24,443] Trial 48 finished with value: 5.074899020257517 and parameters: {'learning_rate': 0.01198433945133625, 'depth': 4, 'subsample': 0.9550381223629925, 'colsample_bylevel': 0.7833852895309387, 'l2_leaf_reg': 1.8314974482811712, 'iterations': 116}. Best is trial 41 with value: 5.0747643109579155.\n"
     ]
    },
    {
     "name": "stdout",
     "output_type": "stream",
     "text": [
      "Trial 48 MAE: 5.0749\n"
     ]
    },
    {
     "name": "stderr",
     "output_type": "stream",
     "text": [
      "[I 2025-04-30 01:45:32,584] Trial 49 finished with value: 5.07480205371936 and parameters: {'learning_rate': 0.011322374839476249, 'depth': 4, 'subsample': 0.9582664347831222, 'colsample_bylevel': 0.7863125826867071, 'l2_leaf_reg': 2.055845813693071, 'iterations': 114}. Best is trial 41 with value: 5.0747643109579155.\n"
     ]
    },
    {
     "name": "stdout",
     "output_type": "stream",
     "text": [
      "Trial 49 MAE: 5.0748\n",
      "Best hyperparameters for CatBoost:  {'learning_rate': 0.010290826566978268, 'depth': 4, 'subsample': 0.9954917419052026, 'colsample_bylevel': 0.7462314917951588, 'l2_leaf_reg': 1.8560475536944527, 'iterations': 104}\n"
     ]
    }
   ],
   "source": [
    "study_cat_2 = optuna.create_study(direction='minimize', sampler=optuna.samplers.TPESampler(seed=42))\n",
    "study_cat_2.optimize(objective_cat_2, n_trials=50)\n",
    "print(\"Best hyperparameters for CatBoost: \", study_cat_2.best_params)"
   ]
  },
  {
   "cell_type": "markdown",
   "id": "998cffe9-c6e4-4331-ba5f-9b1867358c60",
   "metadata": {},
   "source": [
    "I don't want to risk overfitting so I will use one of the tree based models for error prediction. After initial testing catboost showed the best results so I will be proceeding with that model."
   ]
  },
  {
   "cell_type": "code",
   "execution_count": 88,
   "id": "386d8404-b46f-4e26-85a3-9a814a067ccc",
   "metadata": {},
   "outputs": [
    {
     "name": "stdout",
     "output_type": "stream",
     "text": [
      "MAE: 5.1812\n"
     ]
    }
   ],
   "source": [
    "cat_best_params_2 = study_cat_2.best_params\n",
    "\n",
    "cat_model_2 = cb.CatBoostRegressor(\n",
    "    loss_function='MAE',\n",
    "    learning_rate=cat_best_params_2['learning_rate'],\n",
    "    depth=cat_best_params_2['depth'],\n",
    "    subsample=cat_best_params_2['subsample'],\n",
    "    colsample_bylevel=cat_best_params_2['colsample_bylevel'],\n",
    "    l2_leaf_reg=cat_best_params_2['l2_leaf_reg'],\n",
    "    iterations=cat_best_params_2['iterations'],\n",
    "    random_seed=42,\n",
    "    verbose=0\n",
    ")\n",
    "\n",
    "cat_model_2.fit(X_train_2, y_train_2)\n",
    "pred_cat_2 = cat_model.predict(X_val_2)\n",
    "\n",
    "# MAE\n",
    "mae_cat_2 = mean_absolute_error(y_val_2, pred_cat_2)\n",
    "\n",
    "print(f\"MAE: {mae_cat_2:.4f}\")"
   ]
  },
  {
   "cell_type": "code",
   "execution_count": 89,
   "id": "638db5bd-07f1-41a5-938c-3155d3cc0c7d",
   "metadata": {},
   "outputs": [],
   "source": [
    "cat_model_2.fit(X_encoded, mistake)\n",
    "pred_mistake = cat_model_2.predict(X_encoded)"
   ]
  },
  {
   "cell_type": "code",
   "execution_count": 90,
   "id": "fd00da8f-6280-48c8-8d4d-6d67bf84bd2c",
   "metadata": {},
   "outputs": [],
   "source": [
    "pred_mistake = pred_mistake.round()"
   ]
  },
  {
   "cell_type": "code",
   "execution_count": 91,
   "id": "5e8b11c1-2405-40fa-9889-1b9a6db132a1",
   "metadata": {},
   "outputs": [
    {
     "data": {
      "text/plain": [
       "5.07476"
      ]
     },
     "execution_count": 91,
     "metadata": {},
     "output_type": "execute_result"
    }
   ],
   "source": [
    "# mistake if residual prediction is used\n",
    "y_predict = pred_back - pred_mistake\n",
    "mean_absolute_error(y_back, y_predict)"
   ]
  },
  {
   "cell_type": "markdown",
   "id": "b58d2dd1-2759-4ea5-ac3e-6da98b21e516",
   "metadata": {},
   "source": [
    "MAE increased slightly so I will proceed without this adjustment"
   ]
  }
 ],
 "metadata": {
  "kernelspec": {
   "display_name": "Python [conda env:Projects]",
   "language": "python",
   "name": "conda-env-Projects-py"
  },
  "language_info": {
   "codemirror_mode": {
    "name": "ipython",
    "version": 3
   },
   "file_extension": ".py",
   "mimetype": "text/x-python",
   "name": "python",
   "nbconvert_exporter": "python",
   "pygments_lexer": "ipython3",
   "version": "3.13.2"
  }
 },
 "nbformat": 4,
 "nbformat_minor": 5
}
